{
 "cells": [
  {
   "cell_type": "markdown",
   "id": "945b83ae-cfd9-4371-b098-0e7381717b9a",
   "metadata": {},
   "source": [
    "# Ceci est mon premier script"
   ]
  },
  {
   "cell_type": "markdown",
   "id": "21ebd819-3029-47ea-a90b-b60461b7ddd4",
   "metadata": {},
   "source": [
    "On va disséquer un script"
   ]
  },
  {
   "cell_type": "code",
   "execution_count": 1,
   "id": "5b1aec97-2c84-4a72-b2c8-b35ae1cb9b07",
   "metadata": {},
   "outputs": [
    {
     "name": "stdin",
     "output_type": "stream",
     "text": [
      "Écrivez une phrase:  Ceci est ma phrase\n"
     ]
    },
    {
     "name": "stdout",
     "output_type": "stream",
     "text": [
      "Proportion de mots avec 4 lettres ou plus : 50.0\n"
     ]
    }
   ],
   "source": [
    "sortie_fichier = True # créer une variable\n",
    "nombre_min_lettres = 4 # créer une autre variable\n",
    "phrase = input(\"Écrivez une phrase: \") # créer une variable avec une entrée clavier\n",
    "liste_mots = phrase.split(\" \")\n",
    "nombre_mots = len(liste_mots)\n",
    "if len(phrase) == 0:\n",
    "    print(\"Vous n'avez rien écrit\")\n",
    "else:\n",
    "    compteur = 0\n",
    "    for i in liste_mots:\n",
    "        if len(i) >= nombre_min_lettres:\n",
    "            compteur+=1\n",
    "    proportion = round(100*compteur/nombre_mots,2)\n",
    "    informations = {\"Total\":compteur,\"Proportion\":proportion,\n",
    "                   \"Phrase\":phrase,\"Seuil\":nombre_min_lettres}\n",
    "    sortie = f\"Proportion de mots avec {nombre_min_lettres} lettres ou plus : {proportion}\"\n",
    "    print(sortie)\n",
    "    if sortie_fichier:\n",
    "        with open(\"resultat.txt\",\"w\") as f:\n",
    "            f.write(str(informations))"
   ]
  },
  {
   "cell_type": "markdown",
   "id": "d0cecb9a-1102-40f3-a958-f01c34aacc4b",
   "metadata": {},
   "source": [
    "## Première ligne"
   ]
  },
  {
   "cell_type": "code",
   "execution_count": 2,
   "id": "527de8e7-0529-4793-aaf4-b6b5fbf0a31b",
   "metadata": {},
   "outputs": [],
   "source": [
    "sortie_fichier = True"
   ]
  },
  {
   "cell_type": "code",
   "execution_count": 3,
   "id": "164c2764-dc6b-4b15-9272-9eb9b28c2032",
   "metadata": {},
   "outputs": [
    {
     "data": {
      "text/plain": [
       "True"
      ]
     },
     "execution_count": 3,
     "metadata": {},
     "output_type": "execute_result"
    }
   ],
   "source": [
    "sortie_fichier"
   ]
  },
  {
   "cell_type": "markdown",
   "id": "0ce96d0d-8945-4118-b025-531c9e59aeb5",
   "metadata": {},
   "source": [
    "La fonction `type`\n",
    "\n",
    "- la fonction c'est type\n",
    "- appliquer une fonction (l'utiliser) consiste à définir ce qu'elle prend en entrée entre parenthèse"
   ]
  },
  {
   "cell_type": "code",
   "execution_count": 4,
   "id": "ecd4a948-30c8-46f5-98df-c7cbd008f616",
   "metadata": {},
   "outputs": [
    {
     "data": {
      "text/plain": [
       "bool"
      ]
     },
     "execution_count": 4,
     "metadata": {},
     "output_type": "execute_result"
    }
   ],
   "source": [
    "type(sortie_fichier)"
   ]
  },
  {
   "cell_type": "code",
   "execution_count": 6,
   "id": "8011e273-b6b3-4db6-b87e-0c385be09961",
   "metadata": {},
   "outputs": [
    {
     "data": {
      "text/plain": [
       "int"
      ]
     },
     "execution_count": 6,
     "metadata": {},
     "output_type": "execute_result"
    }
   ],
   "source": [
    "type(1)"
   ]
  },
  {
   "cell_type": "markdown",
   "id": "7855cdf7-fb77-4e70-b3de-1119cf23fda7",
   "metadata": {},
   "source": [
    "## Deuxième ligne"
   ]
  },
  {
   "cell_type": "code",
   "execution_count": 7,
   "id": "a47f489d-e6f0-4342-b96c-a5758a3abf69",
   "metadata": {},
   "outputs": [],
   "source": [
    "nombre_min_lettres = 4"
   ]
  },
  {
   "cell_type": "code",
   "execution_count": 8,
   "id": "7c2f4520-a865-4a6e-a40c-e0d547fc2c1c",
   "metadata": {},
   "outputs": [
    {
     "data": {
      "text/plain": [
       "int"
      ]
     },
     "execution_count": 8,
     "metadata": {},
     "output_type": "execute_result"
    }
   ],
   "source": [
    "type(nombre_min_lettres)"
   ]
  },
  {
   "cell_type": "code",
   "execution_count": 10,
   "id": "077fc0e4-f2de-4e96-a657-7478a5306e81",
   "metadata": {},
   "outputs": [
    {
     "ename": "NameError",
     "evalue": "name 'nombre_min_lettre' is not defined",
     "output_type": "error",
     "traceback": [
      "\u001b[0;31m---------------------------------------------------------------------------\u001b[0m",
      "\u001b[0;31mNameError\u001b[0m                                 Traceback (most recent call last)",
      "Cell \u001b[0;32mIn[10], line 1\u001b[0m\n\u001b[0;32m----> 1\u001b[0m nombre_min_lettre\n",
      "\u001b[0;31mNameError\u001b[0m: name 'nombre_min_lettre' is not defined"
     ]
    }
   ],
   "source": [
    "nombre_min_lettre"
   ]
  },
  {
   "cell_type": "markdown",
   "id": "f2a9af95-6562-4e33-91a1-8798a194484c",
   "metadata": {},
   "source": [
    "Important de lire les erreurs"
   ]
  },
  {
   "cell_type": "markdown",
   "id": "920eb37f-cf65-4891-830b-67290eafafbf",
   "metadata": {},
   "source": [
    "## Parenthèse : les opérations avec Python\n",
    "\n",
    "Attention au transtypage"
   ]
  },
  {
   "cell_type": "code",
   "execution_count": 11,
   "id": "3b04b1f5-902c-4a67-93d3-2fd7dd03b4e5",
   "metadata": {},
   "outputs": [
    {
     "data": {
      "text/plain": [
       "True"
      ]
     },
     "execution_count": 11,
     "metadata": {},
     "output_type": "execute_result"
    }
   ],
   "source": [
    "sortie_fichier"
   ]
  },
  {
   "cell_type": "code",
   "execution_count": 13,
   "id": "38c7b446-fe8a-4dd6-b593-d36db9e2c3df",
   "metadata": {},
   "outputs": [
    {
     "data": {
      "text/plain": [
       "4"
      ]
     },
     "execution_count": 13,
     "metadata": {},
     "output_type": "execute_result"
    }
   ],
   "source": [
    "nombre_min_lettres"
   ]
  },
  {
   "cell_type": "code",
   "execution_count": 14,
   "id": "d632dbb2-bc9a-4a55-a548-613ce8b7d8b9",
   "metadata": {},
   "outputs": [
    {
     "data": {
      "text/plain": [
       "14"
      ]
     },
     "execution_count": 14,
     "metadata": {},
     "output_type": "execute_result"
    }
   ],
   "source": [
    "nombre_min_lettres + 10"
   ]
  },
  {
   "cell_type": "code",
   "execution_count": 15,
   "id": "5350b7fc-b8ef-4151-b737-1ef927f9027e",
   "metadata": {},
   "outputs": [
    {
     "data": {
      "text/plain": [
       "11"
      ]
     },
     "execution_count": 15,
     "metadata": {},
     "output_type": "execute_result"
    }
   ],
   "source": [
    "sortie_fichier + 10"
   ]
  },
  {
   "cell_type": "code",
   "execution_count": 16,
   "id": "485f346a-707b-48f0-94fa-d9b32bf95ac6",
   "metadata": {},
   "outputs": [
    {
     "data": {
      "text/plain": [
       "20"
      ]
     },
     "execution_count": 16,
     "metadata": {},
     "output_type": "execute_result"
    }
   ],
   "source": [
    "False + 20"
   ]
  },
  {
   "cell_type": "markdown",
   "id": "4a951003-96b3-43b2-916a-c933dcd83238",
   "metadata": {},
   "source": [
    "## Troisième ligne"
   ]
  },
  {
   "cell_type": "code",
   "execution_count": 17,
   "id": "28ccacb9-6bb8-46fb-8e8a-f38e8d77ab2c",
   "metadata": {},
   "outputs": [
    {
     "name": "stdin",
     "output_type": "stream",
     "text": [
      "Écrivez une phrase:  Ceci est une phrase\n"
     ]
    }
   ],
   "source": [
    "phrase = input(\"Écrivez une phrase: \")"
   ]
  },
  {
   "cell_type": "markdown",
   "id": "016977e6-5df1-4e2a-a158-e3554a7b1d38",
   "metadata": {},
   "source": [
    "Une fonction de base de python `input`"
   ]
  },
  {
   "cell_type": "code",
   "execution_count": 19,
   "id": "03521544-b3cf-4ff1-8298-9e678ba4d8a7",
   "metadata": {},
   "outputs": [
    {
     "data": {
      "text/plain": [
       "method"
      ]
     },
     "execution_count": 19,
     "metadata": {},
     "output_type": "execute_result"
    }
   ],
   "source": [
    "type(input)"
   ]
  },
  {
   "cell_type": "code",
   "execution_count": 20,
   "id": "71fd8f03-653c-4039-80e0-12ea3d8f5d36",
   "metadata": {},
   "outputs": [
    {
     "name": "stdin",
     "output_type": "stream",
     "text": [
      " dsdsd\n"
     ]
    },
    {
     "data": {
      "text/plain": [
       "'dsdsd'"
      ]
     },
     "execution_count": 20,
     "metadata": {},
     "output_type": "execute_result"
    }
   ],
   "source": [
    "input()"
   ]
  },
  {
   "cell_type": "code",
   "execution_count": 21,
   "id": "c8cb7606-9871-4da1-bdc6-851cf765e79c",
   "metadata": {},
   "outputs": [
    {
     "name": "stdin",
     "output_type": "stream",
     "text": [
      "Coucou top\n"
     ]
    },
    {
     "data": {
      "text/plain": [
       "'top'"
      ]
     },
     "execution_count": 21,
     "metadata": {},
     "output_type": "execute_result"
    }
   ],
   "source": [
    "input(\"Coucou\")"
   ]
  },
  {
   "cell_type": "code",
   "execution_count": 22,
   "id": "944e63dc-9b0b-491d-968a-c504ef328588",
   "metadata": {},
   "outputs": [
    {
     "name": "stdin",
     "output_type": "stream",
     "text": [
      "Coucou dssdds \n"
     ]
    }
   ],
   "source": [
    "plop = input(\"Coucou\")"
   ]
  },
  {
   "cell_type": "code",
   "execution_count": 23,
   "id": "7b7f9074-51d8-4012-8cfc-b54461b75bff",
   "metadata": {},
   "outputs": [
    {
     "data": {
      "text/plain": [
       "'dssdds '"
      ]
     },
     "execution_count": 23,
     "metadata": {},
     "output_type": "execute_result"
    }
   ],
   "source": [
    "plop"
   ]
  },
  {
   "cell_type": "markdown",
   "id": "69f17e11-0673-4dd5-8f76-f5830f14db95",
   "metadata": {},
   "source": [
    "Demander de l'aide"
   ]
  },
  {
   "cell_type": "code",
   "execution_count": 25,
   "id": "f4547806-f085-4f38-8ceb-4ba9ee577177",
   "metadata": {},
   "outputs": [
    {
     "name": "stdout",
     "output_type": "stream",
     "text": [
      "Help on method raw_input in module ipykernel.kernelbase:\n",
      "\n",
      "raw_input(prompt='') method of ipykernel.ipkernel.IPythonKernel instance\n",
      "    Forward raw_input to frontends\n",
      "    \n",
      "    Raises\n",
      "    ------\n",
      "    StdinNotImplementedError if active frontend doesn't support stdin.\n",
      "\n"
     ]
    }
   ],
   "source": [
    "help(input)"
   ]
  },
  {
   "cell_type": "code",
   "execution_count": 27,
   "id": "efd5579a-568e-4ddf-b763-a41a0b01e9fb",
   "metadata": {},
   "outputs": [
    {
     "data": {
      "text/plain": [
       "str"
      ]
     },
     "execution_count": 27,
     "metadata": {},
     "output_type": "execute_result"
    }
   ],
   "source": [
    "type(plop)"
   ]
  },
  {
   "cell_type": "code",
   "execution_count": 28,
   "id": "21b457f8-3bc5-4c0e-9e4d-779bb6526c05",
   "metadata": {},
   "outputs": [
    {
     "ename": "TypeError",
     "evalue": "can only concatenate str (not \"int\") to str",
     "output_type": "error",
     "traceback": [
      "\u001b[0;31m---------------------------------------------------------------------------\u001b[0m",
      "\u001b[0;31mTypeError\u001b[0m                                 Traceback (most recent call last)",
      "Cell \u001b[0;32mIn[28], line 1\u001b[0m\n\u001b[0;32m----> 1\u001b[0m plop \u001b[38;5;241m+\u001b[39m \u001b[38;5;241m10\u001b[39m\n",
      "\u001b[0;31mTypeError\u001b[0m: can only concatenate str (not \"int\") to str"
     ]
    }
   ],
   "source": [
    "plop + 10"
   ]
  },
  {
   "cell_type": "code",
   "execution_count": 29,
   "id": "491b8641-6970-47ff-b6d7-23aab9dbd655",
   "metadata": {},
   "outputs": [
    {
     "data": {
      "text/plain": [
       "'dssdds Coucou'"
      ]
     },
     "execution_count": 29,
     "metadata": {},
     "output_type": "execute_result"
    }
   ],
   "source": [
    "plop + \"Coucou\""
   ]
  },
  {
   "cell_type": "markdown",
   "id": "a83e3f2d-731a-4f99-9938-a7326595f823",
   "metadata": {},
   "source": [
    "Comment additionner du texte et un nombre ? \n",
    "\n",
    "Il y a des fonctions de transtypage : `int`, `str`, ..."
   ]
  },
  {
   "cell_type": "code",
   "execution_count": 31,
   "id": "6ce250ff-f9a0-4782-98c2-0c5a37943a32",
   "metadata": {},
   "outputs": [
    {
     "data": {
      "text/plain": [
       "'10dssdds '"
      ]
     },
     "execution_count": 31,
     "metadata": {},
     "output_type": "execute_result"
    }
   ],
   "source": [
    "str(10) + plop"
   ]
  },
  {
   "cell_type": "code",
   "execution_count": 40,
   "id": "369c7978-4634-41ed-b174-2d72fc3dafd8",
   "metadata": {},
   "outputs": [
    {
     "data": {
      "text/plain": [
       "'Ceci est une chaine de caractères'"
      ]
     },
     "execution_count": 40,
     "metadata": {},
     "output_type": "execute_result"
    }
   ],
   "source": [
    "\"Ceci est une chaine de caractères\""
   ]
  },
  {
   "cell_type": "code",
   "execution_count": 41,
   "id": "d833d40f-e222-4c71-a9b5-825e99233a20",
   "metadata": {},
   "outputs": [
    {
     "data": {
      "text/plain": [
       "'Ceci est une chaine de caractères aussi'"
      ]
     },
     "execution_count": 41,
     "metadata": {},
     "output_type": "execute_result"
    }
   ],
   "source": [
    "'Ceci est une chaine de caractères aussi'"
   ]
  },
  {
   "cell_type": "code",
   "execution_count": 44,
   "id": "7f051506-683f-4ff7-b83f-d1720dae426d",
   "metadata": {},
   "outputs": [
    {
     "data": {
      "text/plain": [
       "\"J'en sais rien\\n\""
      ]
     },
     "execution_count": 44,
     "metadata": {},
     "output_type": "execute_result"
    }
   ],
   "source": [
    "'J\\'en sais rien\\n'"
   ]
  },
  {
   "cell_type": "code",
   "execution_count": 45,
   "id": "12e7274a-aa21-4ae5-9133-6faec65983a7",
   "metadata": {},
   "outputs": [
    {
     "data": {
      "text/plain": [
       "'\\nCeci est aussi du texte\\n'"
      ]
     },
     "execution_count": 45,
     "metadata": {},
     "output_type": "execute_result"
    }
   ],
   "source": [
    "\"\"\"\n",
    "Ceci est aussi du texte\n",
    "\"\"\""
   ]
  },
  {
   "cell_type": "markdown",
   "id": "40135f96-0afc-4bf1-8540-4aab4829eb4e",
   "metadata": {},
   "source": [
    "## Quatrième ligne"
   ]
  },
  {
   "cell_type": "code",
   "execution_count": 32,
   "id": "166f68e0-6265-4dbb-b250-8d1a44252755",
   "metadata": {},
   "outputs": [
    {
     "data": {
      "text/plain": [
       "'Ceci est une phrase'"
      ]
     },
     "execution_count": 32,
     "metadata": {},
     "output_type": "execute_result"
    }
   ],
   "source": [
    "phrase"
   ]
  },
  {
   "cell_type": "code",
   "execution_count": 33,
   "id": "5baa8722-05fc-4bea-afc4-04a8aa5e1238",
   "metadata": {},
   "outputs": [],
   "source": [
    "liste_mots = phrase.split(\" \")"
   ]
  },
  {
   "cell_type": "code",
   "execution_count": 34,
   "id": "ef7f72d3-4ff9-495b-a753-841f832f6b27",
   "metadata": {},
   "outputs": [
    {
     "data": {
      "text/plain": [
       "['Ceci', 'est', 'une', 'phrase']"
      ]
     },
     "execution_count": 34,
     "metadata": {},
     "output_type": "execute_result"
    }
   ],
   "source": [
    "liste_mots"
   ]
  },
  {
   "cell_type": "markdown",
   "id": "87a133c9-6883-4713-ac3f-576d05babe1b",
   "metadata": {},
   "source": [
    "- on utilise une méthode de l'objet chaine de caractères\n",
    "- cela renvoie une liste"
   ]
  },
  {
   "cell_type": "code",
   "execution_count": 37,
   "id": "25e5f075-45ad-4f6e-9d6f-356bfc946197",
   "metadata": {},
   "outputs": [
    {
     "data": {
      "text/plain": [
       "\u001b[0;31mSignature:\u001b[0m \u001b[0mphrase\u001b[0m\u001b[0;34m.\u001b[0m\u001b[0msplit\u001b[0m\u001b[0;34m(\u001b[0m\u001b[0msep\u001b[0m\u001b[0;34m=\u001b[0m\u001b[0;32mNone\u001b[0m\u001b[0;34m,\u001b[0m \u001b[0mmaxsplit\u001b[0m\u001b[0;34m=\u001b[0m\u001b[0;34m-\u001b[0m\u001b[0;36m1\u001b[0m\u001b[0;34m)\u001b[0m\u001b[0;34m\u001b[0m\u001b[0;34m\u001b[0m\u001b[0m\n",
       "\u001b[0;31mDocstring:\u001b[0m\n",
       "Return a list of the substrings in the string, using sep as the separator string.\n",
       "\n",
       "  sep\n",
       "    The separator used to split the string.\n",
       "\n",
       "    When set to None (the default value), will split on any whitespace\n",
       "    character (including \\n \\r \\t \\f and spaces) and will discard\n",
       "    empty strings from the result.\n",
       "  maxsplit\n",
       "    Maximum number of splits (starting from the left).\n",
       "    -1 (the default value) means no limit.\n",
       "\n",
       "Note, str.split() is mainly useful for data that has been intentionally\n",
       "delimited.  With natural text that includes punctuation, consider using\n",
       "the regular expression module.\n",
       "\u001b[0;31mType:\u001b[0m      builtin_function_or_method"
      ]
     },
     "metadata": {},
     "output_type": "display_data"
    }
   ],
   "source": [
    "?phrase.split"
   ]
  },
  {
   "cell_type": "code",
   "execution_count": 39,
   "id": "4fa56371-9b8f-4a8e-bf6f-ae8c4211b8ed",
   "metadata": {},
   "outputs": [],
   "source": [
    "#dir(phrase)"
   ]
  },
  {
   "cell_type": "code",
   "execution_count": 50,
   "id": "626391eb-0e8d-4e0e-b8f6-ef9d40cefbc2",
   "metadata": {},
   "outputs": [
    {
     "data": {
      "text/plain": [
       "list"
      ]
     },
     "execution_count": 50,
     "metadata": {},
     "output_type": "execute_result"
    }
   ],
   "source": [
    "type(phrase.split(\"e\"))"
   ]
  }
 ],
 "metadata": {
  "kernelspec": {
   "display_name": "Python 3 (ipykernel)",
   "language": "python",
   "name": "python3"
  },
  "language_info": {
   "codemirror_mode": {
    "name": "ipython",
    "version": 3
   },
   "file_extension": ".py",
   "mimetype": "text/x-python",
   "name": "python",
   "nbconvert_exporter": "python",
   "pygments_lexer": "ipython3",
   "version": "3.11.7"
  }
 },
 "nbformat": 4,
 "nbformat_minor": 5
}
