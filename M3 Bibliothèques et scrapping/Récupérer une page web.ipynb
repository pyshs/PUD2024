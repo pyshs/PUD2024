{
 "cells": [
  {
   "cell_type": "markdown",
   "id": "68fa7c5a-16ba-4d8e-9586-95999af444ed",
   "metadata": {},
   "source": [
    "# Tester la présence d'open science sur des pages"
   ]
  },
  {
   "cell_type": "code",
   "execution_count": 1,
   "id": "52684a21-b039-4d59-9048-086006078e9d",
   "metadata": {},
   "outputs": [
    {
     "name": "stdout",
     "output_type": "stream",
     "text": [
      "Requirement already satisfied: requests in /opt/anaconda3/lib/python3.11/site-packages (2.31.0)\n",
      "Requirement already satisfied: charset-normalizer<4,>=2 in /opt/anaconda3/lib/python3.11/site-packages (from requests) (2.0.4)\n",
      "Requirement already satisfied: idna<4,>=2.5 in /opt/anaconda3/lib/python3.11/site-packages (from requests) (3.4)\n",
      "Requirement already satisfied: urllib3<3,>=1.21.1 in /opt/anaconda3/lib/python3.11/site-packages (from requests) (1.26.18)\n",
      "Requirement already satisfied: certifi>=2017.4.17 in /opt/anaconda3/lib/python3.11/site-packages (from requests) (2024.2.2)\n",
      "Note: you may need to restart the kernel to use updated packages.\n"
     ]
    }
   ],
   "source": [
    "pip install requests"
   ]
  },
  {
   "cell_type": "code",
   "execution_count": 2,
   "id": "d0c9cf36-7f86-4f85-b751-77649ad763ef",
   "metadata": {},
   "outputs": [],
   "source": [
    "import requests"
   ]
  },
  {
   "cell_type": "code",
   "execution_count": 3,
   "id": "65f4d2c3-4609-4020-b9bb-bc2c5251d9b0",
   "metadata": {},
   "outputs": [
    {
     "data": {
      "text/plain": [
       "<module 'requests' from '/opt/anaconda3/lib/python3.11/site-packages/requests/__init__.py'>"
      ]
     },
     "execution_count": 3,
     "metadata": {},
     "output_type": "execute_result"
    }
   ],
   "source": [
    "requests"
   ]
  },
  {
   "cell_type": "markdown",
   "id": "21f4bcb7-340b-45a8-ae97-7c661056cb5c",
   "metadata": {},
   "source": [
    "## Exemple tiré du site"
   ]
  },
  {
   "cell_type": "code",
   "execution_count": 4,
   "id": "b593b9dc-869b-41cf-a054-3b51285c4f43",
   "metadata": {},
   "outputs": [],
   "source": [
    "r = requests.get('https://api.github.com/events')"
   ]
  },
  {
   "cell_type": "code",
   "execution_count": 6,
   "id": "9e76b517-686c-4eef-a29a-938216491022",
   "metadata": {},
   "outputs": [
    {
     "data": {
      "text/plain": [
       "requests.models.Response"
      ]
     },
     "execution_count": 6,
     "metadata": {},
     "output_type": "execute_result"
    }
   ],
   "source": [
    "type(r)"
   ]
  },
  {
   "cell_type": "code",
   "execution_count": 8,
   "id": "9aa3cf17-aec1-4f6d-9cf3-6b5adf913902",
   "metadata": {},
   "outputs": [],
   "source": [
    "#r.text"
   ]
  },
  {
   "cell_type": "markdown",
   "id": "9c7a920f-f046-49a6-a20c-1324459c17cd",
   "metadata": {},
   "source": [
    "## Pour strasbourg"
   ]
  },
  {
   "cell_type": "markdown",
   "id": "2cc25758-1eb9-457c-a183-c44192f2da22",
   "metadata": {},
   "source": [
    "Définir l'url"
   ]
  },
  {
   "cell_type": "code",
   "execution_count": 9,
   "id": "1c6a7b37-4b35-4a79-b163-6d6f720048c0",
   "metadata": {},
   "outputs": [],
   "source": [
    "url = \"https://www.unistra.fr/\""
   ]
  },
  {
   "cell_type": "markdown",
   "id": "47672144-d9cf-47af-ae34-6a2836b332ac",
   "metadata": {},
   "source": [
    "Récupérer la page à l'url"
   ]
  },
  {
   "cell_type": "code",
   "execution_count": 11,
   "id": "c61a0b20-5b1c-491d-8b05-ae4f24f0b763",
   "metadata": {},
   "outputs": [],
   "source": [
    "page = requests.get(url)"
   ]
  },
  {
   "cell_type": "code",
   "execution_count": 14,
   "id": "8747fc76-be6a-4f7b-919e-457ae66760dc",
   "metadata": {},
   "outputs": [],
   "source": [
    "#page.content"
   ]
  },
  {
   "cell_type": "markdown",
   "id": "6ad1c44e-5b6d-4466-82e4-db6e2ec9a1e2",
   "metadata": {},
   "source": [
    "type du contenu"
   ]
  },
  {
   "cell_type": "code",
   "execution_count": 18,
   "id": "ef568023-923a-49ab-9b1a-30e53de85672",
   "metadata": {},
   "outputs": [
    {
     "data": {
      "text/plain": [
       "str"
      ]
     },
     "execution_count": 18,
     "metadata": {},
     "output_type": "execute_result"
    }
   ],
   "source": [
    "type(page.text)"
   ]
  },
  {
   "cell_type": "code",
   "execution_count": 19,
   "id": "0d6ad1c9-460a-4986-8d3d-1c21aa28e047",
   "metadata": {},
   "outputs": [],
   "source": [
    "with open(\"unistra.html\", \"w\") as fichier:\n",
    "    fichier.write(page.text)"
   ]
  },
  {
   "cell_type": "code",
   "execution_count": 23,
   "id": "e4529e25-46df-4112-8252-9ec2ead6848f",
   "metadata": {},
   "outputs": [
    {
     "data": {
      "text/plain": [
       "4"
      ]
     },
     "execution_count": 23,
     "metadata": {},
     "output_type": "execute_result"
    }
   ],
   "source": [
    "((page.text).lower()).count(\"science ouverte\")"
   ]
  },
  {
   "cell_type": "markdown",
   "id": "c556b917-11dd-471f-a3c6-21ca329125db",
   "metadata": {},
   "source": [
    "## Manipulation de HTML"
   ]
  },
  {
   "cell_type": "code",
   "execution_count": 24,
   "id": "8288d96d-d2ed-4f99-b528-d194d39dda6a",
   "metadata": {},
   "outputs": [
    {
     "name": "stdout",
     "output_type": "stream",
     "text": [
      "Requirement already satisfied: bs4 in /opt/anaconda3/lib/python3.11/site-packages (0.0.2)\n",
      "Requirement already satisfied: beautifulsoup4 in /opt/anaconda3/lib/python3.11/site-packages (from bs4) (4.12.2)\n",
      "Requirement already satisfied: soupsieve>1.2 in /opt/anaconda3/lib/python3.11/site-packages (from beautifulsoup4->bs4) (2.5)\n",
      "Note: you may need to restart the kernel to use updated packages.\n"
     ]
    }
   ],
   "source": [
    "pip install bs4"
   ]
  },
  {
   "cell_type": "code",
   "execution_count": 25,
   "id": "6e060cb0-d961-449a-b900-54b50311c705",
   "metadata": {},
   "outputs": [],
   "source": [
    "import bs4"
   ]
  },
  {
   "cell_type": "code",
   "execution_count": 27,
   "id": "2614795e-31bf-4c2c-abc8-9968b77e3263",
   "metadata": {},
   "outputs": [],
   "source": [
    "html = bs4.BeautifulSoup(page.content)"
   ]
  },
  {
   "cell_type": "code",
   "execution_count": 31,
   "id": "91ec6ec2-9c5c-41bf-a43a-c17cbdd937e3",
   "metadata": {},
   "outputs": [
    {
     "data": {
      "text/plain": [
       "3"
      ]
     },
     "execution_count": 31,
     "metadata": {},
     "output_type": "execute_result"
    }
   ],
   "source": [
    "html.text.lower().count(\"science ouverte\")"
   ]
  },
  {
   "cell_type": "code",
   "execution_count": 38,
   "id": "e2f16073-4e56-4fe0-87ef-62c56ffd2106",
   "metadata": {},
   "outputs": [],
   "source": [
    "#for lien in html.find_all(\"a\"):\n",
    "#    print(lien[\"href\"])"
   ]
  },
  {
   "cell_type": "code",
   "execution_count": 40,
   "id": "3bbdaeed-c9cc-46d2-9e00-bde890a06dff",
   "metadata": {},
   "outputs": [],
   "source": [
    "texte = \"Ceci est un test\""
   ]
  },
  {
   "cell_type": "code",
   "execution_count": 41,
   "id": "b9d566e7-2beb-4418-8a86-60b84cfd8e7b",
   "metadata": {},
   "outputs": [
    {
     "data": {
      "text/plain": [
       "12"
      ]
     },
     "execution_count": 41,
     "metadata": {},
     "output_type": "execute_result"
    }
   ],
   "source": [
    "texte.find(\"test\")"
   ]
  }
 ],
 "metadata": {
  "kernelspec": {
   "display_name": "Python 3 (ipykernel)",
   "language": "python",
   "name": "python3"
  },
  "language_info": {
   "codemirror_mode": {
    "name": "ipython",
    "version": 3
   },
   "file_extension": ".py",
   "mimetype": "text/x-python",
   "name": "python",
   "nbconvert_exporter": "python",
   "pygments_lexer": "ipython3",
   "version": "3.11.7"
  }
 },
 "nbformat": 4,
 "nbformat_minor": 5
}
