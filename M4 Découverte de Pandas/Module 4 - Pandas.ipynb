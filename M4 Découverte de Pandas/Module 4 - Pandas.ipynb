{
 "cells": [
  {
   "cell_type": "markdown",
   "metadata": {},
   "source": [
    "# Pandas pour l'analyse de données"
   ]
  },
  {
   "cell_type": "markdown",
   "metadata": {},
   "source": [
    "User guide : https://pandas.pydata.org/docs/user_guide/10min.html  \n",
    "Cheat Sheet : https://pandas.pydata.org/Pandas_Cheat_Sheet.pdf"
   ]
  },
  {
   "cell_type": "markdown",
   "metadata": {},
   "source": [
    "## Importer Pandas\n",
    "\n",
    "Et le format DataFrame"
   ]
  },
  {
   "cell_type": "markdown",
   "metadata": {},
   "source": [
    "## Charger des données\n",
    "\n",
    "https://zenodo.org/record/5827206/files/SOSP_Export_base%20de%20donn%C3%A9es%20diffusable.csv"
   ]
  },
  {
   "cell_type": "markdown",
   "metadata": {},
   "source": [
    "## Explorer les données"
   ]
  },
  {
   "cell_type": "markdown",
   "metadata": {},
   "source": [
    "**Quelques outils utiles :**  \n",
    "- `.info()` des infos sur notre df  \n",
    "- `.shape` sa \"forme\"  \n",
    "- `.columns` les colonnes  \n",
    "- `.dtypes` le type des données  \n",
    "- `.head()` afficher les premières observations  \n",
    "- `.tail()` afficher la fin du df  \n",
    "- `.describe()` description basique  "
   ]
  },
  {
   "cell_type": "markdown",
   "metadata": {},
   "source": [
    "## Manipuler un DataFrame\n",
    "\n",
    "- sélectionner une colonne, une ligne, un élément\n",
    "- comprendre l'indexation (iloc, loc)"
   ]
  },
  {
   "cell_type": "markdown",
   "metadata": {},
   "source": [
    "## Calculer sur des colonnes"
   ]
  },
  {
   "cell_type": "markdown",
   "metadata": {},
   "source": [
    "Quelques outils utiles pour décrire les données :\n",
    "\n",
    "- `mean()`\n",
    "- `std()`\n",
    "- `min()`\n",
    "- `max()`\n",
    "- `count()`\n",
    "- `describe()`\n",
    "- `unique()` (et `nunique()`)\n",
    "- `value_counts()`"
   ]
  },
  {
   "cell_type": "markdown",
   "metadata": {},
   "source": [
    "## Aller vers une base de données\n",
    "\n",
    "- filtrer\n",
    "- grouper\n",
    "- aller plus loin (join, etc.)"
   ]
  },
  {
   "cell_type": "markdown",
   "metadata": {},
   "source": [
    "## Modifier le tableau\n",
    "\n",
    "- colonnes, index\n",
    "- contenu"
   ]
  },
  {
   "cell_type": "markdown",
   "metadata": {},
   "source": [
    "## Recoder\n",
    "\n",
    "- remplacer\n",
    "- valeurs nulles\n",
    "- fonctions comme .cut\n",
    "- solition générique de .apply"
   ]
  },
  {
   "cell_type": "markdown",
   "metadata": {},
   "source": [
    "## Faire des statistiques\n",
    "\n",
    "- univariées\n",
    "- bivariées : tableau croisé\n",
    "- grouper des tableaux (.concat)\n",
    "- visualisations"
   ]
  },
  {
   "cell_type": "markdown",
   "metadata": {},
   "source": [
    "## Sauvegarder les données"
   ]
  },
  {
   "cell_type": "markdown",
   "metadata": {},
   "source": [
    "## Et plein d'autres choses \n",
    "\n",
    "- échantillon aléatoire avec .sample()"
   ]
  }
 ],
 "metadata": {
  "kernelspec": {
   "display_name": "Python 3 (ipykernel)",
   "language": "python",
   "name": "python3"
  },
  "language_info": {
   "codemirror_mode": {
    "name": "ipython",
    "version": 3
   },
   "file_extension": ".py",
   "mimetype": "text/x-python",
   "name": "python",
   "nbconvert_exporter": "python",
   "pygments_lexer": "ipython3",
   "version": "3.9.18"
  }
 },
 "nbformat": 4,
 "nbformat_minor": 4
}
