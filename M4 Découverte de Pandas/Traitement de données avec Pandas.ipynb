{
 "cells": [
  {
   "cell_type": "markdown",
   "metadata": {},
   "source": [
    "# Pandas pour l'analyse de données"
   ]
  },
  {
   "cell_type": "markdown",
   "metadata": {},
   "source": [
    "User guide : https://pandas.pydata.org/docs/user_guide/10min.html  \n",
    "Cheat Sheet : https://pandas.pydata.org/Pandas_Cheat_Sheet.pdf"
   ]
  },
  {
   "cell_type": "markdown",
   "metadata": {},
   "source": [
    "## Importer Pandas\n",
    "\n",
    "Et le format DataFrame"
   ]
  },
  {
   "cell_type": "code",
   "execution_count": 3,
   "metadata": {},
   "outputs": [],
   "source": [
    "import pandas as pd"
   ]
  },
  {
   "cell_type": "markdown",
   "metadata": {},
   "source": [
    "## Charger des données\n",
    "\n",
    "https://zenodo.org/record/5827206/files/SOSP_Export_base%20de%20donn%C3%A9es%20diffusable.csv"
   ]
  },
  {
   "cell_type": "code",
   "execution_count": 44,
   "metadata": {},
   "outputs": [
    {
     "data": {
      "text/html": [
       "<div>\n",
       "<style scoped>\n",
       "    .dataframe tbody tr th:only-of-type {\n",
       "        vertical-align: middle;\n",
       "    }\n",
       "\n",
       "    .dataframe tbody tr th {\n",
       "        vertical-align: top;\n",
       "    }\n",
       "\n",
       "    .dataframe thead th {\n",
       "        text-align: right;\n",
       "    }\n",
       "</style>\n",
       "<table border=\"1\" class=\"dataframe\">\n",
       "  <thead>\n",
       "    <tr style=\"text-align: right;\">\n",
       "      <th></th>\n",
       "      <th>Id</th>\n",
       "      <th>contexte_travail</th>\n",
       "      <th>fonction_recherche</th>\n",
       "      <th>statut_professionnel</th>\n",
       "      <th>statut_professionnel_Autre</th>\n",
       "      <th>annee_premiere_publi</th>\n",
       "      <th>Systeme_exploitation</th>\n",
       "      <th>Usage_telephone_mobile</th>\n",
       "      <th>Outils_gestion_travail_av_confinement_visioconférence</th>\n",
       "      <th>Outils_gestion_travail_av_confinement_planification_RDV</th>\n",
       "      <th>...</th>\n",
       "      <th>Souhait_partage_donnees_produites_discipline</th>\n",
       "      <th>Souhait_partage_donnees_produites_pays_continent</th>\n",
       "      <th>Souhait_partage_donnees_produites_domaine_economique</th>\n",
       "      <th>Souhait_partage_donnees_produites_secteur_associatif</th>\n",
       "      <th>Souhait_partage_donnees_produites_sans_restriction</th>\n",
       "      <th>compatibilite_diffusion_partage</th>\n",
       "      <th>evolutions_pratiques_numeriques</th>\n",
       "      <th>sexe</th>\n",
       "      <th>disciplines_9niv</th>\n",
       "      <th>annee_de_naissance-recod10niv</th>\n",
       "    </tr>\n",
       "  </thead>\n",
       "  <tbody>\n",
       "    <tr>\n",
       "      <th>0</th>\n",
       "      <td>1</td>\n",
       "      <td>nous sommes entre 6 et 10 personnes</td>\n",
       "      <td>professeur / professeure des universités et as...</td>\n",
       "      <td>fonctionnaire ou assimilé</td>\n",
       "      <td>NaN</td>\n",
       "      <td>1995</td>\n",
       "      <td>Windows</td>\n",
       "      <td>rarement</td>\n",
       "      <td>parfois</td>\n",
       "      <td>souvent</td>\n",
       "      <td>...</td>\n",
       "      <td>oui</td>\n",
       "      <td>oui</td>\n",
       "      <td>oui</td>\n",
       "      <td>oui</td>\n",
       "      <td>oui</td>\n",
       "      <td>oui</td>\n",
       "      <td>je ne sais pas</td>\n",
       "      <td>un homme</td>\n",
       "      <td>Sciences humaines</td>\n",
       "      <td>61 à 65 ans</td>\n",
       "    </tr>\n",
       "    <tr>\n",
       "      <th>1</th>\n",
       "      <td>2</td>\n",
       "      <td>nous sommes plus de 50 personnes</td>\n",
       "      <td>ingénieur / ingénieure de recherche</td>\n",
       "      <td>en CDI</td>\n",
       "      <td>NaN</td>\n",
       "      <td>2005</td>\n",
       "      <td>Windows</td>\n",
       "      <td>rarement</td>\n",
       "      <td>parfois</td>\n",
       "      <td>parfois</td>\n",
       "      <td>...</td>\n",
       "      <td>oui</td>\n",
       "      <td>oui</td>\n",
       "      <td>oui</td>\n",
       "      <td>oui</td>\n",
       "      <td>oui</td>\n",
       "      <td>NaN</td>\n",
       "      <td>NaN</td>\n",
       "      <td>un homme</td>\n",
       "      <td>Médecine</td>\n",
       "      <td>46 à 50 ans</td>\n",
       "    </tr>\n",
       "    <tr>\n",
       "      <th>2</th>\n",
       "      <td>3</td>\n",
       "      <td>nous sommes entre 2 et 5 personnes</td>\n",
       "      <td>maître / maîtresse de conférences et assimilés</td>\n",
       "      <td>fonctionnaire ou assimilé</td>\n",
       "      <td>NaN</td>\n",
       "      <td>2006</td>\n",
       "      <td>Windows</td>\n",
       "      <td>parfois</td>\n",
       "      <td>rarement</td>\n",
       "      <td>souvent</td>\n",
       "      <td>...</td>\n",
       "      <td>oui</td>\n",
       "      <td>oui</td>\n",
       "      <td>oui</td>\n",
       "      <td>oui</td>\n",
       "      <td>oui</td>\n",
       "      <td>oui, tout est dans la chronologie</td>\n",
       "      <td>non</td>\n",
       "      <td>un homme</td>\n",
       "      <td>Médecine</td>\n",
       "      <td>36 à 40 ans</td>\n",
       "    </tr>\n",
       "    <tr>\n",
       "      <th>3</th>\n",
       "      <td>4</td>\n",
       "      <td>nous sommes entre 2 et 5 personnes</td>\n",
       "      <td>directeur / directrice de recherche (CNRS, INS...</td>\n",
       "      <td>fonctionnaire ou assimilé</td>\n",
       "      <td>NaN</td>\n",
       "      <td>1989</td>\n",
       "      <td>Windows;autres OS (Android...)</td>\n",
       "      <td>souvent</td>\n",
       "      <td>rarement</td>\n",
       "      <td>souvent</td>\n",
       "      <td>...</td>\n",
       "      <td>oui</td>\n",
       "      <td>oui</td>\n",
       "      <td>non</td>\n",
       "      <td>non</td>\n",
       "      <td>non</td>\n",
       "      <td>Oui</td>\n",
       "      <td>Aucune idée</td>\n",
       "      <td>une femme</td>\n",
       "      <td>Médecine</td>\n",
       "      <td>56 à 60 ans</td>\n",
       "    </tr>\n",
       "    <tr>\n",
       "      <th>4</th>\n",
       "      <td>5</td>\n",
       "      <td>nous sommes entre 2 et 5 personnes</td>\n",
       "      <td>doctorant / doctorante (y compris CIFRE)</td>\n",
       "      <td>en CDD</td>\n",
       "      <td>NaN</td>\n",
       "      <td>2015</td>\n",
       "      <td>MacOS</td>\n",
       "      <td>souvent</td>\n",
       "      <td>rarement</td>\n",
       "      <td>parfois</td>\n",
       "      <td>...</td>\n",
       "      <td>oui</td>\n",
       "      <td>oui</td>\n",
       "      <td>oui</td>\n",
       "      <td>oui</td>\n",
       "      <td>oui</td>\n",
       "      <td>Oui</td>\n",
       "      <td>Oui</td>\n",
       "      <td>une femme</td>\n",
       "      <td>Médecine</td>\n",
       "      <td>31 à 35 ans</td>\n",
       "    </tr>\n",
       "  </tbody>\n",
       "</table>\n",
       "<p>5 rows × 131 columns</p>\n",
       "</div>"
      ],
      "text/plain": [
       "   Id                     contexte_travail  \\\n",
       "0   1  nous sommes entre 6 et 10 personnes   \n",
       "1   2     nous sommes plus de 50 personnes   \n",
       "2   3   nous sommes entre 2 et 5 personnes   \n",
       "3   4   nous sommes entre 2 et 5 personnes   \n",
       "4   5   nous sommes entre 2 et 5 personnes   \n",
       "\n",
       "                                  fonction_recherche  \\\n",
       "0  professeur / professeure des universités et as...   \n",
       "1                ingénieur / ingénieure de recherche   \n",
       "2     maître / maîtresse de conférences et assimilés   \n",
       "3  directeur / directrice de recherche (CNRS, INS...   \n",
       "4           doctorant / doctorante (y compris CIFRE)   \n",
       "\n",
       "        statut_professionnel statut_professionnel_Autre  annee_premiere_publi  \\\n",
       "0  fonctionnaire ou assimilé                        NaN                  1995   \n",
       "1                     en CDI                        NaN                  2005   \n",
       "2  fonctionnaire ou assimilé                        NaN                  2006   \n",
       "3  fonctionnaire ou assimilé                        NaN                  1989   \n",
       "4                     en CDD                        NaN                  2015   \n",
       "\n",
       "             Systeme_exploitation Usage_telephone_mobile  \\\n",
       "0                         Windows               rarement   \n",
       "1                         Windows               rarement   \n",
       "2                         Windows                parfois   \n",
       "3  Windows;autres OS (Android...)                souvent   \n",
       "4                           MacOS                souvent   \n",
       "\n",
       "  Outils_gestion_travail_av_confinement_visioconférence  \\\n",
       "0                                            parfois      \n",
       "1                                            parfois      \n",
       "2                                           rarement      \n",
       "3                                           rarement      \n",
       "4                                           rarement      \n",
       "\n",
       "  Outils_gestion_travail_av_confinement_planification_RDV  ...  \\\n",
       "0                                            souvent       ...   \n",
       "1                                            parfois       ...   \n",
       "2                                            souvent       ...   \n",
       "3                                            souvent       ...   \n",
       "4                                            parfois       ...   \n",
       "\n",
       "  Souhait_partage_donnees_produites_discipline  \\\n",
       "0                                          oui   \n",
       "1                                          oui   \n",
       "2                                          oui   \n",
       "3                                          oui   \n",
       "4                                          oui   \n",
       "\n",
       "  Souhait_partage_donnees_produites_pays_continent  \\\n",
       "0                                              oui   \n",
       "1                                              oui   \n",
       "2                                              oui   \n",
       "3                                              oui   \n",
       "4                                              oui   \n",
       "\n",
       "  Souhait_partage_donnees_produites_domaine_economique  \\\n",
       "0                                                oui     \n",
       "1                                                oui     \n",
       "2                                                oui     \n",
       "3                                                non     \n",
       "4                                                oui     \n",
       "\n",
       "  Souhait_partage_donnees_produites_secteur_associatif  \\\n",
       "0                                                oui     \n",
       "1                                                oui     \n",
       "2                                                oui     \n",
       "3                                                non     \n",
       "4                                                oui     \n",
       "\n",
       "  Souhait_partage_donnees_produites_sans_restriction  \\\n",
       "0                                                oui   \n",
       "1                                                oui   \n",
       "2                                                oui   \n",
       "3                                                non   \n",
       "4                                                oui   \n",
       "\n",
       "     compatibilite_diffusion_partage evolutions_pratiques_numeriques  \\\n",
       "0                                oui                  je ne sais pas   \n",
       "1                                NaN                             NaN   \n",
       "2  oui, tout est dans la chronologie                             non   \n",
       "3                                Oui                     Aucune idée   \n",
       "4                                Oui                             Oui   \n",
       "\n",
       "        sexe   disciplines_9niv annee_de_naissance-recod10niv  \n",
       "0   un homme  Sciences humaines                   61 à 65 ans  \n",
       "1   un homme           Médecine                   46 à 50 ans  \n",
       "2   un homme           Médecine                   36 à 40 ans  \n",
       "3  une femme           Médecine                   56 à 60 ans  \n",
       "4  une femme           Médecine                   31 à 35 ans  \n",
       "\n",
       "[5 rows x 131 columns]"
      ]
     },
     "execution_count": 44,
     "metadata": {},
     "output_type": "execute_result"
    }
   ],
   "source": [
    "url = \"https://zenodo.org/record/5827206/files/SOSP_Export_base%20de%20donn%C3%A9es%20diffusable.csv\"\n",
    "df = pd.read_csv(url)\n",
    "df.head()"
   ]
  },
  {
   "cell_type": "code",
   "execution_count": 5,
   "metadata": {},
   "outputs": [
    {
     "data": {
      "text/plain": [
       "(1089, 131)"
      ]
     },
     "execution_count": 5,
     "metadata": {},
     "output_type": "execute_result"
    }
   ],
   "source": [
    "df.shape"
   ]
  },
  {
   "cell_type": "code",
   "execution_count": 1,
   "metadata": {},
   "outputs": [],
   "source": [
    "#for i in df.columns:\n",
    "#    print(i)"
   ]
  },
  {
   "cell_type": "markdown",
   "metadata": {},
   "source": [
    "## Explorer les données"
   ]
  },
  {
   "cell_type": "markdown",
   "metadata": {},
   "source": [
    "**Quelques outils utiles :**  \n",
    "- `.info()` des infos sur notre df  \n",
    "- `.shape` sa \"forme\"  \n",
    "- `.columns` les colonnes  \n",
    "- `.dtypes` le type des données  \n",
    "- `.head()` afficher les premières observations  \n",
    "- `.tail()` afficher la fin du df  \n",
    "- `.describe()` description basique  "
   ]
  },
  {
   "cell_type": "code",
   "execution_count": 7,
   "metadata": {},
   "outputs": [
    {
     "name": "stdout",
     "output_type": "stream",
     "text": [
      "<class 'pandas.core.frame.DataFrame'>\n",
      "RangeIndex: 1089 entries, 0 to 1088\n",
      "Columns: 131 entries, Id to annee_de_naissance-recod10niv\n",
      "dtypes: int64(2), object(129)\n",
      "memory usage: 1.1+ MB\n"
     ]
    }
   ],
   "source": [
    "df.info()"
   ]
  },
  {
   "cell_type": "code",
   "execution_count": 8,
   "metadata": {},
   "outputs": [
    {
     "data": {
      "text/plain": [
       "Index(['Id', 'contexte_travail', 'fonction_recherche', 'statut_professionnel',\n",
       "       'statut_professionnel_Autre', 'annee_premiere_publi',\n",
       "       'Systeme_exploitation', 'Usage_telephone_mobile',\n",
       "       'Outils_gestion_travail_av_confinement_visioconférence',\n",
       "       'Outils_gestion_travail_av_confinement_planification_RDV',\n",
       "       ...\n",
       "       'Souhait_partage_donnees_produites_discipline',\n",
       "       'Souhait_partage_donnees_produites_pays_continent',\n",
       "       'Souhait_partage_donnees_produites_domaine_economique',\n",
       "       'Souhait_partage_donnees_produites_secteur_associatif',\n",
       "       'Souhait_partage_donnees_produites_sans_restriction',\n",
       "       'compatibilite_diffusion_partage', 'evolutions_pratiques_numeriques',\n",
       "       'sexe', 'disciplines_9niv', 'annee_de_naissance-recod10niv'],\n",
       "      dtype='object', length=131)"
      ]
     },
     "execution_count": 8,
     "metadata": {},
     "output_type": "execute_result"
    }
   ],
   "source": [
    "df.columns"
   ]
  },
  {
   "cell_type": "code",
   "execution_count": 9,
   "metadata": {},
   "outputs": [
    {
     "data": {
      "text/plain": [
       "RangeIndex(start=0, stop=1089, step=1)"
      ]
     },
     "execution_count": 9,
     "metadata": {},
     "output_type": "execute_result"
    }
   ],
   "source": [
    "df.index"
   ]
  },
  {
   "cell_type": "code",
   "execution_count": 10,
   "metadata": {},
   "outputs": [
    {
     "data": {
      "text/html": [
       "<div>\n",
       "<style scoped>\n",
       "    .dataframe tbody tr th:only-of-type {\n",
       "        vertical-align: middle;\n",
       "    }\n",
       "\n",
       "    .dataframe tbody tr th {\n",
       "        vertical-align: top;\n",
       "    }\n",
       "\n",
       "    .dataframe thead th {\n",
       "        text-align: right;\n",
       "    }\n",
       "</style>\n",
       "<table border=\"1\" class=\"dataframe\">\n",
       "  <thead>\n",
       "    <tr style=\"text-align: right;\">\n",
       "      <th></th>\n",
       "      <th>Id</th>\n",
       "      <th>annee_premiere_publi</th>\n",
       "    </tr>\n",
       "  </thead>\n",
       "  <tbody>\n",
       "    <tr>\n",
       "      <th>count</th>\n",
       "      <td>1089.000000</td>\n",
       "      <td>1089.000000</td>\n",
       "    </tr>\n",
       "    <tr>\n",
       "      <th>mean</th>\n",
       "      <td>545.000000</td>\n",
       "      <td>2004.030303</td>\n",
       "    </tr>\n",
       "    <tr>\n",
       "      <th>std</th>\n",
       "      <td>314.511526</td>\n",
       "      <td>11.362671</td>\n",
       "    </tr>\n",
       "    <tr>\n",
       "      <th>min</th>\n",
       "      <td>1.000000</td>\n",
       "      <td>1968.000000</td>\n",
       "    </tr>\n",
       "    <tr>\n",
       "      <th>25%</th>\n",
       "      <td>273.000000</td>\n",
       "      <td>1996.000000</td>\n",
       "    </tr>\n",
       "    <tr>\n",
       "      <th>50%</th>\n",
       "      <td>545.000000</td>\n",
       "      <td>2005.000000</td>\n",
       "    </tr>\n",
       "    <tr>\n",
       "      <th>75%</th>\n",
       "      <td>817.000000</td>\n",
       "      <td>2014.000000</td>\n",
       "    </tr>\n",
       "    <tr>\n",
       "      <th>max</th>\n",
       "      <td>1089.000000</td>\n",
       "      <td>2020.000000</td>\n",
       "    </tr>\n",
       "  </tbody>\n",
       "</table>\n",
       "</div>"
      ],
      "text/plain": [
       "                Id  annee_premiere_publi\n",
       "count  1089.000000           1089.000000\n",
       "mean    545.000000           2004.030303\n",
       "std     314.511526             11.362671\n",
       "min       1.000000           1968.000000\n",
       "25%     273.000000           1996.000000\n",
       "50%     545.000000           2005.000000\n",
       "75%     817.000000           2014.000000\n",
       "max    1089.000000           2020.000000"
      ]
     },
     "execution_count": 10,
     "metadata": {},
     "output_type": "execute_result"
    }
   ],
   "source": [
    "df.describe()"
   ]
  },
  {
   "cell_type": "markdown",
   "metadata": {},
   "source": [
    "## Manipuler un DataFrame\n",
    "\n",
    "- sélectionner une colonne, une ligne, un élément\n",
    "- comprendre l'indexation (iloc, loc)"
   ]
  },
  {
   "cell_type": "code",
   "execution_count": 16,
   "metadata": {},
   "outputs": [
    {
     "data": {
      "text/plain": [
       "0       1995\n",
       "1       2005\n",
       "2       2006\n",
       "3       1989\n",
       "4       2015\n",
       "        ... \n",
       "1084    2004\n",
       "1085    1987\n",
       "1086    1992\n",
       "1087    1982\n",
       "1088    2011\n",
       "Name: annee_premiere_publi, Length: 1089, dtype: int64"
      ]
     },
     "execution_count": 16,
     "metadata": {},
     "output_type": "execute_result"
    }
   ],
   "source": [
    "df[\"annee_premiere_publi\"]"
   ]
  },
  {
   "cell_type": "code",
   "execution_count": 19,
   "metadata": {},
   "outputs": [
    {
     "data": {
      "text/html": [
       "<div>\n",
       "<style scoped>\n",
       "    .dataframe tbody tr th:only-of-type {\n",
       "        vertical-align: middle;\n",
       "    }\n",
       "\n",
       "    .dataframe tbody tr th {\n",
       "        vertical-align: top;\n",
       "    }\n",
       "\n",
       "    .dataframe thead th {\n",
       "        text-align: right;\n",
       "    }\n",
       "</style>\n",
       "<table border=\"1\" class=\"dataframe\">\n",
       "  <thead>\n",
       "    <tr style=\"text-align: right;\">\n",
       "      <th></th>\n",
       "      <th>statut_professionnel</th>\n",
       "      <th>annee_premiere_publi</th>\n",
       "    </tr>\n",
       "  </thead>\n",
       "  <tbody>\n",
       "    <tr>\n",
       "      <th>0</th>\n",
       "      <td>fonctionnaire ou assimilé</td>\n",
       "      <td>1995</td>\n",
       "    </tr>\n",
       "    <tr>\n",
       "      <th>1</th>\n",
       "      <td>en CDI</td>\n",
       "      <td>2005</td>\n",
       "    </tr>\n",
       "    <tr>\n",
       "      <th>2</th>\n",
       "      <td>fonctionnaire ou assimilé</td>\n",
       "      <td>2006</td>\n",
       "    </tr>\n",
       "    <tr>\n",
       "      <th>3</th>\n",
       "      <td>fonctionnaire ou assimilé</td>\n",
       "      <td>1989</td>\n",
       "    </tr>\n",
       "    <tr>\n",
       "      <th>4</th>\n",
       "      <td>en CDD</td>\n",
       "      <td>2015</td>\n",
       "    </tr>\n",
       "    <tr>\n",
       "      <th>...</th>\n",
       "      <td>...</td>\n",
       "      <td>...</td>\n",
       "    </tr>\n",
       "    <tr>\n",
       "      <th>1084</th>\n",
       "      <td>en CDI</td>\n",
       "      <td>2004</td>\n",
       "    </tr>\n",
       "    <tr>\n",
       "      <th>1085</th>\n",
       "      <td>fonctionnaire ou assimilé</td>\n",
       "      <td>1987</td>\n",
       "    </tr>\n",
       "    <tr>\n",
       "      <th>1086</th>\n",
       "      <td>fonctionnaire ou assimilé</td>\n",
       "      <td>1992</td>\n",
       "    </tr>\n",
       "    <tr>\n",
       "      <th>1087</th>\n",
       "      <td>fonctionnaire ou assimilé</td>\n",
       "      <td>1982</td>\n",
       "    </tr>\n",
       "    <tr>\n",
       "      <th>1088</th>\n",
       "      <td>fonctionnaire ou assimilé</td>\n",
       "      <td>2011</td>\n",
       "    </tr>\n",
       "  </tbody>\n",
       "</table>\n",
       "<p>1089 rows × 2 columns</p>\n",
       "</div>"
      ],
      "text/plain": [
       "           statut_professionnel  annee_premiere_publi\n",
       "0     fonctionnaire ou assimilé                  1995\n",
       "1                        en CDI                  2005\n",
       "2     fonctionnaire ou assimilé                  2006\n",
       "3     fonctionnaire ou assimilé                  1989\n",
       "4                        en CDD                  2015\n",
       "...                         ...                   ...\n",
       "1084                     en CDI                  2004\n",
       "1085  fonctionnaire ou assimilé                  1987\n",
       "1086  fonctionnaire ou assimilé                  1992\n",
       "1087  fonctionnaire ou assimilé                  1982\n",
       "1088  fonctionnaire ou assimilé                  2011\n",
       "\n",
       "[1089 rows x 2 columns]"
      ]
     },
     "execution_count": 19,
     "metadata": {},
     "output_type": "execute_result"
    }
   ],
   "source": [
    "df[[\"statut_professionnel\",\"annee_premiere_publi\"]]"
   ]
  },
  {
   "cell_type": "code",
   "execution_count": 23,
   "metadata": {},
   "outputs": [
    {
     "data": {
      "text/html": [
       "<div>\n",
       "<style scoped>\n",
       "    .dataframe tbody tr th:only-of-type {\n",
       "        vertical-align: middle;\n",
       "    }\n",
       "\n",
       "    .dataframe tbody tr th {\n",
       "        vertical-align: top;\n",
       "    }\n",
       "\n",
       "    .dataframe thead th {\n",
       "        text-align: right;\n",
       "    }\n",
       "</style>\n",
       "<table border=\"1\" class=\"dataframe\">\n",
       "  <thead>\n",
       "    <tr style=\"text-align: right;\">\n",
       "      <th></th>\n",
       "      <th>contexte_travail</th>\n",
       "      <th>fonction_recherche</th>\n",
       "    </tr>\n",
       "  </thead>\n",
       "  <tbody>\n",
       "    <tr>\n",
       "      <th>1080</th>\n",
       "      <td>nous sommes entre 6 et 10 personnes</td>\n",
       "      <td>ingénieur / ingénieure d'études</td>\n",
       "    </tr>\n",
       "    <tr>\n",
       "      <th>1081</th>\n",
       "      <td>je travaille seul</td>\n",
       "      <td>maître / maîtresse de conférences et assimilés</td>\n",
       "    </tr>\n",
       "    <tr>\n",
       "      <th>1082</th>\n",
       "      <td>je travaille seul</td>\n",
       "      <td>professeur / professeure des universités et as...</td>\n",
       "    </tr>\n",
       "    <tr>\n",
       "      <th>1083</th>\n",
       "      <td>nous sommes entre 2 et 5 personnes</td>\n",
       "      <td>ingénieur / ingénieure de recherche</td>\n",
       "    </tr>\n",
       "  </tbody>\n",
       "</table>\n",
       "</div>"
      ],
      "text/plain": [
       "                         contexte_travail  \\\n",
       "1080  nous sommes entre 6 et 10 personnes   \n",
       "1081                    je travaille seul   \n",
       "1082                    je travaille seul   \n",
       "1083   nous sommes entre 2 et 5 personnes   \n",
       "\n",
       "                                     fonction_recherche  \n",
       "1080                    ingénieur / ingénieure d'études  \n",
       "1081     maître / maîtresse de conférences et assimilés  \n",
       "1082  professeur / professeure des universités et as...  \n",
       "1083                ingénieur / ingénieure de recherche  "
      ]
     },
     "execution_count": 23,
     "metadata": {},
     "output_type": "execute_result"
    }
   ],
   "source": [
    "df.loc[1080:1083,[\"contexte_travail\",\"fonction_recherche\"]]"
   ]
  },
  {
   "cell_type": "code",
   "execution_count": 26,
   "metadata": {},
   "outputs": [
    {
     "data": {
      "text/plain": [
       "Id                                                                             11\n",
       "contexte_travail                                                je travaille seul\n",
       "fonction_recherche                 maître / maîtresse de conférences et assimilés\n",
       "statut_professionnel                                    fonctionnaire ou assimilé\n",
       "statut_professionnel_Autre                                                    NaN\n",
       "                                                        ...                      \n",
       "compatibilite_diffusion_partage            oui si les personnes sont de confiance\n",
       "evolutions_pratiques_numeriques               peu car je suis en finn de carrière\n",
       "sexe                                                                    une femme\n",
       "disciplines_9niv                                                         Médecine\n",
       "annee_de_naissance-recod10niv                                         61 à 65 ans\n",
       "Name: 10, Length: 131, dtype: object"
      ]
     },
     "execution_count": 26,
     "metadata": {},
     "output_type": "execute_result"
    }
   ],
   "source": [
    "df.iloc[10]"
   ]
  },
  {
   "cell_type": "code",
   "execution_count": 30,
   "metadata": {},
   "outputs": [],
   "source": [
    "#df.set_index(\"annee_premiere_publi\")"
   ]
  },
  {
   "cell_type": "markdown",
   "metadata": {},
   "source": [
    "## Calculer sur des colonnes"
   ]
  },
  {
   "cell_type": "markdown",
   "metadata": {},
   "source": [
    "Quelques outils utiles pour décrire les données :\n",
    "\n",
    "- `mean()`\n",
    "- `std()`\n",
    "- `min()`\n",
    "- `max()`\n",
    "- `count()`\n",
    "- `describe()`\n",
    "- `unique()` (et `nunique()`)\n",
    "- `value_counts()`"
   ]
  },
  {
   "cell_type": "code",
   "execution_count": 33,
   "metadata": {},
   "outputs": [
    {
     "data": {
      "text/plain": [
       "2004.030303030303"
      ]
     },
     "execution_count": 33,
     "metadata": {},
     "output_type": "execute_result"
    }
   ],
   "source": [
    "df[\"annee_premiere_publi\"].mean()"
   ]
  },
  {
   "cell_type": "code",
   "execution_count": 34,
   "metadata": {},
   "outputs": [
    {
     "data": {
      "text/plain": [
       "2005.0"
      ]
     },
     "execution_count": 34,
     "metadata": {},
     "output_type": "execute_result"
    }
   ],
   "source": [
    "df[\"annee_premiere_publi\"].median()"
   ]
  },
  {
   "cell_type": "code",
   "execution_count": 35,
   "metadata": {},
   "outputs": [
    {
     "data": {
      "text/plain": [
       "2020"
      ]
     },
     "execution_count": 35,
     "metadata": {},
     "output_type": "execute_result"
    }
   ],
   "source": [
    "df[\"annee_premiere_publi\"].max()"
   ]
  },
  {
   "cell_type": "code",
   "execution_count": 36,
   "metadata": {},
   "outputs": [
    {
     "data": {
      "text/plain": [
       "1089"
      ]
     },
     "execution_count": 36,
     "metadata": {},
     "output_type": "execute_result"
    }
   ],
   "source": [
    "df[\"annee_premiere_publi\"].count()"
   ]
  },
  {
   "cell_type": "code",
   "execution_count": 39,
   "metadata": {},
   "outputs": [
    {
     "data": {
      "text/plain": [
       "array(['Sciences humaines', 'Médecine', 'Mathématiques, Informatiques',\n",
       "       'Sciences du vivant', 'Sciences sociales', 'Lettres et Arts',\n",
       "       'Chimie, Matériaux', \"Science de l'ingénieur\",\n",
       "       \"Physique, Sciences de la terre et de l'Univers\", nan],\n",
       "      dtype=object)"
      ]
     },
     "execution_count": 39,
     "metadata": {},
     "output_type": "execute_result"
    }
   ],
   "source": [
    "df[\"disciplines_9niv\"].unique()"
   ]
  },
  {
   "cell_type": "code",
   "execution_count": 51,
   "metadata": {},
   "outputs": [],
   "source": [
    "df[\"disciplines_9niv_na\"] = df[\"disciplines_9niv\"].fillna(\"Valeur manquante\")\n",
    "# df[\"disciplines_9niv\"].fillna(\"NA\", inplace=True)"
   ]
  },
  {
   "cell_type": "code",
   "execution_count": 54,
   "metadata": {},
   "outputs": [],
   "source": [
    "colonne = df[\"disciplines_9niv\"].fillna(\"Valeur manquante\")"
   ]
  },
  {
   "cell_type": "code",
   "execution_count": 53,
   "metadata": {},
   "outputs": [
    {
     "data": {
      "text/plain": [
       "array(['Sciences humaines', 'Médecine', 'Mathématiques, Informatiques',\n",
       "       'Sciences du vivant', 'Sciences sociales', 'Lettres et Arts',\n",
       "       'Chimie, Matériaux', \"Science de l'ingénieur\",\n",
       "       \"Physique, Sciences de la terre et de l'Univers\",\n",
       "       'Valeur manquante'], dtype=object)"
      ]
     },
     "execution_count": 53,
     "metadata": {},
     "output_type": "execute_result"
    }
   ],
   "source": [
    "df[\"disciplines_9niv_na\"].unique()"
   ]
  },
  {
   "cell_type": "code",
   "execution_count": 60,
   "metadata": {},
   "outputs": [
    {
     "data": {
      "text/plain": [
       "Sciences humaines                                 274\n",
       "Sciences sociales                                 161\n",
       "Mathématiques, Informatiques                      138\n",
       "Sciences du vivant                                138\n",
       "Physique, Sciences de la terre et de l'Univers    103\n",
       "Science de l'ingénieur                             91\n",
       "Chimie, Matériaux                                  59\n",
       "Lettres et Arts                                    58\n",
       "Médecine                                           54\n",
       "Valeur manquante                                   13\n",
       "Name: disciplines_9niv_na, dtype: int64"
      ]
     },
     "execution_count": 60,
     "metadata": {},
     "output_type": "execute_result"
    }
   ],
   "source": [
    "df[\"disciplines_9niv_na\"].value_counts()"
   ]
  },
  {
   "cell_type": "code",
   "execution_count": 59,
   "metadata": {},
   "outputs": [
    {
     "data": {
      "text/plain": [
       "Sciences humaines                                 25.16\n",
       "Sciences sociales                                 14.78\n",
       "Mathématiques, Informatiques                      12.67\n",
       "Sciences du vivant                                12.67\n",
       "Physique, Sciences de la terre et de l'Univers     9.46\n",
       "Science de l'ingénieur                             8.36\n",
       "Chimie, Matériaux                                  5.42\n",
       "Lettres et Arts                                    5.33\n",
       "Médecine                                           4.96\n",
       "Valeur manquante                                   1.19\n",
       "Name: disciplines_9niv_na, dtype: float64"
      ]
     },
     "execution_count": 59,
     "metadata": {},
     "output_type": "execute_result"
    }
   ],
   "source": [
    "round(100*df[\"disciplines_9niv_na\"].value_counts(normalize=True),2)"
   ]
  },
  {
   "cell_type": "markdown",
   "metadata": {},
   "source": [
    "### Application"
   ]
  },
  {
   "cell_type": "code",
   "execution_count": 69,
   "metadata": {},
   "outputs": [
    {
     "data": {
      "text/html": [
       "<div>\n",
       "<style scoped>\n",
       "    .dataframe tbody tr th:only-of-type {\n",
       "        vertical-align: middle;\n",
       "    }\n",
       "\n",
       "    .dataframe tbody tr th {\n",
       "        vertical-align: top;\n",
       "    }\n",
       "\n",
       "    .dataframe thead th {\n",
       "        text-align: right;\n",
       "    }\n",
       "</style>\n",
       "<table border=\"1\" class=\"dataframe\">\n",
       "  <thead>\n",
       "    <tr style=\"text-align: right;\">\n",
       "      <th></th>\n",
       "      <th>Fréquence</th>\n",
       "      <th>Pourcentage</th>\n",
       "    </tr>\n",
       "  </thead>\n",
       "  <tbody>\n",
       "    <tr>\n",
       "      <th>Valeur manquante</th>\n",
       "      <td>13</td>\n",
       "      <td>1.19</td>\n",
       "    </tr>\n",
       "    <tr>\n",
       "      <th>Médecine</th>\n",
       "      <td>54</td>\n",
       "      <td>4.96</td>\n",
       "    </tr>\n",
       "    <tr>\n",
       "      <th>Lettres et Arts</th>\n",
       "      <td>58</td>\n",
       "      <td>5.33</td>\n",
       "    </tr>\n",
       "    <tr>\n",
       "      <th>Chimie, Matériaux</th>\n",
       "      <td>59</td>\n",
       "      <td>5.42</td>\n",
       "    </tr>\n",
       "    <tr>\n",
       "      <th>Science de l'ingénieur</th>\n",
       "      <td>91</td>\n",
       "      <td>8.36</td>\n",
       "    </tr>\n",
       "    <tr>\n",
       "      <th>Physique, Sciences de la terre et de l'Univers</th>\n",
       "      <td>103</td>\n",
       "      <td>9.46</td>\n",
       "    </tr>\n",
       "    <tr>\n",
       "      <th>Mathématiques, Informatiques</th>\n",
       "      <td>138</td>\n",
       "      <td>12.67</td>\n",
       "    </tr>\n",
       "    <tr>\n",
       "      <th>Sciences du vivant</th>\n",
       "      <td>138</td>\n",
       "      <td>12.67</td>\n",
       "    </tr>\n",
       "    <tr>\n",
       "      <th>Sciences sociales</th>\n",
       "      <td>161</td>\n",
       "      <td>14.78</td>\n",
       "    </tr>\n",
       "    <tr>\n",
       "      <th>Sciences humaines</th>\n",
       "      <td>274</td>\n",
       "      <td>25.16</td>\n",
       "    </tr>\n",
       "  </tbody>\n",
       "</table>\n",
       "</div>"
      ],
      "text/plain": [
       "                                                Fréquence  Pourcentage\n",
       "Valeur manquante                                       13         1.19\n",
       "Médecine                                               54         4.96\n",
       "Lettres et Arts                                        58         5.33\n",
       "Chimie, Matériaux                                      59         5.42\n",
       "Science de l'ingénieur                                 91         8.36\n",
       "Physique, Sciences de la terre et de l'Univers        103         9.46\n",
       "Mathématiques, Informatiques                          138        12.67\n",
       "Sciences du vivant                                    138        12.67\n",
       "Sciences sociales                                     161        14.78\n",
       "Sciences humaines                                     274        25.16"
      ]
     },
     "execution_count": 69,
     "metadata": {},
     "output_type": "execute_result"
    }
   ],
   "source": [
    "# créer deux comptages \n",
    "c1 = df[\"disciplines_9niv_na\"].value_counts()\n",
    "c2 = round(100*df[\"disciplines_9niv_na\"].value_counts(normalize=True),2)\n",
    "\n",
    "# les concaténer ensemble\n",
    "tab = pd.concat([c1, c2],axis=1)\n",
    "\n",
    "# changer le nom des colonnes\n",
    "tab.columns = [\"Fréquence\", \"Pourcentage\"]\n",
    "\n",
    "# enregistrer le tableau\n",
    "tab.to_excel(\"tableau.xlsx\")\n",
    "\n",
    "tab.sort_values(\"Fréquence\")"
   ]
  },
  {
   "cell_type": "code",
   "execution_count": 73,
   "metadata": {},
   "outputs": [
    {
     "data": {
      "text/plain": [
       "<Axes: >"
      ]
     },
     "execution_count": 73,
     "metadata": {},
     "output_type": "execute_result"
    },
    {
     "data": {
      "image/png": "[encoded data removed]",
      "text/plain": [
       "<Figure size 640x480 with 1 Axes>"
      ]
     },
     "metadata": {},
     "output_type": "display_data"
    }
   ],
   "source": [
    "tab[\"Fréquence\"].plot(kind=\"barh\", figsize=(5,4))"
   ]
  },
  {
   "cell_type": "markdown",
   "metadata": {},
   "source": [
    "## Aller vers une base de données\n",
    "\n",
    "- filtrer\n",
    "- grouper\n",
    "- aller plus loin (join, etc.)"
   ]
  },
  {
   "cell_type": "markdown",
   "metadata": {},
   "source": [
    "## Modifier le tableau\n",
    "\n",
    "- colonnes, index\n",
    "- contenu"
   ]
  },
  {
   "cell_type": "markdown",
   "metadata": {},
   "source": [
    "## Recoder\n",
    "\n",
    "- remplacer\n",
    "- valeurs nulles\n",
    "- fonctions comme .cut\n",
    "- solition générique de .apply"
   ]
  },
  {
   "cell_type": "markdown",
   "metadata": {},
   "source": [
    "## Faire des statistiques\n",
    "\n",
    "- univariées\n",
    "- bivariées : tableau croisé\n",
    "- grouper des tableaux (.concat)\n",
    "- visualisations"
   ]
  },
  {
   "cell_type": "markdown",
   "metadata": {},
   "source": [
    "## Sauvegarder les données"
   ]
  },
  {
   "cell_type": "markdown",
   "metadata": {},
   "source": [
    "## Et plein d'autres choses \n",
    "\n",
    "- échantillon aléatoire avec .sample()"
   ]
  }
 ],
 "metadata": {
  "kernelspec": {
   "display_name": "Python 3 (ipykernel)",
   "language": "python",
   "name": "python3"
  },
  "language_info": {
   "codemirror_mode": {
    "name": "ipython",
    "version": 3
   },
   "file_extension": ".py",
   "mimetype": "text/x-python",
   "name": "python",
   "nbconvert_exporter": "python",
   "pygments_lexer": "ipython3",
   "version": "3.11.7"
  }
 },
 "nbformat": 4,
 "nbformat_minor": 4
}
