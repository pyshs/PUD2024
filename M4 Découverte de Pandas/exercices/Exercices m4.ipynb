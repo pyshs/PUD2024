{
 "cells": [
  {
   "cell_type": "markdown",
   "id": "53bc79f8",
   "metadata": {},
   "source": [
    "# Exercices d'application"
   ]
  },
  {
   "cell_type": "markdown",
   "id": "7f5cb5f5",
   "metadata": {},
   "source": [
    "## 1. Mise en forme d'un tableau\n",
    "\n",
    "- charger le tableau tableau.csv dans data\n",
    "- décrire son contenu\n",
    "- Combien de journaux différents sont dans la base de données\n",
    "- Recoderles journaux"
   ]
  },
  {
   "cell_type": "markdown",
   "id": "558f7846",
   "metadata": {},
   "source": [
    "## 2. Ajouter une variable quantitative\n",
    "\n",
    "- Ajouter une colonne qui représente le nombre de mots par article\n",
    "- Ajouter une colonne qui contient le nombre d'occurence du terme d'intérêt"
   ]
  },
  {
   "cell_type": "markdown",
   "id": "ca5de8d0",
   "metadata": {},
   "source": [
    "## 3. Statistiques descriptives\n",
    "\n",
    "- Faire des statistiques univariées sur ces deux variables\n",
    "- Représenter un histogramme\n",
    "- Regarder la distribution par journaux\n",
    "- Regarder l'utilisation de la fonctions https://pandas.pydata.org/docs/reference/api/pandas.DataFrame.boxplot.html"
   ]
  }
 ],
 "metadata": {
  "kernelspec": {
   "display_name": "Python 3 (ipykernel)",
   "language": "python",
   "name": "python3"
  },
  "language_info": {
   "codemirror_mode": {
    "name": "ipython",
    "version": 3
   },
   "file_extension": ".py",
   "mimetype": "text/x-python",
   "name": "python",
   "nbconvert_exporter": "python",
   "pygments_lexer": "ipython3",
   "version": "3.11.7"
  }
 },
 "nbformat": 4,
 "nbformat_minor": 5
}
