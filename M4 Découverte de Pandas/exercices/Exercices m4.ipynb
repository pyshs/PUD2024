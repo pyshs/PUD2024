{
 "cells": [
  {
   "cell_type": "markdown",
   "id": "53bc79f8",
   "metadata": {},
   "source": [
    "# Exercices d'application"
   ]
  },
  {
   "cell_type": "markdown",
   "id": "7f5cb5f5",
   "metadata": {},
   "source": [
    "## 1. Mise en forme d'un tableau\n",
    "\n",
    "- charger le tableau tableau.csv dans data\n",
    "- décrire son contenu\n",
    "- Combien de journaux différents sont dans la base de données\n",
    "- Recoderles journaux"
   ]
  },
  {
   "cell_type": "code",
   "execution_count": 1,
   "id": "f2d6bfdf-5633-4fb8-a046-99c2b46b8f5c",
   "metadata": {},
   "outputs": [],
   "source": [
    "import pandas as pd"
   ]
  },
  {
   "cell_type": "code",
   "execution_count": 2,
   "id": "1e431652-5eba-4edd-83d9-a522dc85c0a1",
   "metadata": {},
   "outputs": [],
   "source": [
    "df = pd.read_csv(\"../data/data/tableau.csv\")"
   ]
  },
  {
   "cell_type": "code",
   "execution_count": 4,
   "id": "0d29d54d-98f0-4c02-9ac5-4b87d78c78c5",
   "metadata": {},
   "outputs": [
    {
     "data": {
      "text/plain": [
       "Index(['Date_raw', 'Titre_raw', 'Journal_raw', 'Contenu_raw', 'Auteur_raw',\n",
       "       'Date_mod', 'Titre_mod', 'Contenu_mod', 'Journal_mod'],\n",
       "      dtype='object')"
      ]
     },
     "execution_count": 4,
     "metadata": {},
     "output_type": "execute_result"
    }
   ],
   "source": [
    "df.columns"
   ]
  },
  {
   "cell_type": "code",
   "execution_count": 6,
   "id": "c3ceb628-ca5a-4b30-90ea-ce775017648f",
   "metadata": {},
   "outputs": [
    {
     "data": {
      "text/plain": [
       "Le Figaro                                                  61\n",
       "Le Monde                                                   59\n",
       "Aujourd'hui en France                Edition Principale    57\n",
       "Libération                                                 34\n",
       "La Croix                                                   25\n",
       "l'Humanité                                                 15\n",
       "L'Express                                                  13\n",
       "Le Point                                                    9\n",
       "Valeurs Actuelles                                           6\n",
       "Name: Journal_mod, dtype: int64"
      ]
     },
     "execution_count": 6,
     "metadata": {},
     "output_type": "execute_result"
    }
   ],
   "source": [
    "df[\"Journal_mod\"].value_counts()"
   ]
  },
  {
   "cell_type": "markdown",
   "id": "558f7846",
   "metadata": {},
   "source": [
    "## 2. Ajouter une variable quantitative\n",
    "\n",
    "- Ajouter une colonne qui représente le nombre de mots par article\n",
    "- Ajouter une colonne qui contient le nombre d'occurence du terme d'intérêt"
   ]
  },
  {
   "cell_type": "markdown",
   "id": "ca5de8d0",
   "metadata": {},
   "source": [
    "## 3. Statistiques descriptives\n",
    "\n",
    "- Faire des statistiques univariées sur ces deux variables\n",
    "- Représenter un histogramme\n",
    "- Regarder la distribution par journaux\n",
    "- Regarder l'utilisation de la fonctions https://pandas.pydata.org/docs/reference/api/pandas.DataFrame.boxplot.html"
   ]
  }
 ],
 "metadata": {
  "kernelspec": {
   "display_name": "Python 3 (ipykernel)",
   "language": "python",
   "name": "python3"
  },
  "language_info": {
   "codemirror_mode": {
    "name": "ipython",
    "version": 3
   },
   "file_extension": ".py",
   "mimetype": "text/x-python",
   "name": "python",
   "nbconvert_exporter": "python",
   "pygments_lexer": "ipython3",
   "version": "3.11.7"
  }
 },
 "nbformat": 4,
 "nbformat_minor": 5
}
