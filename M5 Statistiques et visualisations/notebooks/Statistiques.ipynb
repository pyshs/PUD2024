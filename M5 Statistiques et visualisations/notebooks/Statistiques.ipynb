{
 "cells": [
  {
   "cell_type": "markdown",
   "id": "7e79c206-cd83-4dd5-b9de-4cbf259229fa",
   "metadata": {},
   "source": [
    "# Faire des statistiques\n",
    "\n",
    "## Données\n",
    "\n",
    "Mariannig Le Béchec - Aline Bouchard - Philippe Charrier - Claire Denecker - Gabriel Gallezot - Stéphanie Rennes\n",
    "\n",
    "- Rapport : https://hal.archives-ouvertes.fr/hal-03545512v1\n",
    "- Données : https://zenodo.org/record/5827206\n"
   ]
  },
  {
   "cell_type": "code",
   "execution_count": 2,
   "id": "43559a0d-03bc-464c-9fae-9ecb8fc6e525",
   "metadata": {},
   "outputs": [],
   "source": [
    "import pandas as pd\n",
    "df = pd.read_csv(\"https://zenodo.org/records/5827206/files/SOSP_Export_base%20de%20donn%C3%A9es%20diffusable.csv\")"
   ]
  },
  {
   "cell_type": "markdown",
   "id": "a9d246a7-242d-4d72-81b5-576aecf859b7",
   "metadata": {},
   "source": [
    "Deux variables :\n",
    "- année de naissance\n",
    "- présentation dans les réseaux sociaux : Valorisation_recherche_reseaux_sociaux_num_generalistes\n",
    "\n",
    "Produire les différentes catégories"
   ]
  },
  {
   "cell_type": "code",
   "execution_count": null,
   "id": "9a700af5",
   "metadata": {},
   "outputs": [],
   "source": [
    "df[\"annee_num\"] = df[\"annee_premiere_publi\"]\n",
    "df[\"annee_cat\"] = pd.cut(df[\"annee_premiere_publi\"], 5)\n",
    "\n",
    "df[\"reseauxsociaux_cat\"] = df[\"Valorisation_recherche_reseaux_sociaux_num_generalistes\"]\n",
    "reco = {'parfois':2, 'souvent':3, 'jamais':0, 'rarement':1, 'toujours':4}\n",
    "df[\"reseauxsociaux_num\"] = df[\"reseauxsociaux_cat\"].replace(reco)"
   ]
  },
  {
   "cell_type": "markdown",
   "id": "14e8466b-00fa-4c4f-b0b7-6a2628496206",
   "metadata": {},
   "source": [
    "## Univarié"
   ]
  },
  {
   "cell_type": "markdown",
   "id": "d0d41b91-7594-4dcb-91e3-10e30f7eae22",
   "metadata": {},
   "source": [
    "Indicateurs"
   ]
  },
  {
   "cell_type": "markdown",
   "id": "7193cf3d-6e39-4dcd-87fc-258f276c74d9",
   "metadata": {},
   "source": [
    "Distribution"
   ]
  },
  {
   "cell_type": "markdown",
   "id": "e2499cea-4c48-4766-b42c-134e2fb241a2",
   "metadata": {},
   "source": [
    "recodage"
   ]
  },
  {
   "cell_type": "markdown",
   "id": "49315c59-bc3e-495d-9573-06e6ca922250",
   "metadata": {},
   "source": [
    "## Bivarié"
   ]
  },
  {
   "cell_type": "markdown",
   "id": "a6926310-5d77-4dcc-91a5-4ab2df242b22",
   "metadata": {},
   "source": [
    "Quanti/quanti .corr"
   ]
  },
  {
   "cell_type": "code",
   "execution_count": null,
   "id": "269064d3-5703-4058-a2ed-0c861247d975",
   "metadata": {},
   "outputs": [
    {
     "data": {
      "text/plain": [
       "PearsonRResult(statistic=0.19285061858630462, pvalue=1.3890221497996923e-10)"
      ]
     },
     "execution_count": 71,
     "metadata": {},
     "output_type": "execute_result"
    }
   ],
   "source": [
    "from scipy.stats import pearsonr"
   ]
  },
  {
   "cell_type": "markdown",
   "id": "2333428c-71f3-4be9-b949-c9a130ba6cdc",
   "metadata": {},
   "source": [
    "Quanti/quali\n",
    "\n",
    ".groupby"
   ]
  },
  {
   "cell_type": "code",
   "execution_count": null,
   "id": "f78c57e0-cb24-4981-9fd3-0c2a43d21f7f",
   "metadata": {},
   "outputs": [
    {
     "data": {
      "text/plain": [
       "F_onewayResult(statistic=10.73068474537501, pvalue=1.5652446052537652e-08)"
      ]
     },
     "execution_count": 74,
     "metadata": {},
     "output_type": "execute_result"
    }
   ],
   "source": [
    "from scipy.stats import f_oneway"
   ]
  },
  {
   "cell_type": "markdown",
   "id": "2556909b-170f-4a46-84c6-0751841be2af",
   "metadata": {},
   "source": [
    "Possibilité d'utiliser d'autres bibliothèques, comme pinguin https://pingouin-stats.org/build/html/index.html"
   ]
  },
  {
   "cell_type": "code",
   "execution_count": 60,
   "id": "97bcc784-0852-48a0-aa6f-e0f6b937f02b",
   "metadata": {},
   "outputs": [
    {
     "data": {
      "text/html": [
       "<div>\n",
       "<style scoped>\n",
       "    .dataframe tbody tr th:only-of-type {\n",
       "        vertical-align: middle;\n",
       "    }\n",
       "\n",
       "    .dataframe tbody tr th {\n",
       "        vertical-align: top;\n",
       "    }\n",
       "\n",
       "    .dataframe thead th {\n",
       "        text-align: right;\n",
       "    }\n",
       "</style>\n",
       "<table border=\"1\" class=\"dataframe\">\n",
       "  <thead>\n",
       "    <tr style=\"text-align: right;\">\n",
       "      <th></th>\n",
       "      <th>Source</th>\n",
       "      <th>SS</th>\n",
       "      <th>DF</th>\n",
       "      <th>MS</th>\n",
       "      <th>F</th>\n",
       "      <th>p-unc</th>\n",
       "      <th>np2</th>\n",
       "    </tr>\n",
       "  </thead>\n",
       "  <tbody>\n",
       "    <tr>\n",
       "      <th>0</th>\n",
       "      <td>reseaux_n</td>\n",
       "      <td>961.069233</td>\n",
       "      <td>4</td>\n",
       "      <td>240.267308</td>\n",
       "      <td>1.866877</td>\n",
       "      <td>0.11399</td>\n",
       "      <td>0.006842</td>\n",
       "    </tr>\n",
       "    <tr>\n",
       "      <th>1</th>\n",
       "      <td>Within</td>\n",
       "      <td>139510.930767</td>\n",
       "      <td>1084</td>\n",
       "      <td>128.700121</td>\n",
       "      <td>NaN</td>\n",
       "      <td>NaN</td>\n",
       "      <td>NaN</td>\n",
       "    </tr>\n",
       "  </tbody>\n",
       "</table>\n",
       "</div>"
      ],
      "text/plain": [
       "      Source             SS    DF          MS         F    p-unc       np2\n",
       "0  reseaux_n     961.069233     4  240.267308  1.866877  0.11399  0.006842\n",
       "1     Within  139510.930767  1084  128.700121       NaN      NaN       NaN"
      ]
     },
     "execution_count": 60,
     "metadata": {},
     "output_type": "execute_result"
    }
   ],
   "source": [
    "#pip install pingouin"
   ]
  },
  {
   "cell_type": "markdown",
   "id": "cedfc55b-a354-48d7-aa0c-35714807270e",
   "metadata": {},
   "source": [
    "Quali/Quali\n",
    "\n",
    "pd.crosstab"
   ]
  },
  {
   "cell_type": "code",
   "execution_count": 39,
   "id": "299e8b8c-67f4-4b21-a20c-260862818034",
   "metadata": {},
   "outputs": [],
   "source": [
    "from scipy.stats import chi2_contingency"
   ]
  },
  {
   "cell_type": "markdown",
   "id": "d3557db0-854b-4711-9812-15707997e824",
   "metadata": {},
   "source": [
    "## Modèles"
   ]
  },
  {
   "cell_type": "markdown",
   "id": "69d3e6f0-4083-4698-9b8d-782ce9b05084",
   "metadata": {},
   "source": [
    "#### Régression logistique"
   ]
  },
  {
   "cell_type": "markdown",
   "id": "f4174f10-9a64-4852-87c7-aa121d234ec2",
   "metadata": {},
   "source": [
    "Quels sont les prédicteurs du fait de diffuser sa recherche sur les médias sociaux"
   ]
  },
  {
   "cell_type": "markdown",
   "id": "56c41709-f598-4a02-8be3-3d3e668b9bb4",
   "metadata": {},
   "source": [
    "Création d'une variable 0 (pas du tout ou rarement) et 1 sinon"
   ]
  },
  {
   "cell_type": "code",
   "execution_count": 83,
   "id": "03d0a9ef-d792-48ee-b338-eef5c7b474e4",
   "metadata": {},
   "outputs": [
    {
     "data": {
      "text/plain": [
       "reseaux_b\n",
       "0    983\n",
       "1    106\n",
       "Name: count, dtype: int64"
      ]
     },
     "execution_count": 83,
     "metadata": {},
     "output_type": "execute_result"
    }
   ],
   "source": [
    "reco = {'rarement':0, 'parfois':1, 'jamais':0, 'souvent':0, 'toujours':0}\n",
    "df[\"reseaux_b\"] = df[\"Valorisation_recherche_reseaux_sociaux_num_generalistes\"].replace(reco)\n",
    "df[\"reseaux_b\"].value_counts()"
   ]
  },
  {
   "cell_type": "code",
   "execution_count": 112,
   "id": "459edc1f-45a7-49c7-970f-5f07b65e0a48",
   "metadata": {},
   "outputs": [],
   "source": [
    "df[\"sexe_r\"] = df[\"sexe\"].replace({\"je ne souhaite pas répondre\":None})"
   ]
  },
  {
   "cell_type": "markdown",
   "id": "de3c47dd-74f2-4d2e-9ca4-260aa93f991b",
   "metadata": {},
   "source": [
    "Avec Scikit-learn"
   ]
  },
  {
   "cell_type": "code",
   "execution_count": 75,
   "id": "0e9ada74-8ba4-48ab-9a45-eca97a95c7d1",
   "metadata": {},
   "outputs": [],
   "source": [
    "from sklearn.linear_model import LogisticRegression"
   ]
  },
  {
   "cell_type": "code",
   "execution_count": 113,
   "id": "b208d6f4-5444-4c1a-820b-7fd25866763a",
   "metadata": {},
   "outputs": [],
   "source": [
    "X = pd.get_dummies(df[[\"annee_premiere_publi\",\"sexe_r\"]], drop_first=True)\n",
    "y = df[\"reseaux_b\"]"
   ]
  },
  {
   "cell_type": "code",
   "execution_count": 114,
   "id": "2aeb6cc2-b029-4e91-bc6d-fde1c2e8a4ca",
   "metadata": {},
   "outputs": [
    {
     "data": {
      "text/plain": [
       "array([[-1.11056683e-03, -1.86439035e-07]])"
      ]
     },
     "execution_count": 114,
     "metadata": {},
     "output_type": "execute_result"
    }
   ],
   "source": [
    "modele = LogisticRegression()\n",
    "modele.fit(X, y)\n",
    "modele.coef_"
   ]
  },
  {
   "cell_type": "markdown",
   "id": "2aeb8943-8398-490f-be1c-08bf99d1001f",
   "metadata": {},
   "source": [
    "Avec Statsmodels"
   ]
  },
  {
   "cell_type": "code",
   "execution_count": 118,
   "id": "d7259baa-240d-4ed6-af0c-df77ce51feab",
   "metadata": {},
   "outputs": [],
   "source": [
    "import statsmodels.api as sm\n",
    "from patsy import dmatrices"
   ]
  },
  {
   "cell_type": "code",
   "execution_count": 119,
   "id": "b9bd8648-88c7-47c8-a86e-8874a22da731",
   "metadata": {},
   "outputs": [],
   "source": [
    "y,X = dmatrices('reseaux_b ~ sexe_r + annee_n', \n",
    "                data = df, \n",
    "                return_type = 'dataframe')"
   ]
  },
  {
   "cell_type": "code",
   "execution_count": 126,
   "id": "6d742a06-a46c-46b4-bffd-d5db2a9ad62b",
   "metadata": {},
   "outputs": [
    {
     "name": "stdout",
     "output_type": "stream",
     "text": [
      "Optimization terminated successfully.\n",
      "         Current function value: 0.316656\n",
      "         Iterations 7\n"
     ]
    },
    {
     "data": {
      "text/html": [
       "<table class=\"simpletable\">\n",
       "<caption>Logit Regression Results</caption>\n",
       "<tr>\n",
       "  <th>Dep. Variable:</th>       <td>reseaux_b</td>    <th>  No. Observations:  </th>  <td>  1045</td> \n",
       "</tr>\n",
       "<tr>\n",
       "  <th>Model:</th>                 <td>Logit</td>      <th>  Df Residuals:      </th>  <td>  1042</td> \n",
       "</tr>\n",
       "<tr>\n",
       "  <th>Method:</th>                 <td>MLE</td>       <th>  Df Model:          </th>  <td>     2</td> \n",
       "</tr>\n",
       "<tr>\n",
       "  <th>Date:</th>            <td>Fri, 03 May 2024</td> <th>  Pseudo R-squ.:     </th> <td>0.009814</td>\n",
       "</tr>\n",
       "<tr>\n",
       "  <th>Time:</th>                <td>15:39:03</td>     <th>  Log-Likelihood:    </th> <td> -330.91</td>\n",
       "</tr>\n",
       "<tr>\n",
       "  <th>converged:</th>             <td>True</td>       <th>  LL-Null:           </th> <td> -334.19</td>\n",
       "</tr>\n",
       "<tr>\n",
       "  <th>Covariance Type:</th>     <td>nonrobust</td>    <th>  LLR p-value:       </th>  <td>0.03764</td>\n",
       "</tr>\n",
       "</table>\n",
       "<table class=\"simpletable\">\n",
       "<tr>\n",
       "           <td></td>              <th>coef</th>     <th>std err</th>      <th>z</th>      <th>P>|z|</th>  <th>[0.025</th>    <th>0.975]</th>  \n",
       "</tr>\n",
       "<tr>\n",
       "  <th>Intercept</th>           <td>  -48.9593</td> <td>   19.256</td> <td>   -2.543</td> <td> 0.011</td> <td>  -86.700</td> <td>  -11.219</td>\n",
       "</tr>\n",
       "<tr>\n",
       "  <th>sexe_r[T.une femme]</th> <td>    0.1321</td> <td>    0.209</td> <td>    0.631</td> <td> 0.528</td> <td>   -0.278</td> <td>    0.542</td>\n",
       "</tr>\n",
       "<tr>\n",
       "  <th>annee_n</th>             <td>    0.0233</td> <td>    0.010</td> <td>    2.425</td> <td> 0.015</td> <td>    0.004</td> <td>    0.042</td>\n",
       "</tr>\n",
       "</table>"
      ],
      "text/latex": [
       "\\begin{center}\n",
       "\\begin{tabular}{lclc}\n",
       "\\toprule\n",
       "\\textbf{Dep. Variable:}       &    reseaux\\_b    & \\textbf{  No. Observations:  } &     1045    \\\\\n",
       "\\textbf{Model:}               &      Logit       & \\textbf{  Df Residuals:      } &     1042    \\\\\n",
       "\\textbf{Method:}              &       MLE        & \\textbf{  Df Model:          } &        2    \\\\\n",
       "\\textbf{Date:}                & Fri, 03 May 2024 & \\textbf{  Pseudo R-squ.:     } &  0.009814   \\\\\n",
       "\\textbf{Time:}                &     15:39:03     & \\textbf{  Log-Likelihood:    } &   -330.91   \\\\\n",
       "\\textbf{converged:}           &       True       & \\textbf{  LL-Null:           } &   -334.19   \\\\\n",
       "\\textbf{Covariance Type:}     &    nonrobust     & \\textbf{  LLR p-value:       } &  0.03764    \\\\\n",
       "\\bottomrule\n",
       "\\end{tabular}\n",
       "\\begin{tabular}{lcccccc}\n",
       "                              & \\textbf{coef} & \\textbf{std err} & \\textbf{z} & \\textbf{P$> |$z$|$} & \\textbf{[0.025} & \\textbf{0.975]}  \\\\\n",
       "\\midrule\n",
       "\\textbf{Intercept}            &     -48.9593  &       19.256     &    -2.543  &         0.011        &      -86.700    &      -11.219     \\\\\n",
       "\\textbf{sexe\\_r[T.une femme]} &       0.1321  &        0.209     &     0.631  &         0.528        &       -0.278    &        0.542     \\\\\n",
       "\\textbf{annee\\_n}             &       0.0233  &        0.010     &     2.425  &         0.015        &        0.004    &        0.042     \\\\\n",
       "\\bottomrule\n",
       "\\end{tabular}\n",
       "%\\caption{Logit Regression Results}\n",
       "\\end{center}"
      ],
      "text/plain": [
       "<class 'statsmodels.iolib.summary.Summary'>\n",
       "\"\"\"\n",
       "                           Logit Regression Results                           \n",
       "==============================================================================\n",
       "Dep. Variable:              reseaux_b   No. Observations:                 1045\n",
       "Model:                          Logit   Df Residuals:                     1042\n",
       "Method:                           MLE   Df Model:                            2\n",
       "Date:                Fri, 03 May 2024   Pseudo R-squ.:                0.009814\n",
       "Time:                        15:39:03   Log-Likelihood:                -330.91\n",
       "converged:                       True   LL-Null:                       -334.19\n",
       "Covariance Type:            nonrobust   LLR p-value:                   0.03764\n",
       "=======================================================================================\n",
       "                          coef    std err          z      P>|z|      [0.025      0.975]\n",
       "---------------------------------------------------------------------------------------\n",
       "Intercept             -48.9593     19.256     -2.543      0.011     -86.700     -11.219\n",
       "sexe_r[T.une femme]     0.1321      0.209      0.631      0.528      -0.278       0.542\n",
       "annee_n                 0.0233      0.010      2.425      0.015       0.004       0.042\n",
       "=======================================================================================\n",
       "\"\"\""
      ]
     },
     "execution_count": 126,
     "metadata": {},
     "output_type": "execute_result"
    }
   ],
   "source": [
    "modele = sm.Logit(y,X)\n",
    "resultat = modele.fit()\n",
    "resultat.summary()"
   ]
  },
  {
   "cell_type": "markdown",
   "id": "6b5fcecf-5d73-422b-bd25-469432cec9b1",
   "metadata": {},
   "source": [
    "Avec la version toute intégrée"
   ]
  },
  {
   "cell_type": "code",
   "execution_count": 129,
   "id": "1727c134-3b76-4072-b1cd-0f0aba0a21e0",
   "metadata": {},
   "outputs": [],
   "source": [
    "#pip install pyshs"
   ]
  },
  {
   "cell_type": "code",
   "execution_count": 130,
   "id": "ae8ac195-feb9-430e-acf9-2bb60a62199c",
   "metadata": {},
   "outputs": [],
   "source": [
    "import pyshs"
   ]
  },
  {
   "cell_type": "code",
   "execution_count": 131,
   "id": "0d486c06-f1a4-4c8b-ab9e-bba53356d2d2",
   "metadata": {},
   "outputs": [
    {
     "data": {
      "text/html": [
       "<div>\n",
       "<style scoped>\n",
       "    .dataframe tbody tr th:only-of-type {\n",
       "        vertical-align: middle;\n",
       "    }\n",
       "\n",
       "    .dataframe tbody tr th {\n",
       "        vertical-align: top;\n",
       "    }\n",
       "\n",
       "    .dataframe thead th {\n",
       "        text-align: right;\n",
       "    }\n",
       "</style>\n",
       "<table border=\"1\" class=\"dataframe\">\n",
       "  <thead>\n",
       "    <tr style=\"text-align: right;\">\n",
       "      <th></th>\n",
       "      <th></th>\n",
       "      <th>OR</th>\n",
       "      <th>p</th>\n",
       "      <th>IC 95%</th>\n",
       "    </tr>\n",
       "    <tr>\n",
       "      <th>Variable</th>\n",
       "      <th>Modalité</th>\n",
       "      <th></th>\n",
       "      <th></th>\n",
       "      <th></th>\n",
       "    </tr>\n",
       "  </thead>\n",
       "  <tbody>\n",
       "    <tr>\n",
       "      <th>.Intercept</th>\n",
       "      <th></th>\n",
       "      <td>0.0</td>\n",
       "      <td>0.011*</td>\n",
       "      <td>0.00 [0.00-0.00]</td>\n",
       "    </tr>\n",
       "    <tr>\n",
       "      <th>annee_n</th>\n",
       "      <th>numérique</th>\n",
       "      <td>1.02</td>\n",
       "      <td>0.015*</td>\n",
       "      <td>1.02 [1.00-1.04]</td>\n",
       "    </tr>\n",
       "    <tr>\n",
       "      <th rowspan=\"2\" valign=\"top\">sexe_r</th>\n",
       "      <th>un homme</th>\n",
       "      <td>ref</td>\n",
       "      <td></td>\n",
       "      <td></td>\n",
       "    </tr>\n",
       "    <tr>\n",
       "      <th>une femme</th>\n",
       "      <td>1.14</td>\n",
       "      <td>0.528</td>\n",
       "      <td>1.14 [0.76-1.72]</td>\n",
       "    </tr>\n",
       "  </tbody>\n",
       "</table>\n",
       "</div>"
      ],
      "text/plain": [
       "                        OR       p            IC 95%\n",
       "Variable   Modalité                                 \n",
       ".Intercept             0.0  0.011*  0.00 [0.00-0.00]\n",
       "annee_n    numérique  1.02  0.015*  1.02 [1.00-1.04]\n",
       "sexe_r     un homme    ref                          \n",
       "           une femme  1.14   0.528  1.14 [0.76-1.72]"
      ]
     },
     "execution_count": 131,
     "metadata": {},
     "output_type": "execute_result"
    }
   ],
   "source": [
    "pyshs.regression_logistique(df, \"reseaux_b\", [\"sexe_r\", \"annee_n\"])"
   ]
  }
 ],
 "metadata": {
  "kernelspec": {
   "display_name": "Python 3 (ipykernel)",
   "language": "python",
   "name": "python3"
  },
  "language_info": {
   "codemirror_mode": {
    "name": "ipython",
    "version": 3
   },
   "file_extension": ".py",
   "mimetype": "text/x-python",
   "name": "python",
   "nbconvert_exporter": "python",
   "pygments_lexer": "ipython3",
   "version": "3.11.7"
  }
 },
 "nbformat": 4,
 "nbformat_minor": 5
}
