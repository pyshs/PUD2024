{
 "cells": [
  {
   "cell_type": "markdown",
   "id": "21245c97-5854-4039-a796-32b7b01a090c",
   "metadata": {},
   "source": [
    "# Faire des statistiques\n",
    "\n",
    "## Données\n",
    "\n",
    "Mariannig Le Béchec - Aline Bouchard - Philippe Charrier - Claire Denecker - Gabriel Gallezot - Stéphanie Rennes\n",
    "\n",
    "- Rapport : https://hal.archives-ouvertes.fr/hal-03545512v1\n",
    "- Données : https://zenodo.org/record/5827206\n"
   ]
  },
  {
   "cell_type": "code",
   "execution_count": 1,
   "id": "fc5d565e-5f5c-49d8-93f7-462acb3a4b21",
   "metadata": {},
   "outputs": [],
   "source": [
    "import pandas as pd\n",
    "df = pd.read_csv(\"https://zenodo.org/records/5827206/files/SOSP_Export_base%20de%20donn%C3%A9es%20diffusable.csv\")"
   ]
  },
  {
   "cell_type": "markdown",
   "id": "b22d5df7-0743-4a01-bd13-ad224307f8bc",
   "metadata": {},
   "source": [
    "## Objectif\n",
    "\n",
    "- visualiser la distribution des années de première publication : annee_premiere_publi\n",
    "- puis croiser avec les disciplines : disciplines_9niv"
   ]
  },
  {
   "cell_type": "markdown",
   "id": "6b388fdf-f241-453c-8b66-a1fc7dbf3463",
   "metadata": {},
   "source": [
    "## Visualisation"
   ]
  },
  {
   "cell_type": "markdown",
   "id": "1eaaf536-a302-4da1-a120-04d48106fb1f",
   "metadata": {},
   "source": [
    "De manière implicite : faire un histogramme avec Pandas"
   ]
  },
  {
   "cell_type": "markdown",
   "id": "f423c024-d5d5-4558-9980-eeb30358097f",
   "metadata": {},
   "source": [
    "De manière explicite: créer une figure avec matplotlib"
   ]
  },
  {
   "cell_type": "markdown",
   "id": "557a8c0f",
   "metadata": {},
   "source": [
    "Lier les deux \n",
    "- récupérer des éléments avec .get_xticks\n",
    "- changer des éléments avec .set_xticks"
   ]
  },
  {
   "cell_type": "markdown",
   "id": "d9da64e3-b046-47e5-ba44-2c7f93c36755",
   "metadata": {},
   "source": [
    "## Complexifier les figures"
   ]
  },
  {
   "cell_type": "code",
   "execution_count": null,
   "id": "af1fd98d",
   "metadata": {},
   "outputs": [],
   "source": [
    "import matplotlib.pyplot as plt\n",
    "\n",
    "# Définir l'écart entre les parts\n",
    "exp = [0.05] * len(df[\"disciplines_9niv\"].dropna().unique())\n",
    "\n",
    "# Graphique avec options\n",
    "df[\"disciplines_9niv\"].value_counts().plot(kind=\"pie\",\n",
    "                                            cmap=\"viridis\",\n",
    "                                            figsize=(5,5),\n",
    "                                            explode=exp, autopct='%1.1f%%', textprops={'color':\"w\"})\n",
    "# Finaliser et sauvegarder\n",
    "plt.ylabel(\"\")\n",
    "plt.title(\"Une diversité de discipline\")\n",
    "plt.savefig(\"Mon graphique.png\",bbox_inches='tight')"
   ]
  },
  {
   "cell_type": "markdown",
   "id": "daf01aef-23b2-4546-9ec0-bdc58b4a5210",
   "metadata": {},
   "source": [
    "## Deux figures côte à côte"
   ]
  },
  {
   "cell_type": "markdown",
   "id": "28f46f8f-da06-4ce8-a4fa-77f1424f2aa1",
   "metadata": {},
   "source": [
    "Tout l'enjeu est de gérer les marges, dispositions, etc."
   ]
  },
  {
   "cell_type": "markdown",
   "id": "e1276c4d",
   "metadata": {},
   "source": [
    "## Figures interactives"
   ]
  }
 ],
 "metadata": {
  "kernelspec": {
   "display_name": "Python 3 (ipykernel)",
   "language": "python",
   "name": "python3"
  },
  "language_info": {
   "codemirror_mode": {
    "name": "ipython",
    "version": 3
   },
   "file_extension": ".py",
   "mimetype": "text/x-python",
   "name": "python",
   "nbconvert_exporter": "python",
   "pygments_lexer": "ipython3",
   "version": "3.11.7"
  }
 },
 "nbformat": 4,
 "nbformat_minor": 5
}
