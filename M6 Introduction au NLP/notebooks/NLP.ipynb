{
 "cells": [
  {
   "cell_type": "markdown",
   "id": "5c11ff97-66a6-4875-b744-64b495a30b1b",
   "metadata": {},
   "source": [
    "# Différentes approches de NLP"
   ]
  },
  {
   "cell_type": "markdown",
   "id": "eeb48379-8b38-4259-b34f-fa3fa58d93ee",
   "metadata": {},
   "source": [
    "## Données"
   ]
  },
  {
   "cell_type": "code",
   "execution_count": 1,
   "id": "5e2d43d6-a965-4d5b-88ad-dae511b83a97",
   "metadata": {},
   "outputs": [],
   "source": [
    "import pandas as pd\n",
    "df = pd.read_csv(\"../data/tableau.csv\")"
   ]
  },
  {
   "cell_type": "markdown",
   "id": "f2067bc0",
   "metadata": {},
   "source": [
    "## Regex\n",
    "\n",
    "Extraire toutes les dates "
   ]
  },
  {
   "cell_type": "code",
   "execution_count": 6,
   "id": "2a538b0a",
   "metadata": {},
   "outputs": [],
   "source": [
    "#import re\n",
    "#m = '(\\d{1,2}\\s+\\w+\\s+\\d{4})'\n"
   ]
  },
  {
   "cell_type": "markdown",
   "id": "bbcdd385-e3f7-4aad-9ea3-6c2b295dfc6c",
   "metadata": {},
   "source": [
    "## Mot par mot, ou dictionnaires\n",
    "\n",
    "comptons certains mots \n",
    "- startup\n",
    "- entreprise\n",
    "- etc."
   ]
  },
  {
   "cell_type": "markdown",
   "id": "a0d84cf0-d61f-4c35-9e04-dcf5e346869c",
   "metadata": {},
   "source": [
    "## DFM"
   ]
  },
  {
   "cell_type": "code",
   "execution_count": 9,
   "id": "bbf67d61-15aa-4fa4-a4e3-91908771313c",
   "metadata": {},
   "outputs": [],
   "source": [
    "from sklearn.feature_extraction.text import CountVectorizer"
   ]
  },
  {
   "cell_type": "code",
   "execution_count": null,
   "id": "19901e4f-176f-4bf5-a8a0-b757ffab9c93",
   "metadata": {},
   "outputs": [
    {
     "data": {
      "text/plain": [
       "array(['00', '000', '000e', ..., 'œuvre', 'œuvrent', 'œuvres'],\n",
       "      dtype=object)"
      ]
     },
     "execution_count": 17,
     "metadata": {},
     "output_type": "execute_result"
    }
   ],
   "source": [
    "#modele.get_feature_names_out()"
   ]
  },
  {
   "cell_type": "markdown",
   "id": "a1234618-9c61-43ea-ae81-ee65198c2c5e",
   "metadata": {},
   "source": [
    "Pas mal d'options"
   ]
  },
  {
   "cell_type": "code",
   "execution_count": 14,
   "id": "add4cd3a-3fe9-4193-99df-48ead779b0f3",
   "metadata": {},
   "outputs": [],
   "source": [
    "from spacy.lang.fr.stop_words import STOP_WORDS as fr_stop"
   ]
  },
  {
   "cell_type": "markdown",
   "id": "22c2309f-183f-4993-a848-c8b8b9d27b07",
   "metadata": {},
   "source": [
    "## TF-IDF"
   ]
  },
  {
   "cell_type": "code",
   "execution_count": 24,
   "id": "985f2f6e-5e31-4f5e-8297-a3f46b25e44c",
   "metadata": {},
   "outputs": [
    {
     "name": "stderr",
     "output_type": "stream",
     "text": [
      "/opt/anaconda3/lib/python3.11/site-packages/sklearn/feature_extraction/text.py:409: UserWarning: Your stop_words may be inconsistent with your preprocessing. Tokenizing the stop words generated tokens ['neuf', 'qu', 'quelqu'] not in stop_words.\n",
      "  warnings.warn(\n"
     ]
    }
   ],
   "source": [
    "from sklearn.feature_extraction.text import TfidfVectorizer"
   ]
  },
  {
   "cell_type": "markdown",
   "id": "b0a7041a-e9f9-4fce-821c-d2514ac3168f",
   "metadata": {},
   "source": [
    "Peut être pas la meilleure échelle : décomposer au paragraphe ?"
   ]
  },
  {
   "cell_type": "markdown",
   "id": "43cb84e3-454f-45ac-9591-3bfb877334f0",
   "metadata": {},
   "source": [
    "## Premiers pas avec SpaCy\n"
   ]
  },
  {
   "cell_type": "markdown",
   "id": "8b0b57c1-6a80-4994-a21f-06caed2a013d",
   "metadata": {},
   "source": [
    "### Télécharger et utiliser un modèle (un trained pipepeline)\n",
    "\n",
    "Se familiariser avec la structure doc/span/token"
   ]
  },
  {
   "cell_type": "code",
   "execution_count": 2,
   "id": "d3e8cf33-ceeb-46a7-b182-c305325b52ca",
   "metadata": {},
   "outputs": [],
   "source": [
    "#pip install spacy"
   ]
  },
  {
   "cell_type": "markdown",
   "id": "4d847ef3-aa25-4b38-9f97-84274a0bf54a",
   "metadata": {},
   "source": [
    "Installer le pipeline"
   ]
  },
  {
   "cell_type": "code",
   "execution_count": 3,
   "id": "0b00bc14-772a-4766-a518-257924839034",
   "metadata": {},
   "outputs": [],
   "source": [
    "#!python -m spacy download fr_core_news_lg"
   ]
  },
  {
   "cell_type": "code",
   "execution_count": null,
   "id": "52476fab-8a1d-4c51-84e9-4d01339d9588",
   "metadata": {
    "jupyter": {
     "source_hidden": true
    }
   },
   "outputs": [],
   "source": [
    "pipeline = spacy.load(\"fr_core_news_lg\")"
   ]
  },
  {
   "cell_type": "markdown",
   "id": "6ae32662-545e-4cc8-a384-0fea690594b5",
   "metadata": {},
   "source": [
    "Possibilité d'avoir la distance entre deux textes"
   ]
  },
  {
   "cell_type": "code",
   "execution_count": null,
   "id": "706cb734-7343-4f2f-b0cd-84f741dbaf9e",
   "metadata": {},
   "outputs": [],
   "source": [
    "# Compare two documents\n",
    "doc1 = pipeline(\"J'aime beaucoup programmer en Python\")\n",
    "doc2 = pipeline(\"J'aime beaucoup programmer en R\")\n",
    "print(doc1.similarity(doc2))"
   ]
  },
  {
   "cell_type": "markdown",
   "id": "352724a0-2e39-40a1-8238-748424a809eb",
   "metadata": {},
   "source": [
    "### Lemmatiser et garder que les noms\n",
    "\n",
    "Utiliser le POS"
   ]
  },
  {
   "cell_type": "code",
   "execution_count": 8,
   "id": "594330a1-1951-48c2-9dbb-384a1aa7543a",
   "metadata": {},
   "outputs": [],
   "source": [
    "# Partie à faire en TP"
   ]
  },
  {
   "cell_type": "markdown",
   "id": "b64cf55a-b70f-40f2-b923-b3d6af2159a1",
   "metadata": {},
   "source": [
    "### Identifier les entités nommées"
   ]
  },
  {
   "cell_type": "code",
   "execution_count": null,
   "id": "ad498540-dd25-4e1e-a297-febb7c2e8d34",
   "metadata": {},
   "outputs": [],
   "source": [
    "text = df[\"text\"].iloc[0]\n",
    "doc = pipeline(text)\n",
    "for ent in doc.ents:\n",
    "    print(ent.text, ent.label_)"
   ]
  },
  {
   "cell_type": "markdown",
   "id": "c30ab27e-7c6c-42fa-87e2-b1ceecb68b33",
   "metadata": {},
   "source": [
    "Afficher les entités nommées."
   ]
  },
  {
   "cell_type": "code",
   "execution_count": null,
   "id": "c8ead4d3-a999-4a0f-8bd0-81bab02d7176",
   "metadata": {},
   "outputs": [],
   "source": [
    "from spacy import displacy\n",
    "displacy.render(doc, style=\"ent\", \n",
    "                jupyter=True)"
   ]
  },
  {
   "cell_type": "markdown",
   "id": "44d8d9f7-078b-4a96-b615-d83d52cdd2bc",
   "metadata": {
    "jp-MarkdownHeadingCollapsed": true
   },
   "source": [
    "## GliNER\n",
    "\n",
    "Un modèle plus complexe pour l'identification d'entités"
   ]
  },
  {
   "cell_type": "code",
   "execution_count": 32,
   "id": "4034d7c5-8309-492a-89d1-a9365558c831",
   "metadata": {},
   "outputs": [],
   "source": [
    "#!pip install gliner"
   ]
  }
 ],
 "metadata": {
  "kernelspec": {
   "display_name": "Python 3 (ipykernel)",
   "language": "python",
   "name": "python3"
  },
  "language_info": {
   "codemirror_mode": {
    "name": "ipython",
    "version": 3
   },
   "file_extension": ".py",
   "mimetype": "text/x-python",
   "name": "python",
   "nbconvert_exporter": "python",
   "pygments_lexer": "ipython3",
   "version": "3.11.7"
  }
 },
 "nbformat": 4,
 "nbformat_minor": 5
}
