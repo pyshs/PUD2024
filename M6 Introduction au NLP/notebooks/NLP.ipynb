{
 "cells": [
  {
   "cell_type": "markdown",
   "id": "5c11ff97-66a6-4875-b744-64b495a30b1b",
   "metadata": {},
   "source": [
    "# Différentes approches de NLP"
   ]
  },
  {
   "cell_type": "markdown",
   "id": "eeb48379-8b38-4259-b34f-fa3fa58d93ee",
   "metadata": {},
   "source": [
    "## Données"
   ]
  },
  {
   "cell_type": "code",
   "execution_count": 1,
   "id": "5e2d43d6-a965-4d5b-88ad-dae511b83a97",
   "metadata": {},
   "outputs": [],
   "source": [
    "import pandas as pd\n",
    "df = pd.read_csv(\"../../../data/tableau_presse.csv\")"
   ]
  },
  {
   "cell_type": "markdown",
   "id": "f2067bc0",
   "metadata": {},
   "source": [
    "## Regex\n",
    "\n",
    "Extraire toutes les dates "
   ]
  },
  {
   "cell_type": "code",
   "execution_count": 15,
   "id": "2a538b0a",
   "metadata": {},
   "outputs": [],
   "source": [
    "import re\n",
    "m = '(\\d{1,2}\\s+\\w+\\s+\\d{4})'"
   ]
  },
  {
   "cell_type": "code",
   "execution_count": 16,
   "id": "2c72b7d0-8962-424c-9fd2-31f47f2590f0",
   "metadata": {},
   "outputs": [],
   "source": [
    "texte = df[\"Contenu_mod\"].iloc[0]"
   ]
  },
  {
   "cell_type": "code",
   "execution_count": 17,
   "id": "ed44bf16-5288-481c-be97-9612c09556e1",
   "metadata": {},
   "outputs": [
    {
     "data": {
      "text/plain": [
       "['11\\xa0février\\xa02025', '24 et 2027']"
      ]
     },
     "execution_count": 17,
     "metadata": {},
     "output_type": "execute_result"
    }
   ],
   "source": [
    "re.findall(m, texte)"
   ]
  },
  {
   "cell_type": "markdown",
   "id": "bbcdd385-e3f7-4aad-9ea3-6c2b295dfc6c",
   "metadata": {},
   "source": [
    "## Mot par mot, ou dictionnaires\n",
    "\n",
    "comptons certains mots \n",
    "- startup\n",
    "- entreprise\n",
    "- etc."
   ]
  },
  {
   "cell_type": "code",
   "execution_count": 19,
   "id": "2a945430-7af5-4909-9b6b-32af8dde69de",
   "metadata": {},
   "outputs": [],
   "source": [
    "mots = [\"intelligence artificielle\", \"startup\", \"informatique\"]"
   ]
  },
  {
   "cell_type": "markdown",
   "id": "a0d84cf0-d61f-4c35-9e04-dcf5e346869c",
   "metadata": {},
   "source": [
    "## DFM"
   ]
  },
  {
   "cell_type": "code",
   "execution_count": 20,
   "id": "bbf67d61-15aa-4fa4-a4e3-91908771313c",
   "metadata": {},
   "outputs": [],
   "source": [
    "from sklearn.feature_extraction.text import CountVectorizer"
   ]
  },
  {
   "cell_type": "code",
   "execution_count": 23,
   "id": "55645742-7845-4a77-981c-73acb4bbc7b0",
   "metadata": {},
   "outputs": [
    {
     "data": {
      "text/html": [
       "<style>#sk-container-id-1 {color: black;background-color: white;}#sk-container-id-1 pre{padding: 0;}#sk-container-id-1 div.sk-toggleable {background-color: white;}#sk-container-id-1 label.sk-toggleable__label {cursor: pointer;display: block;width: 100%;margin-bottom: 0;padding: 0.3em;box-sizing: border-box;text-align: center;}#sk-container-id-1 label.sk-toggleable__label-arrow:before {content: \"▸\";float: left;margin-right: 0.25em;color: #696969;}#sk-container-id-1 label.sk-toggleable__label-arrow:hover:before {color: black;}#sk-container-id-1 div.sk-estimator:hover label.sk-toggleable__label-arrow:before {color: black;}#sk-container-id-1 div.sk-toggleable__content {max-height: 0;max-width: 0;overflow: hidden;text-align: left;background-color: #f0f8ff;}#sk-container-id-1 div.sk-toggleable__content pre {margin: 0.2em;color: black;border-radius: 0.25em;background-color: #f0f8ff;}#sk-container-id-1 input.sk-toggleable__control:checked~div.sk-toggleable__content {max-height: 200px;max-width: 100%;overflow: auto;}#sk-container-id-1 input.sk-toggleable__control:checked~label.sk-toggleable__label-arrow:before {content: \"▾\";}#sk-container-id-1 div.sk-estimator input.sk-toggleable__control:checked~label.sk-toggleable__label {background-color: #d4ebff;}#sk-container-id-1 div.sk-label input.sk-toggleable__control:checked~label.sk-toggleable__label {background-color: #d4ebff;}#sk-container-id-1 input.sk-hidden--visually {border: 0;clip: rect(1px 1px 1px 1px);clip: rect(1px, 1px, 1px, 1px);height: 1px;margin: -1px;overflow: hidden;padding: 0;position: absolute;width: 1px;}#sk-container-id-1 div.sk-estimator {font-family: monospace;background-color: #f0f8ff;border: 1px dotted black;border-radius: 0.25em;box-sizing: border-box;margin-bottom: 0.5em;}#sk-container-id-1 div.sk-estimator:hover {background-color: #d4ebff;}#sk-container-id-1 div.sk-parallel-item::after {content: \"\";width: 100%;border-bottom: 1px solid gray;flex-grow: 1;}#sk-container-id-1 div.sk-label:hover label.sk-toggleable__label {background-color: #d4ebff;}#sk-container-id-1 div.sk-serial::before {content: \"\";position: absolute;border-left: 1px solid gray;box-sizing: border-box;top: 0;bottom: 0;left: 50%;z-index: 0;}#sk-container-id-1 div.sk-serial {display: flex;flex-direction: column;align-items: center;background-color: white;padding-right: 0.2em;padding-left: 0.2em;position: relative;}#sk-container-id-1 div.sk-item {position: relative;z-index: 1;}#sk-container-id-1 div.sk-parallel {display: flex;align-items: stretch;justify-content: center;background-color: white;position: relative;}#sk-container-id-1 div.sk-item::before, #sk-container-id-1 div.sk-parallel-item::before {content: \"\";position: absolute;border-left: 1px solid gray;box-sizing: border-box;top: 0;bottom: 0;left: 50%;z-index: -1;}#sk-container-id-1 div.sk-parallel-item {display: flex;flex-direction: column;z-index: 1;position: relative;background-color: white;}#sk-container-id-1 div.sk-parallel-item:first-child::after {align-self: flex-end;width: 50%;}#sk-container-id-1 div.sk-parallel-item:last-child::after {align-self: flex-start;width: 50%;}#sk-container-id-1 div.sk-parallel-item:only-child::after {width: 0;}#sk-container-id-1 div.sk-dashed-wrapped {border: 1px dashed gray;margin: 0 0.4em 0.5em 0.4em;box-sizing: border-box;padding-bottom: 0.4em;background-color: white;}#sk-container-id-1 div.sk-label label {font-family: monospace;font-weight: bold;display: inline-block;line-height: 1.2em;}#sk-container-id-1 div.sk-label-container {text-align: center;}#sk-container-id-1 div.sk-container {/* jupyter's `normalize.less` sets `[hidden] { display: none; }` but bootstrap.min.css set `[hidden] { display: none !important; }` so we also need the `!important` here to be able to override the default hidden behavior on the sphinx rendered scikit-learn.org. See: https://github.com/scikit-learn/scikit-learn/issues/21755 */display: inline-block !important;position: relative;}#sk-container-id-1 div.sk-text-repr-fallback {display: none;}</style><div id=\"sk-container-id-1\" class=\"sk-top-container\"><div class=\"sk-text-repr-fallback\"><pre>CountVectorizer()</pre><b>In a Jupyter environment, please rerun this cell to show the HTML representation or trust the notebook. <br />On GitHub, the HTML representation is unable to render, please try loading this page with nbviewer.org.</b></div><div class=\"sk-container\" hidden><div class=\"sk-item\"><div class=\"sk-estimator sk-toggleable\"><input class=\"sk-toggleable__control sk-hidden--visually\" id=\"sk-estimator-id-1\" type=\"checkbox\" checked><label for=\"sk-estimator-id-1\" class=\"sk-toggleable__label sk-toggleable__label-arrow\">CountVectorizer</label><div class=\"sk-toggleable__content\"><pre>CountVectorizer()</pre></div></div></div></div></div>"
      ],
      "text/plain": [
       "CountVectorizer()"
      ]
     },
     "execution_count": 23,
     "metadata": {},
     "output_type": "execute_result"
    }
   ],
   "source": [
    "modele = CountVectorizer()\n",
    "\n",
    "modele.fit(df[\"Contenu_mod\"].dropna())"
   ]
  },
  {
   "cell_type": "code",
   "execution_count": 24,
   "id": "19901e4f-176f-4bf5-a8a0-b757ffab9c93",
   "metadata": {},
   "outputs": [
    {
     "data": {
      "text/plain": [
       "array(['00', '000', '000e', ..., 'œuvrecette', 'œuvrer', 'œuvres'],\n",
       "      dtype=object)"
      ]
     },
     "execution_count": 24,
     "metadata": {},
     "output_type": "execute_result"
    }
   ],
   "source": [
    "modele.get_feature_names_out()"
   ]
  },
  {
   "cell_type": "code",
   "execution_count": 26,
   "id": "be90bd5d-fa31-41fe-ac2f-1d3570b1d81b",
   "metadata": {},
   "outputs": [],
   "source": [
    "tableau = modele.transform(df[\"Contenu_mod\"].dropna())"
   ]
  },
  {
   "cell_type": "code",
   "execution_count": 30,
   "id": "dd75c458-a384-4816-9240-583aa47ed312",
   "metadata": {},
   "outputs": [
    {
     "data": {
      "text/html": [
       "<div>\n",
       "<style scoped>\n",
       "    .dataframe tbody tr th:only-of-type {\n",
       "        vertical-align: middle;\n",
       "    }\n",
       "\n",
       "    .dataframe tbody tr th {\n",
       "        vertical-align: top;\n",
       "    }\n",
       "\n",
       "    .dataframe thead th {\n",
       "        text-align: right;\n",
       "    }\n",
       "</style>\n",
       "<table border=\"1\" class=\"dataframe\">\n",
       "  <thead>\n",
       "    <tr style=\"text-align: right;\">\n",
       "      <th></th>\n",
       "      <th>00</th>\n",
       "      <th>000</th>\n",
       "      <th>000e</th>\n",
       "      <th>001</th>\n",
       "      <th>002</th>\n",
       "      <th>003</th>\n",
       "      <th>004</th>\n",
       "      <th>00bienvenueen</th>\n",
       "      <th>00la</th>\n",
       "      <th>01</th>\n",
       "      <th>...</th>\n",
       "      <th>ôtant</th>\n",
       "      <th>ôte</th>\n",
       "      <th>ôtent</th>\n",
       "      <th>œil</th>\n",
       "      <th>œuf</th>\n",
       "      <th>œufs</th>\n",
       "      <th>œuvre</th>\n",
       "      <th>œuvrecette</th>\n",
       "      <th>œuvrer</th>\n",
       "      <th>œuvres</th>\n",
       "    </tr>\n",
       "  </thead>\n",
       "  <tbody>\n",
       "    <tr>\n",
       "      <th>0</th>\n",
       "      <td>0</td>\n",
       "      <td>3</td>\n",
       "      <td>0</td>\n",
       "      <td>0</td>\n",
       "      <td>0</td>\n",
       "      <td>0</td>\n",
       "      <td>0</td>\n",
       "      <td>0</td>\n",
       "      <td>0</td>\n",
       "      <td>0</td>\n",
       "      <td>...</td>\n",
       "      <td>0</td>\n",
       "      <td>0</td>\n",
       "      <td>0</td>\n",
       "      <td>0</td>\n",
       "      <td>0</td>\n",
       "      <td>0</td>\n",
       "      <td>0</td>\n",
       "      <td>0</td>\n",
       "      <td>0</td>\n",
       "      <td>0</td>\n",
       "    </tr>\n",
       "    <tr>\n",
       "      <th>1</th>\n",
       "      <td>0</td>\n",
       "      <td>0</td>\n",
       "      <td>0</td>\n",
       "      <td>0</td>\n",
       "      <td>0</td>\n",
       "      <td>0</td>\n",
       "      <td>0</td>\n",
       "      <td>0</td>\n",
       "      <td>0</td>\n",
       "      <td>0</td>\n",
       "      <td>...</td>\n",
       "      <td>0</td>\n",
       "      <td>0</td>\n",
       "      <td>0</td>\n",
       "      <td>0</td>\n",
       "      <td>0</td>\n",
       "      <td>0</td>\n",
       "      <td>1</td>\n",
       "      <td>0</td>\n",
       "      <td>0</td>\n",
       "      <td>0</td>\n",
       "    </tr>\n",
       "    <tr>\n",
       "      <th>2</th>\n",
       "      <td>0</td>\n",
       "      <td>0</td>\n",
       "      <td>0</td>\n",
       "      <td>0</td>\n",
       "      <td>0</td>\n",
       "      <td>0</td>\n",
       "      <td>0</td>\n",
       "      <td>0</td>\n",
       "      <td>0</td>\n",
       "      <td>0</td>\n",
       "      <td>...</td>\n",
       "      <td>0</td>\n",
       "      <td>0</td>\n",
       "      <td>0</td>\n",
       "      <td>0</td>\n",
       "      <td>0</td>\n",
       "      <td>0</td>\n",
       "      <td>2</td>\n",
       "      <td>0</td>\n",
       "      <td>0</td>\n",
       "      <td>0</td>\n",
       "    </tr>\n",
       "    <tr>\n",
       "      <th>3</th>\n",
       "      <td>0</td>\n",
       "      <td>1</td>\n",
       "      <td>0</td>\n",
       "      <td>0</td>\n",
       "      <td>0</td>\n",
       "      <td>0</td>\n",
       "      <td>0</td>\n",
       "      <td>0</td>\n",
       "      <td>0</td>\n",
       "      <td>0</td>\n",
       "      <td>...</td>\n",
       "      <td>0</td>\n",
       "      <td>0</td>\n",
       "      <td>0</td>\n",
       "      <td>0</td>\n",
       "      <td>0</td>\n",
       "      <td>0</td>\n",
       "      <td>0</td>\n",
       "      <td>0</td>\n",
       "      <td>0</td>\n",
       "      <td>0</td>\n",
       "    </tr>\n",
       "    <tr>\n",
       "      <th>4</th>\n",
       "      <td>0</td>\n",
       "      <td>14</td>\n",
       "      <td>0</td>\n",
       "      <td>0</td>\n",
       "      <td>0</td>\n",
       "      <td>0</td>\n",
       "      <td>0</td>\n",
       "      <td>0</td>\n",
       "      <td>0</td>\n",
       "      <td>0</td>\n",
       "      <td>...</td>\n",
       "      <td>0</td>\n",
       "      <td>0</td>\n",
       "      <td>0</td>\n",
       "      <td>0</td>\n",
       "      <td>0</td>\n",
       "      <td>0</td>\n",
       "      <td>1</td>\n",
       "      <td>0</td>\n",
       "      <td>0</td>\n",
       "      <td>0</td>\n",
       "    </tr>\n",
       "    <tr>\n",
       "      <th>...</th>\n",
       "      <td>...</td>\n",
       "      <td>...</td>\n",
       "      <td>...</td>\n",
       "      <td>...</td>\n",
       "      <td>...</td>\n",
       "      <td>...</td>\n",
       "      <td>...</td>\n",
       "      <td>...</td>\n",
       "      <td>...</td>\n",
       "      <td>...</td>\n",
       "      <td>...</td>\n",
       "      <td>...</td>\n",
       "      <td>...</td>\n",
       "      <td>...</td>\n",
       "      <td>...</td>\n",
       "      <td>...</td>\n",
       "      <td>...</td>\n",
       "      <td>...</td>\n",
       "      <td>...</td>\n",
       "      <td>...</td>\n",
       "      <td>...</td>\n",
       "    </tr>\n",
       "    <tr>\n",
       "      <th>990</th>\n",
       "      <td>0</td>\n",
       "      <td>0</td>\n",
       "      <td>0</td>\n",
       "      <td>0</td>\n",
       "      <td>0</td>\n",
       "      <td>0</td>\n",
       "      <td>0</td>\n",
       "      <td>0</td>\n",
       "      <td>0</td>\n",
       "      <td>0</td>\n",
       "      <td>...</td>\n",
       "      <td>0</td>\n",
       "      <td>0</td>\n",
       "      <td>0</td>\n",
       "      <td>0</td>\n",
       "      <td>0</td>\n",
       "      <td>0</td>\n",
       "      <td>0</td>\n",
       "      <td>0</td>\n",
       "      <td>0</td>\n",
       "      <td>0</td>\n",
       "    </tr>\n",
       "    <tr>\n",
       "      <th>991</th>\n",
       "      <td>0</td>\n",
       "      <td>0</td>\n",
       "      <td>0</td>\n",
       "      <td>0</td>\n",
       "      <td>0</td>\n",
       "      <td>0</td>\n",
       "      <td>0</td>\n",
       "      <td>0</td>\n",
       "      <td>0</td>\n",
       "      <td>0</td>\n",
       "      <td>...</td>\n",
       "      <td>0</td>\n",
       "      <td>0</td>\n",
       "      <td>0</td>\n",
       "      <td>0</td>\n",
       "      <td>0</td>\n",
       "      <td>0</td>\n",
       "      <td>0</td>\n",
       "      <td>0</td>\n",
       "      <td>0</td>\n",
       "      <td>0</td>\n",
       "    </tr>\n",
       "    <tr>\n",
       "      <th>992</th>\n",
       "      <td>0</td>\n",
       "      <td>0</td>\n",
       "      <td>0</td>\n",
       "      <td>0</td>\n",
       "      <td>0</td>\n",
       "      <td>0</td>\n",
       "      <td>0</td>\n",
       "      <td>0</td>\n",
       "      <td>0</td>\n",
       "      <td>0</td>\n",
       "      <td>...</td>\n",
       "      <td>0</td>\n",
       "      <td>0</td>\n",
       "      <td>0</td>\n",
       "      <td>0</td>\n",
       "      <td>0</td>\n",
       "      <td>0</td>\n",
       "      <td>0</td>\n",
       "      <td>0</td>\n",
       "      <td>0</td>\n",
       "      <td>0</td>\n",
       "    </tr>\n",
       "    <tr>\n",
       "      <th>993</th>\n",
       "      <td>0</td>\n",
       "      <td>0</td>\n",
       "      <td>0</td>\n",
       "      <td>0</td>\n",
       "      <td>0</td>\n",
       "      <td>0</td>\n",
       "      <td>0</td>\n",
       "      <td>0</td>\n",
       "      <td>0</td>\n",
       "      <td>0</td>\n",
       "      <td>...</td>\n",
       "      <td>0</td>\n",
       "      <td>0</td>\n",
       "      <td>0</td>\n",
       "      <td>0</td>\n",
       "      <td>0</td>\n",
       "      <td>0</td>\n",
       "      <td>0</td>\n",
       "      <td>0</td>\n",
       "      <td>0</td>\n",
       "      <td>0</td>\n",
       "    </tr>\n",
       "    <tr>\n",
       "      <th>994</th>\n",
       "      <td>0</td>\n",
       "      <td>0</td>\n",
       "      <td>0</td>\n",
       "      <td>0</td>\n",
       "      <td>0</td>\n",
       "      <td>0</td>\n",
       "      <td>0</td>\n",
       "      <td>0</td>\n",
       "      <td>0</td>\n",
       "      <td>0</td>\n",
       "      <td>...</td>\n",
       "      <td>0</td>\n",
       "      <td>0</td>\n",
       "      <td>0</td>\n",
       "      <td>0</td>\n",
       "      <td>0</td>\n",
       "      <td>0</td>\n",
       "      <td>0</td>\n",
       "      <td>0</td>\n",
       "      <td>0</td>\n",
       "      <td>0</td>\n",
       "    </tr>\n",
       "  </tbody>\n",
       "</table>\n",
       "<p>995 rows × 42903 columns</p>\n",
       "</div>"
      ],
      "text/plain": [
       "     00  000  000e  001  002  003  004  00bienvenueen  00la  01  ...  ôtant  \\\n",
       "0     0    3     0    0    0    0    0              0     0   0  ...      0   \n",
       "1     0    0     0    0    0    0    0              0     0   0  ...      0   \n",
       "2     0    0     0    0    0    0    0              0     0   0  ...      0   \n",
       "3     0    1     0    0    0    0    0              0     0   0  ...      0   \n",
       "4     0   14     0    0    0    0    0              0     0   0  ...      0   \n",
       "..   ..  ...   ...  ...  ...  ...  ...            ...   ...  ..  ...    ...   \n",
       "990   0    0     0    0    0    0    0              0     0   0  ...      0   \n",
       "991   0    0     0    0    0    0    0              0     0   0  ...      0   \n",
       "992   0    0     0    0    0    0    0              0     0   0  ...      0   \n",
       "993   0    0     0    0    0    0    0              0     0   0  ...      0   \n",
       "994   0    0     0    0    0    0    0              0     0   0  ...      0   \n",
       "\n",
       "     ôte  ôtent  œil  œuf  œufs  œuvre  œuvrecette  œuvrer  œuvres  \n",
       "0      0      0    0    0     0      0           0       0       0  \n",
       "1      0      0    0    0     0      1           0       0       0  \n",
       "2      0      0    0    0     0      2           0       0       0  \n",
       "3      0      0    0    0     0      0           0       0       0  \n",
       "4      0      0    0    0     0      1           0       0       0  \n",
       "..   ...    ...  ...  ...   ...    ...         ...     ...     ...  \n",
       "990    0      0    0    0     0      0           0       0       0  \n",
       "991    0      0    0    0     0      0           0       0       0  \n",
       "992    0      0    0    0     0      0           0       0       0  \n",
       "993    0      0    0    0     0      0           0       0       0  \n",
       "994    0      0    0    0     0      0           0       0       0  \n",
       "\n",
       "[995 rows x 42903 columns]"
      ]
     },
     "execution_count": 30,
     "metadata": {},
     "output_type": "execute_result"
    }
   ],
   "source": [
    "pd.DataFrame(tableau.toarray(), columns=modele.get_feature_names_out())"
   ]
  },
  {
   "cell_type": "markdown",
   "id": "a1234618-9c61-43ea-ae81-ee65198c2c5e",
   "metadata": {},
   "source": [
    "Pas mal d'options"
   ]
  },
  {
   "cell_type": "code",
   "execution_count": 31,
   "id": "add4cd3a-3fe9-4193-99df-48ead779b0f3",
   "metadata": {},
   "outputs": [],
   "source": [
    "from spacy.lang.fr.stop_words import STOP_WORDS as fr_stop"
   ]
  },
  {
   "cell_type": "code",
   "execution_count": 33,
   "id": "ae0d87ac-f78f-4c8d-87ec-747ee49392d5",
   "metadata": {},
   "outputs": [],
   "source": [
    "#fr_stop"
   ]
  },
  {
   "cell_type": "markdown",
   "id": "22c2309f-183f-4993-a848-c8b8b9d27b07",
   "metadata": {},
   "source": [
    "## TF-IDF"
   ]
  },
  {
   "cell_type": "code",
   "execution_count": 24,
   "id": "985f2f6e-5e31-4f5e-8297-a3f46b25e44c",
   "metadata": {},
   "outputs": [
    {
     "name": "stderr",
     "output_type": "stream",
     "text": [
      "/opt/anaconda3/lib/python3.11/site-packages/sklearn/feature_extraction/text.py:409: UserWarning: Your stop_words may be inconsistent with your preprocessing. Tokenizing the stop words generated tokens ['neuf', 'qu', 'quelqu'] not in stop_words.\n",
      "  warnings.warn(\n"
     ]
    }
   ],
   "source": [
    "from sklearn.feature_extraction.text import TfidfVectorizer"
   ]
  },
  {
   "cell_type": "markdown",
   "id": "b0a7041a-e9f9-4fce-821c-d2514ac3168f",
   "metadata": {},
   "source": [
    "Peut être pas la meilleure échelle : décomposer au paragraphe ?"
   ]
  },
  {
   "cell_type": "markdown",
   "id": "43cb84e3-454f-45ac-9591-3bfb877334f0",
   "metadata": {},
   "source": [
    "## Premiers pas avec SpaCy\n"
   ]
  },
  {
   "cell_type": "markdown",
   "id": "8b0b57c1-6a80-4994-a21f-06caed2a013d",
   "metadata": {},
   "source": [
    "### Télécharger et utiliser un modèle (un trained pipepeline)\n",
    "\n",
    "Se familiariser avec la structure doc/span/token"
   ]
  },
  {
   "cell_type": "code",
   "execution_count": 35,
   "id": "d3e8cf33-ceeb-46a7-b182-c305325b52ca",
   "metadata": {},
   "outputs": [],
   "source": [
    "#pip install spacy"
   ]
  },
  {
   "cell_type": "markdown",
   "id": "4d847ef3-aa25-4b38-9f97-84274a0bf54a",
   "metadata": {},
   "source": [
    "Installer le pipeline"
   ]
  },
  {
   "cell_type": "code",
   "execution_count": 37,
   "id": "0b00bc14-772a-4766-a518-257924839034",
   "metadata": {},
   "outputs": [],
   "source": [
    "#!python -m spacy download fr_core_news_lg"
   ]
  },
  {
   "cell_type": "code",
   "execution_count": 39,
   "id": "52476fab-8a1d-4c51-84e9-4d01339d9588",
   "metadata": {},
   "outputs": [],
   "source": [
    "import spacy\n",
    "pipeline = spacy.load(\"fr_core_news_lg\")"
   ]
  },
  {
   "cell_type": "code",
   "execution_count": 41,
   "id": "e6639517-fe1c-45d2-9a6b-a045d6e63493",
   "metadata": {},
   "outputs": [
    {
     "data": {
      "text/plain": [
       "<spacy.lang.fr.French at 0x2b2285b10>"
      ]
     },
     "execution_count": 41,
     "metadata": {},
     "output_type": "execute_result"
    }
   ],
   "source": [
    "pipeline"
   ]
  },
  {
   "cell_type": "code",
   "execution_count": 42,
   "id": "3f34e7fe-97bb-4e8d-a7cd-68d74a72bd1c",
   "metadata": {},
   "outputs": [],
   "source": [
    "doc1 = pipeline(\"J'aime beaucoup programmer en Python\")"
   ]
  },
  {
   "cell_type": "code",
   "execution_count": 48,
   "id": "ae0f35c2-368f-4bda-ac1d-7c7a7cfa7663",
   "metadata": {},
   "outputs": [
    {
     "name": "stdout",
     "output_type": "stream",
     "text": [
      "J' je PRON\n",
      "aime aimer VERB\n",
      "beaucoup beaucoup ADV\n",
      "programmer programmer VERB\n",
      "en en ADP\n",
      "Python Python PROPN\n"
     ]
    }
   ],
   "source": [
    "for m in doc1:\n",
    "    print(m, m.lemma_, m.pos_)"
   ]
  },
  {
   "cell_type": "code",
   "execution_count": 49,
   "id": "36b8f40b-1a05-40f1-b97a-994f48560c13",
   "metadata": {},
   "outputs": [
    {
     "name": "stdout",
     "output_type": "stream",
     "text": [
      "aime\n",
      "programmer\n"
     ]
    }
   ],
   "source": [
    "for m in doc1:\n",
    "    if m.pos_ == \"VERB\":\n",
    "        print(m)"
   ]
  },
  {
   "cell_type": "markdown",
   "id": "6ae32662-545e-4cc8-a384-0fea690594b5",
   "metadata": {},
   "source": [
    "Possibilité d'avoir la distance entre deux textes"
   ]
  },
  {
   "cell_type": "code",
   "execution_count": 50,
   "id": "706cb734-7343-4f2f-b0cd-84f741dbaf9e",
   "metadata": {},
   "outputs": [
    {
     "name": "stdout",
     "output_type": "stream",
     "text": [
      "0.9162800610031004\n"
     ]
    }
   ],
   "source": [
    "# Compare two documents\n",
    "doc1 = pipeline(\"J'aime beaucoup programmer en Python\")\n",
    "doc2 = pipeline(\"J'aime beaucoup programmer en R\")\n",
    "print(doc1.similarity(doc2))"
   ]
  },
  {
   "cell_type": "code",
   "execution_count": 53,
   "id": "876febcc-160f-4863-bc40-680bdfe4007f",
   "metadata": {},
   "outputs": [],
   "source": [
    "txt_emb = pipeline(texte)"
   ]
  },
  {
   "cell_type": "code",
   "execution_count": 55,
   "id": "31c59442-7224-468f-994f-84ec6e5ebffd",
   "metadata": {},
   "outputs": [],
   "source": [
    "#txt_emb.ents"
   ]
  },
  {
   "cell_type": "markdown",
   "id": "352724a0-2e39-40a1-8238-748424a809eb",
   "metadata": {},
   "source": [
    "### Lemmatiser et garder que les noms\n",
    "\n",
    "Utiliser le POS"
   ]
  },
  {
   "cell_type": "code",
   "execution_count": 8,
   "id": "594330a1-1951-48c2-9dbb-384a1aa7543a",
   "metadata": {},
   "outputs": [],
   "source": [
    "# Partie à faire en TP"
   ]
  },
  {
   "cell_type": "markdown",
   "id": "b64cf55a-b70f-40f2-b923-b3d6af2159a1",
   "metadata": {},
   "source": [
    "### Identifier les entités nommées"
   ]
  },
  {
   "cell_type": "code",
   "execution_count": null,
   "id": "ad498540-dd25-4e1e-a297-febb7c2e8d34",
   "metadata": {},
   "outputs": [],
   "source": [
    "text = df[\"text\"].iloc[0]\n",
    "doc = pipeline(text)\n",
    "for ent in doc.ents:\n",
    "    print(ent.text, ent.label_)"
   ]
  },
  {
   "cell_type": "markdown",
   "id": "c30ab27e-7c6c-42fa-87e2-b1ceecb68b33",
   "metadata": {},
   "source": [
    "Afficher les entités nommées."
   ]
  },
  {
   "cell_type": "code",
   "execution_count": null,
   "id": "c8ead4d3-a999-4a0f-8bd0-81bab02d7176",
   "metadata": {},
   "outputs": [],
   "source": [
    "from spacy import displacy\n",
    "displacy.render(doc, style=\"ent\", \n",
    "                jupyter=True)"
   ]
  },
  {
   "cell_type": "markdown",
   "id": "44d8d9f7-078b-4a96-b615-d83d52cdd2bc",
   "metadata": {},
   "source": [
    "## GliNER\n",
    "\n",
    "Un modèle plus complexe pour l'identification d'entités"
   ]
  },
  {
   "cell_type": "code",
   "execution_count": 57,
   "id": "4034d7c5-8309-492a-89d1-a9365558c831",
   "metadata": {},
   "outputs": [],
   "source": [
    "#!pip install gliner"
   ]
  },
  {
   "cell_type": "code",
   "execution_count": 59,
   "id": "3dc1b721-6a08-4cf6-86e5-bbfa053ff36a",
   "metadata": {},
   "outputs": [
    {
     "name": "stderr",
     "output_type": "stream",
     "text": [
      "/opt/anaconda3/lib/python3.11/site-packages/transformers/convert_slow_tokenizer.py:560: UserWarning: The sentencepiece tokenizer that you are converting to a fast tokenizer uses the byte fallback option which is not implemented in the fast tokenizers. In practice this means that the fast version of the tokenizer can produce unknown tokens whereas the sentencepiece version would have converted these unknown tokens into a sequence of byte tokens matching the original piece of text.\n",
      "  warnings.warn(\n"
     ]
    }
   ],
   "source": [
    "from gliner import GLiNER\n",
    "model = GLiNER.from_pretrained(\"urchade/gliner_multi\")"
   ]
  },
  {
   "cell_type": "code",
   "execution_count": 67,
   "id": "e91e4bcb-7665-4ccf-9e67-10d47a8f599b",
   "metadata": {},
   "outputs": [
    {
     "name": "stderr",
     "output_type": "stream",
     "text": [
      "/opt/anaconda3/lib/python3.11/site-packages/gliner/modules/base.py:33: UserWarning: Sentence of length 1089 has been truncated to 384\n",
      "  warnings.warn(f\"Sentence of length {len(tokens)} has been truncated to {max_len}\")\n"
     ]
    },
    {
     "data": {
      "text/plain": [
       "[{'start': 69,\n",
       "  'end': 84,\n",
       "  'text': 'Emmanuel Macron',\n",
       "  'label': 'politiciens',\n",
       "  'score': 0.9890307784080505},\n",
       " {'start': 335,\n",
       "  'end': 341,\n",
       "  'text': 'Elysée',\n",
       "  'label': 'organizations',\n",
       "  'score': 0.5381392240524292},\n",
       " {'start': 917,\n",
       "  'end': 923,\n",
       "  'text': 'Elysée',\n",
       "  'label': 'organizations',\n",
       "  'score': 0.6087769865989685}]"
      ]
     },
     "execution_count": 67,
     "metadata": {},
     "output_type": "execute_result"
    }
   ],
   "source": [
    "# Labels for entity prediction\n",
    "labels = [\"politiciens\",\"companies\",\"organizations\"]\n",
    "\n",
    "# Perform entity prediction\n",
    "entities = model.predict_entities(texte, labels, threshold=0.5)\n",
    "\n",
    "entities"
   ]
  }
 ],
 "metadata": {
  "kernelspec": {
   "display_name": "Python 3 (ipykernel)",
   "language": "python",
   "name": "python3"
  },
  "language_info": {
   "codemirror_mode": {
    "name": "ipython",
    "version": 3
   },
   "file_extension": ".py",
   "mimetype": "text/x-python",
   "name": "python",
   "nbconvert_exporter": "python",
   "pygments_lexer": "ipython3",
   "version": "3.11.7"
  }
 },
 "nbformat": 4,
 "nbformat_minor": 5
}
