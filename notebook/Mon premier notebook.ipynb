{
 "cells": [
  {
   "cell_type": "markdown",
   "id": "789af077-44b5-49e8-a116-7c5c6ef2592c",
   "metadata": {},
   "source": [
    "# Ceci est mon premier notebook"
   ]
  },
  {
   "cell_type": "markdown",
   "id": "bc5c2016-e756-4513-85ec-32e84a13614f",
   "metadata": {},
   "source": [
    "Date : 12/12/2024"
   ]
  },
  {
   "cell_type": "markdown",
   "id": "7a1de075-02dd-4462-9066-8ba6b86ecf03",
   "metadata": {},
   "source": [
    "Auteur : Émilien"
   ]
  },
  {
   "cell_type": "markdown",
   "id": "d47c889f-5b0d-4584-82ef-acf2ad3d733e",
   "metadata": {},
   "source": [
    "## Mon script"
   ]
  },
  {
   "cell_type": "code",
   "execution_count": 56,
   "id": "ca9467a3-a34c-470f-ae44-39aa754c7b6f",
   "metadata": {},
   "outputs": [
    {
     "name": "stdin",
     "output_type": "stream",
     "text": [
      "Écrivez une phrase:  Coucou ceci estu n tet\n"
     ]
    },
    {
     "name": "stdout",
     "output_type": "stream",
     "text": [
      "Proportion de mots avec 3 lettres ou plus : 80.0\n"
     ]
    }
   ],
   "source": [
    "sortie_fichier = True # création d'une variable\n",
    "nombre_min_lettres = 10 # création d'une variable\n",
    "phrase = input(\"Écrivez une phrase: \") # entrée d'une chaine de caractères par l'utilisateur avec la méthode input\n",
    "liste_mots = phrase.split(\" \") # on coupe sur les espaces en utilisant la méthode .split\n",
    "nombre_mots = len(liste_mots) # création d'une variable nombre de mots\n",
    "\n",
    "# On fait une condition sur la longueur de la chaine\n",
    "longueur_phrase = len(phrase)\n",
    "\n",
    "# si la chaine de caractère est vide\n",
    "if  longueur_phrase == 0: \n",
    "    print(\"Vous n'avez rien écrit\")\n",
    "\n",
    "# si la chaine est non vide\n",
    "else:\n",
    "    # compter le nombre de mots de plus de nombre_min_lettres lettres\n",
    "    compteur = 0 # compteur à 0\n",
    "    for i in liste_mots: # boucle surt les mots\n",
    "        if len(i) >= nombre_min_lettres: # si le mot est plus grand que ...\n",
    "            compteur+=1 # augmenter le compteur de 1\n",
    "\n",
    "    # calcul de proportion\n",
    "    proportion = round(100*compteur/nombre_mots,2)\n",
    "\n",
    "    # mets en forme les valeurs\n",
    "    informations = {\n",
    "        \"Total\":compteur,\n",
    "        \"Proportion\":proportion,\n",
    "        \"Phrase\":phrase,\n",
    "        \"Seuil\":nombre_min_lettres\n",
    "                }\n",
    "\n",
    "    # mise en forme de la sortie écran\n",
    "    sortie = f\"Proportion de mots avec {nombre_min_lettres} lettres ou plus : {proportion}\"\n",
    "    print(sortie)\n",
    "\n",
    "    # opération de sortie\n",
    "    if sortie_fichier:\n",
    "        with open(\"resultat.txt\",\"w\") as f:\n",
    "            f.write(str(informations))\n",
    "\n",
    "        #f = open(\"resultat.txt\",\"w\")\n",
    "        #f.write(str(informations))\n",
    "        #f.close()"
   ]
  },
  {
   "cell_type": "code",
   "execution_count": 57,
   "id": "ace40db3-2e0c-4e8b-bc34-264cb6501669",
   "metadata": {},
   "outputs": [
    {
     "data": {
      "text/plain": [
       "{'Total': 4,\n",
       " 'Proportion': 80.0,\n",
       " 'Phrase': 'Coucou ceci estu n tet',\n",
       " 'Seuil': 3}"
      ]
     },
     "execution_count": 57,
     "metadata": {},
     "output_type": "execute_result"
    }
   ],
   "source": [
    "informations"
   ]
  },
  {
   "cell_type": "markdown",
   "id": "2c789f0f-bb7f-4642-a3f3-02ea4c58261f",
   "metadata": {},
   "source": [
    "## Première ligne\n",
    "\n",
    "Créer une nouvelle variable, et lui donner la valeur vraie"
   ]
  },
  {
   "cell_type": "code",
   "execution_count": 3,
   "id": "821e0a73-b81e-4940-ba1f-054f0b45c32d",
   "metadata": {},
   "outputs": [],
   "source": [
    "sortie_fichier = True"
   ]
  },
  {
   "cell_type": "markdown",
   "id": "1ae166e0-d7bf-415e-89ec-db9bd83e39e5",
   "metadata": {},
   "source": [
    "Nommer les variables : explicite et pas de ponctuations"
   ]
  },
  {
   "cell_type": "code",
   "execution_count": 12,
   "id": "ac304963-976f-456c-a865-9bfc007b168e",
   "metadata": {},
   "outputs": [],
   "source": [
    "sortieFichier = True"
   ]
  },
  {
   "cell_type": "markdown",
   "id": "6e2237b4-0ba9-4084-88f5-7d86d3c33422",
   "metadata": {},
   "source": [
    "Un nom est exacte, sinon erreur"
   ]
  },
  {
   "cell_type": "code",
   "execution_count": 11,
   "id": "d31512a7-6cea-43c8-a2fb-fe59adb0cb55",
   "metadata": {},
   "outputs": [
    {
     "ename": "NameError",
     "evalue": "name 'sortie_fichie' is not defined",
     "output_type": "error",
     "traceback": [
      "\u001b[0;31m---------------------------------------------------------------------------\u001b[0m",
      "\u001b[0;31mNameError\u001b[0m                                 Traceback (most recent call last)",
      "Cell \u001b[0;32mIn[11], line 1\u001b[0m\n\u001b[0;32m----> 1\u001b[0m sortie_fichie\n",
      "\u001b[0;31mNameError\u001b[0m: name 'sortie_fichie' is not defined"
     ]
    }
   ],
   "source": [
    "sortie_fichie"
   ]
  },
  {
   "cell_type": "code",
   "execution_count": 12,
   "id": "e6236be3-9a67-45af-84a8-a89dca988e73",
   "metadata": {},
   "outputs": [
    {
     "data": {
      "text/plain": [
       "bool"
      ]
     },
     "execution_count": 12,
     "metadata": {},
     "output_type": "execute_result"
    }
   ],
   "source": [
    "type(sortie_fichier)"
   ]
  },
  {
   "cell_type": "code",
   "execution_count": 14,
   "id": "4a265f31-1be3-4c59-98a2-92e353b930d8",
   "metadata": {},
   "outputs": [
    {
     "data": {
      "text/plain": [
       "11"
      ]
     },
     "execution_count": 14,
     "metadata": {},
     "output_type": "execute_result"
    }
   ],
   "source": [
    "True + 10"
   ]
  },
  {
   "cell_type": "markdown",
   "id": "3e58a818-d4c5-4dea-b118-ce71e98923a1",
   "metadata": {},
   "source": [
    "## Ligne 2"
   ]
  },
  {
   "cell_type": "code",
   "execution_count": 17,
   "id": "62000ae2-8d9b-4f86-aed2-cd5647301e49",
   "metadata": {},
   "outputs": [],
   "source": [
    "nombre_min_lettres = 4"
   ]
  },
  {
   "cell_type": "code",
   "execution_count": 18,
   "id": "8c835ac5-e9c7-412d-ae40-8958d42f4793",
   "metadata": {},
   "outputs": [
    {
     "data": {
      "text/plain": [
       "int"
      ]
     },
     "execution_count": 18,
     "metadata": {},
     "output_type": "execute_result"
    }
   ],
   "source": [
    "type(nombre_min_lettres)"
   ]
  },
  {
   "cell_type": "markdown",
   "id": "6c11c332-5f67-4e2c-bbfc-0deabd2567b6",
   "metadata": {},
   "source": [
    "## Ligne 3"
   ]
  },
  {
   "cell_type": "code",
   "execution_count": null,
   "id": "bfe17383-b4ea-4bbc-8ee8-e98313dc64f4",
   "metadata": {},
   "outputs": [],
   "source": [
    "phrase = input(\"Écrivez une phrase: \")"
   ]
  },
  {
   "cell_type": "code",
   "execution_count": 22,
   "id": "27da064b-9996-4a75-9c01-36493f148faf",
   "metadata": {},
   "outputs": [
    {
     "name": "stdin",
     "output_type": "stream",
     "text": [
      "Écrivez une phrase:  qssQD\n"
     ]
    },
    {
     "data": {
      "text/plain": [
       "'qssQD'"
      ]
     },
     "execution_count": 22,
     "metadata": {},
     "output_type": "execute_result"
    }
   ],
   "source": [
    "input(\"Écrivez une phrase: \")"
   ]
  },
  {
   "cell_type": "code",
   "execution_count": 21,
   "id": "e14e3c68-c980-46c0-baa0-2d0f2cf5658c",
   "metadata": {},
   "outputs": [
    {
     "data": {
      "text/plain": [
       "\u001b[0;31mSignature:\u001b[0m \u001b[0minput\u001b[0m\u001b[0;34m(\u001b[0m\u001b[0mprompt\u001b[0m\u001b[0;34m=\u001b[0m\u001b[0;34m''\u001b[0m\u001b[0;34m)\u001b[0m\u001b[0;34m\u001b[0m\u001b[0;34m\u001b[0m\u001b[0m\n",
       "\u001b[0;31mDocstring:\u001b[0m\n",
       "Forward raw_input to frontends\n",
       "\n",
       "Raises\n",
       "------\n",
       "StdinNotImplementedError if active frontend doesn't support stdin.\n",
       "\u001b[0;31mFile:\u001b[0m      /opt/anaconda3/lib/python3.11/site-packages/ipykernel/kernelbase.py\n",
       "\u001b[0;31mType:\u001b[0m      method"
      ]
     },
     "metadata": {},
     "output_type": "display_data"
    }
   ],
   "source": [
    "input?"
   ]
  },
  {
   "cell_type": "code",
   "execution_count": 23,
   "id": "31772c39-41e2-4b7d-95fa-40df94dea5d7",
   "metadata": {},
   "outputs": [
    {
     "name": "stdin",
     "output_type": "stream",
     "text": [
      " qdsd\n"
     ]
    },
    {
     "data": {
      "text/plain": [
       "'qdsd'"
      ]
     },
     "execution_count": 23,
     "metadata": {},
     "output_type": "execute_result"
    }
   ],
   "source": [
    "input()"
   ]
  },
  {
   "cell_type": "code",
   "execution_count": 24,
   "id": "d4bb19ae-f4d6-43d9-b31e-bc3bda377dc5",
   "metadata": {},
   "outputs": [
    {
     "data": {
      "text/plain": [
       "'sdqd dqds qdsqds'"
      ]
     },
     "execution_count": 24,
     "metadata": {},
     "output_type": "execute_result"
    }
   ],
   "source": [
    "phrase"
   ]
  },
  {
   "cell_type": "code",
   "execution_count": 25,
   "id": "7219741d-0ca4-4cbb-b561-95f1c481bf74",
   "metadata": {},
   "outputs": [
    {
     "data": {
      "text/plain": [
       "str"
      ]
     },
     "execution_count": 25,
     "metadata": {},
     "output_type": "execute_result"
    }
   ],
   "source": [
    "type(phrase)"
   ]
  },
  {
   "cell_type": "code",
   "execution_count": 26,
   "id": "6725ed6b-27ac-428b-ab33-ffd139ccef37",
   "metadata": {},
   "outputs": [
    {
     "ename": "TypeError",
     "evalue": "can only concatenate str (not \"int\") to str",
     "output_type": "error",
     "traceback": [
      "\u001b[0;31m---------------------------------------------------------------------------\u001b[0m",
      "\u001b[0;31mTypeError\u001b[0m                                 Traceback (most recent call last)",
      "Cell \u001b[0;32mIn[26], line 1\u001b[0m\n\u001b[0;32m----> 1\u001b[0m \u001b[38;5;124m\"\u001b[39m\u001b[38;5;124mcoucou\u001b[39m\u001b[38;5;124m\"\u001b[39m \u001b[38;5;241m+\u001b[39m \u001b[38;5;241m1\u001b[39m\n",
      "\u001b[0;31mTypeError\u001b[0m: can only concatenate str (not \"int\") to str"
     ]
    }
   ],
   "source": [
    "\"coucou\" + 1"
   ]
  },
  {
   "cell_type": "markdown",
   "id": "7fae0907-35cb-4cfe-8d54-8cdbab4c27b1",
   "metadata": {},
   "source": [
    "Chaines de caractères\n",
    "\n",
    "- \" \"\n",
    "- ' '\n",
    "- \"\"\"\n",
    "\n",
    "\"\"\""
   ]
  },
  {
   "cell_type": "code",
   "execution_count": 36,
   "id": "fec8904f-472b-4b4c-8802-d67539af9aa9",
   "metadata": {},
   "outputs": [],
   "source": [
    "var1 = 'C\\'est du texte'"
   ]
  },
  {
   "cell_type": "code",
   "execution_count": 32,
   "id": "8d6c2a0c-bfc0-4a66-88c7-347abd6a8eda",
   "metadata": {},
   "outputs": [],
   "source": [
    "var2 = 'Coucou'"
   ]
  },
  {
   "cell_type": "code",
   "execution_count": 33,
   "id": "cb1aed8d-81f4-4877-963d-edffd9badb01",
   "metadata": {},
   "outputs": [],
   "source": [
    "var3 = \"\"\"\n",
    "Deux\n",
    "lignes\n",
    "\"\"\""
   ]
  },
  {
   "cell_type": "code",
   "execution_count": 39,
   "id": "77b6fe9f-d810-4fe0-b91b-6603e20d8b3a",
   "metadata": {},
   "outputs": [
    {
     "name": "stdout",
     "output_type": "stream",
     "text": [
      "C'est du texte\n",
      "Deux\n",
      "lignes\n",
      "\n"
     ]
    }
   ],
   "source": [
    "print(var1 + var3)"
   ]
  },
  {
   "cell_type": "markdown",
   "id": "a8c7a88d-c02b-4f93-b277-83dde95ad596",
   "metadata": {},
   "source": [
    "## Ligne 4"
   ]
  },
  {
   "cell_type": "code",
   "execution_count": 42,
   "id": "31dfdb53-f989-4ed0-9d57-aa3bef3debad",
   "metadata": {},
   "outputs": [],
   "source": [
    "liste_mots = phrase.split(\" \")"
   ]
  },
  {
   "cell_type": "code",
   "execution_count": 41,
   "id": "89e3ef63-75b1-4cc1-8979-20845f0efd84",
   "metadata": {},
   "outputs": [
    {
     "data": {
      "text/plain": [
       "['sdqd', 'dqds', 'qdsqds']"
      ]
     },
     "execution_count": 41,
     "metadata": {},
     "output_type": "execute_result"
    }
   ],
   "source": [
    "phrase.split(\" \")"
   ]
  },
  {
   "cell_type": "code",
   "execution_count": 43,
   "id": "d3007aed-8f1a-4704-9242-90891fb3b152",
   "metadata": {},
   "outputs": [
    {
     "data": {
      "text/plain": [
       "list"
      ]
     },
     "execution_count": 43,
     "metadata": {},
     "output_type": "execute_result"
    }
   ],
   "source": [
    "type(liste_mots)"
   ]
  },
  {
   "cell_type": "markdown",
   "id": "9ca746e9-a599-4d5e-bc51-4697ca99723f",
   "metadata": {},
   "source": [
    "Nouveau type d'objet primitif : les listes"
   ]
  },
  {
   "cell_type": "code",
   "execution_count": 44,
   "id": "39cb88fd-080e-4c40-b97b-640892439ef0",
   "metadata": {},
   "outputs": [
    {
     "data": {
      "text/plain": [
       "'SDQD DQDS QDSQDS'"
      ]
     },
     "execution_count": 44,
     "metadata": {},
     "output_type": "execute_result"
    }
   ],
   "source": [
    "phrase.upper()"
   ]
  },
  {
   "cell_type": "code",
   "execution_count": 47,
   "id": "7b46b974-0678-4df5-9510-542b63f2c33c",
   "metadata": {},
   "outputs": [
    {
     "data": {
      "text/plain": [
       "0"
      ]
     },
     "execution_count": 47,
     "metadata": {},
     "output_type": "execute_result"
    }
   ],
   "source": [
    "phrase.count(\"c\")"
   ]
  },
  {
   "cell_type": "markdown",
   "id": "b3438689-9e5a-49ff-9c97-ef776d081155",
   "metadata": {},
   "source": [
    "### Intermède liste"
   ]
  },
  {
   "cell_type": "code",
   "execution_count": 50,
   "id": "2923828e-3434-4b0b-afc0-c5d96672aa2b",
   "metadata": {},
   "outputs": [
    {
     "data": {
      "text/plain": [
       "[1, 2, 10, 3]"
      ]
     },
     "execution_count": 50,
     "metadata": {},
     "output_type": "execute_result"
    }
   ],
   "source": [
    "[1,2,10,3]"
   ]
  },
  {
   "cell_type": "code",
   "execution_count": 51,
   "id": "34debdc5-998d-4b4f-80e8-347069bde58d",
   "metadata": {},
   "outputs": [
    {
     "data": {
      "text/plain": [
       "['a', 1, 3]"
      ]
     },
     "execution_count": 51,
     "metadata": {},
     "output_type": "execute_result"
    }
   ],
   "source": [
    "[\"a\",1,3]"
   ]
  },
  {
   "cell_type": "code",
   "execution_count": 52,
   "id": "930bbfa2-7d15-436e-a72f-0261c79f267c",
   "metadata": {},
   "outputs": [
    {
     "data": {
      "text/plain": [
       "[['a', 'b'], 3]"
      ]
     },
     "execution_count": 52,
     "metadata": {},
     "output_type": "execute_result"
    }
   ],
   "source": [
    "[[\"a\",\"b\"],3]"
   ]
  },
  {
   "cell_type": "code",
   "execution_count": 61,
   "id": "b986e4ae-0399-4fd6-868f-4c9bb9af8520",
   "metadata": {},
   "outputs": [],
   "source": [
    "ma_liste = [3,1,\"a\"]"
   ]
  },
  {
   "cell_type": "code",
   "execution_count": 66,
   "id": "7a16181e-00b9-4f8a-ad65-617dc2906964",
   "metadata": {},
   "outputs": [
    {
     "data": {
      "text/plain": [
       "[3, 1]"
      ]
     },
     "execution_count": 66,
     "metadata": {},
     "output_type": "execute_result"
    }
   ],
   "source": [
    "ma_liste[0:2]"
   ]
  },
  {
   "cell_type": "code",
   "execution_count": 67,
   "id": "b7289852-64ed-41e1-a07c-123d2a72adf2",
   "metadata": {},
   "outputs": [
    {
     "data": {
      "text/plain": [
       "3"
      ]
     },
     "execution_count": 67,
     "metadata": {},
     "output_type": "execute_result"
    }
   ],
   "source": [
    "len(ma_liste)"
   ]
  },
  {
   "cell_type": "code",
   "execution_count": 68,
   "id": "13401da4-4f87-4c43-a77f-0a0b11d19fc9",
   "metadata": {},
   "outputs": [
    {
     "data": {
      "text/plain": [
       "[1, 1, 2, 3]"
      ]
     },
     "execution_count": 68,
     "metadata": {},
     "output_type": "execute_result"
    }
   ],
   "source": [
    "[1] + [1,2,3]"
   ]
  },
  {
   "cell_type": "code",
   "execution_count": 74,
   "id": "381802b1-ae2a-499a-b63a-087b9aa028e0",
   "metadata": {},
   "outputs": [
    {
     "ename": "AttributeError",
     "evalue": "'list' object has no attribute 'upper'",
     "output_type": "error",
     "traceback": [
      "\u001b[0;31m---------------------------------------------------------------------------\u001b[0m",
      "\u001b[0;31mAttributeError\u001b[0m                            Traceback (most recent call last)",
      "Cell \u001b[0;32mIn[74], line 1\u001b[0m\n\u001b[0;32m----> 1\u001b[0m ma_liste\u001b[38;5;241m.\u001b[39mupper()\n",
      "\u001b[0;31mAttributeError\u001b[0m: 'list' object has no attribute 'upper'"
     ]
    }
   ],
   "source": [
    "ma_liste.upper()"
   ]
  },
  {
   "cell_type": "markdown",
   "id": "a14fe75a-d303-4645-b4f4-4cbfbb6e9094",
   "metadata": {},
   "source": [
    "## Ligne 5"
   ]
  },
  {
   "cell_type": "code",
   "execution_count": null,
   "id": "160c48f7-8246-4dbd-9cdf-1e2d38401491",
   "metadata": {},
   "outputs": [],
   "source": [
    "nombre_mots = len(liste_mots)"
   ]
  },
  {
   "cell_type": "code",
   "execution_count": 78,
   "id": "dcefd361-d587-4b30-9701-bdf5c17b0688",
   "metadata": {},
   "outputs": [
    {
     "data": {
      "text/plain": [
       "6"
      ]
     },
     "execution_count": 78,
     "metadata": {},
     "output_type": "execute_result"
    }
   ],
   "source": [
    "len(\"coucou\")"
   ]
  },
  {
   "cell_type": "code",
   "execution_count": 1,
   "id": "d3a8eb7b-396b-4625-8cb5-54c4215741f6",
   "metadata": {},
   "outputs": [
    {
     "name": "stdin",
     "output_type": "stream",
     "text": [
      "Écrivez une phrase:  Ceci est une phrase\n"
     ]
    }
   ],
   "source": [
    "phrase = input(\"Écrivez une phrase: \") # entrée d'une chaine de caractères par l'utilisateur avec la méthode input\n",
    "liste_mots = phrase.split(\" \") # on coupe sur les espaces en utilisant la méthode .split\n",
    "nombre_mots = len(liste_mots) # création d'une variable nombre de mots"
   ]
  },
  {
   "cell_type": "code",
   "execution_count": 2,
   "id": "7f6db600-4e6a-4cf6-8614-87172c52d7e9",
   "metadata": {},
   "outputs": [
    {
     "data": {
      "text/plain": [
       "'Ceci est une phrase'"
      ]
     },
     "execution_count": 2,
     "metadata": {},
     "output_type": "execute_result"
    }
   ],
   "source": [
    "phrase"
   ]
  },
  {
   "cell_type": "code",
   "execution_count": 3,
   "id": "92f2179d-4514-46fd-b147-a797ab5247ec",
   "metadata": {},
   "outputs": [
    {
     "data": {
      "text/plain": [
       "['Ceci', 'est', 'une', 'phrase']"
      ]
     },
     "execution_count": 3,
     "metadata": {},
     "output_type": "execute_result"
    }
   ],
   "source": [
    "liste_mots"
   ]
  },
  {
   "cell_type": "code",
   "execution_count": 4,
   "id": "dfb1df09-ae77-41a2-b61a-54fe04c190dd",
   "metadata": {},
   "outputs": [
    {
     "data": {
      "text/plain": [
       "4"
      ]
     },
     "execution_count": 4,
     "metadata": {},
     "output_type": "execute_result"
    }
   ],
   "source": [
    "len(liste_mots)"
   ]
  },
  {
   "cell_type": "code",
   "execution_count": 5,
   "id": "7d9d3eb2-045c-4e9b-9324-e5fb52828282",
   "metadata": {},
   "outputs": [
    {
     "data": {
      "text/plain": [
       "4"
      ]
     },
     "execution_count": 5,
     "metadata": {},
     "output_type": "execute_result"
    }
   ],
   "source": [
    "nombre_mots"
   ]
  },
  {
   "cell_type": "code",
   "execution_count": null,
   "id": "2b8c8ca3-6b58-4e17-a2fd-d1b868d1304e",
   "metadata": {},
   "outputs": [],
   "source": []
  },
  {
   "cell_type": "markdown",
   "id": "e0ddf235-43ba-4edb-9161-d250a88ddc4e",
   "metadata": {},
   "source": [
    "## Conditions"
   ]
  },
  {
   "cell_type": "code",
   "execution_count": null,
   "id": "951774b4-fb34-4c6d-b002-cf799617aaff",
   "metadata": {},
   "outputs": [],
   "source": [
    "if len(phrase) == 0:\n",
    "    print(\"Vous n'avez rien écrit\")"
   ]
  },
  {
   "cell_type": "markdown",
   "id": "746360a6-c8e2-43c3-a3c5-89c141c5f215",
   "metadata": {},
   "source": [
    "La structure d'embranchement\n",
    "\n",
    "```\n",
    "\n",
    "SI [EXPRESSION VRAIE]:\n",
    "    FAIRE CECI\n",
    "```\n",
    "\n",
    "```python\n",
    "\n",
    "if [EXPRESSION TRUE]:\n",
    "    code\n",
    "\n",
    "```"
   ]
  },
  {
   "cell_type": "code",
   "execution_count": 11,
   "id": "86f0125f-b273-4bc7-bdfb-e57a66dc7d9b",
   "metadata": {},
   "outputs": [
    {
     "name": "stdout",
     "output_type": "stream",
     "text": [
      "coucou\n"
     ]
    }
   ],
   "source": [
    "expression = 3 < 4\n",
    "if expression:\n",
    "    expression = 10\n",
    "    print(\"coucou\")\n",
    "else:\n",
    "    expression = 0\n",
    "    print(\"Pas coucou\")"
   ]
  },
  {
   "cell_type": "markdown",
   "id": "3ee03893-7f4f-4df9-a952-60ca0ab07ac4",
   "metadata": {},
   "source": [
    "### Remarque\n",
    "\n",
    "- = est l'attribution\n",
    "- == est l'évaluation de l'égalit"
   ]
  },
  {
   "cell_type": "code",
   "execution_count": 13,
   "id": "6777f800-2a9c-4554-90a4-44810d962430",
   "metadata": {},
   "outputs": [
    {
     "data": {
      "text/plain": [
       "False"
      ]
     },
     "execution_count": 13,
     "metadata": {},
     "output_type": "execute_result"
    }
   ],
   "source": [
    "1 == 10"
   ]
  },
  {
   "cell_type": "code",
   "execution_count": 14,
   "id": "ac0eabc0-f017-426b-b6a9-48d5e84692bd",
   "metadata": {},
   "outputs": [],
   "source": [
    "a = 10"
   ]
  },
  {
   "cell_type": "code",
   "execution_count": 15,
   "id": "05892709-b40c-47b7-8a21-4059a32a726d",
   "metadata": {},
   "outputs": [
    {
     "ename": "SyntaxError",
     "evalue": "cannot assign to literal here. Maybe you meant '==' instead of '='? (2881337615.py, line 1)",
     "output_type": "error",
     "traceback": [
      "\u001b[0;36m  Cell \u001b[0;32mIn[15], line 1\u001b[0;36m\u001b[0m\n\u001b[0;31m    1 = 10\u001b[0m\n\u001b[0m    ^\u001b[0m\n\u001b[0;31mSyntaxError\u001b[0m\u001b[0;31m:\u001b[0m cannot assign to literal here. Maybe you meant '==' instead of '='?\n"
     ]
    }
   ],
   "source": [
    "1 = 10"
   ]
  },
  {
   "cell_type": "code",
   "execution_count": 16,
   "id": "a90ee8d0-3fe7-4363-91ad-ee1d2ac53609",
   "metadata": {},
   "outputs": [],
   "source": [
    "phrase = 10"
   ]
  },
  {
   "cell_type": "code",
   "execution_count": 17,
   "id": "36b7eadb-9e68-4394-b041-0d0a68ccb30a",
   "metadata": {},
   "outputs": [
    {
     "data": {
      "text/plain": [
       "int"
      ]
     },
     "execution_count": 17,
     "metadata": {},
     "output_type": "execute_result"
    }
   ],
   "source": [
    "type(phrase)"
   ]
  },
  {
   "cell_type": "markdown",
   "id": "b07a2e70-67cc-422d-a3c9-07c66f32aac1",
   "metadata": {},
   "source": [
    "## Les boucles"
   ]
  },
  {
   "cell_type": "markdown",
   "id": "280e38ba-1440-414e-ac25-7001beada24b",
   "metadata": {},
   "source": [
    "```python\n",
    "\n",
    "for ELEMENT in LISTE_ELEMENTS:\n",
    "    FAIRE DES TRUCS AVEC L'ELEMENT\n",
    "\n",
    "```"
   ]
  },
  {
   "cell_type": "code",
   "execution_count": 54,
   "id": "b0a790d1-75e6-40c3-8493-b7205ead209a",
   "metadata": {},
   "outputs": [
    {
     "name": "stdout",
     "output_type": "stream",
     "text": [
      "Coucou Eliane\n",
      "Coucou Robin\n",
      "Coucou Mehdi\n",
      "Coucou Emilien\n"
     ]
    }
   ],
   "source": [
    "liste_noms = [\"Eliane\", \"Robin\", \"Mehdi\", \"Emilien\"]\n",
    "for nom in liste_noms       :\n",
    "    print(\"Coucou \" + nom)"
   ]
  },
  {
   "cell_type": "code",
   "execution_count": 20,
   "id": "87461d4f-9d58-4e4b-8bbc-f77491fadeda",
   "metadata": {},
   "outputs": [
    {
     "name": "stdout",
     "output_type": "stream",
     "text": [
      "Coucou Eliane\n",
      "Coucou Robin\n",
      "Coucou Mehdi\n",
      "Coucou Emilien\n"
     ]
    }
   ],
   "source": [
    "print(\"Coucou \" + \"Eliane\")\n",
    "print(\"Coucou \" + \"Robin\")\n",
    "print(\"Coucou \" + \"Mehdi\")\n",
    "print(\"Coucou \" + \"Emilien\")"
   ]
  },
  {
   "cell_type": "code",
   "execution_count": 25,
   "id": "d78a9ffb-a084-422d-bcf1-878bf3d0b66a",
   "metadata": {},
   "outputs": [
    {
     "name": "stdout",
     "output_type": "stream",
     "text": [
      "5\n",
      "6\n",
      "7\n",
      "8\n"
     ]
    }
   ],
   "source": [
    "for nombre in range(5, 9):\n",
    "    print(nombre)"
   ]
  },
  {
   "cell_type": "code",
   "execution_count": 28,
   "id": "1f77b6a6-add5-4b37-bf4b-daf3665441f2",
   "metadata": {},
   "outputs": [
    {
     "data": {
      "text/plain": [
       "['Test', 'ceci', 'est', 'un', 'test']"
      ]
     },
     "execution_count": 28,
     "metadata": {},
     "output_type": "execute_result"
    }
   ],
   "source": [
    "liste_mots"
   ]
  },
  {
   "cell_type": "code",
   "execution_count": 29,
   "id": "129b630d-6f1d-4f09-8530-25402cc93d73",
   "metadata": {},
   "outputs": [
    {
     "data": {
      "text/plain": [
       "4"
      ]
     },
     "execution_count": 29,
     "metadata": {},
     "output_type": "execute_result"
    }
   ],
   "source": [
    "nombre_min_lettres"
   ]
  },
  {
   "cell_type": "code",
   "execution_count": 33,
   "id": "80694c0b-018a-4283-a400-4d3936d5f137",
   "metadata": {},
   "outputs": [
    {
     "data": {
      "text/plain": [
       "3"
      ]
     },
     "execution_count": 33,
     "metadata": {},
     "output_type": "execute_result"
    }
   ],
   "source": [
    "compteur = 0 # compteur à 0\n",
    "for element in liste_mots: # boucle sur les éléments\n",
    "    if len(element) >= nombre_min_lettres: # si une condition est vérifiée\n",
    "        compteur+=1 # augmenter le compteur de 1\n",
    "del element\n",
    "compteur "
   ]
  },
  {
   "cell_type": "code",
   "execution_count": 34,
   "id": "730da2cf-c8e1-401a-90ec-5a1332dc7d1f",
   "metadata": {},
   "outputs": [
    {
     "ename": "NameError",
     "evalue": "name 'element' is not defined",
     "output_type": "error",
     "traceback": [
      "\u001b[0;31m---------------------------------------------------------------------------\u001b[0m",
      "\u001b[0;31mNameError\u001b[0m                                 Traceback (most recent call last)",
      "Cell \u001b[0;32mIn[34], line 1\u001b[0m\n\u001b[0;32m----> 1\u001b[0m element\n",
      "\u001b[0;31mNameError\u001b[0m: name 'element' is not defined"
     ]
    }
   ],
   "source": [
    "element"
   ]
  },
  {
   "cell_type": "code",
   "execution_count": 36,
   "id": "40dccfe0-4420-49b9-8eb4-2edfa2d1c7a9",
   "metadata": {},
   "outputs": [
    {
     "data": {
      "text/plain": [
       "True"
      ]
     },
     "execution_count": 36,
     "metadata": {},
     "output_type": "execute_result"
    }
   ],
   "source": [
    "1 >= 1"
   ]
  },
  {
   "cell_type": "markdown",
   "id": "4ab3b5ae-6240-425d-a5e1-7c16479a81d5",
   "metadata": {},
   "source": [
    "## Ligne X"
   ]
  },
  {
   "cell_type": "code",
   "execution_count": null,
   "id": "1f839c1e-eba9-473a-bdd4-6b3f4617d87d",
   "metadata": {},
   "outputs": [],
   "source": [
    "proportion = round(100*compteur/nombre_mots,2)"
   ]
  },
  {
   "cell_type": "code",
   "execution_count": 42,
   "id": "3ab62227-10ea-4262-bc1d-8ef37c99a943",
   "metadata": {},
   "outputs": [
    {
     "data": {
      "text/plain": [
       "60.0"
      ]
     },
     "execution_count": 42,
     "metadata": {},
     "output_type": "execute_result"
    }
   ],
   "source": [
    "round(100*compteur/nombre_mots,2)"
   ]
  },
  {
   "cell_type": "code",
   "execution_count": 43,
   "id": "552a6fc3-ea8e-48c2-813d-2417bbfa8bdb",
   "metadata": {},
   "outputs": [
    {
     "data": {
      "text/plain": [
       "\u001b[0;31mSignature:\u001b[0m \u001b[0mround\u001b[0m\u001b[0;34m(\u001b[0m\u001b[0mnumber\u001b[0m\u001b[0;34m,\u001b[0m \u001b[0mndigits\u001b[0m\u001b[0;34m=\u001b[0m\u001b[0;32mNone\u001b[0m\u001b[0;34m)\u001b[0m\u001b[0;34m\u001b[0m\u001b[0;34m\u001b[0m\u001b[0m\n",
       "\u001b[0;31mDocstring:\u001b[0m\n",
       "Round a number to a given precision in decimal digits.\n",
       "\n",
       "The return value is an integer if ndigits is omitted or None.  Otherwise\n",
       "the return value has the same type as the number.  ndigits may be negative.\n",
       "\u001b[0;31mType:\u001b[0m      builtin_function_or_method"
      ]
     },
     "metadata": {},
     "output_type": "display_data"
    }
   ],
   "source": [
    "round?"
   ]
  },
  {
   "cell_type": "markdown",
   "id": "bc08dc8e-bc12-42c7-9a4c-0ba69382e018",
   "metadata": {},
   "source": [
    "## Les dictionnaires"
   ]
  },
  {
   "cell_type": "markdown",
   "id": "1e0a03b2-72f1-4d0e-afde-2887e81f4945",
   "metadata": {},
   "source": [
    "```python\n",
    "{clé:valeurs}\n",
    "```"
   ]
  },
  {
   "cell_type": "code",
   "execution_count": 52,
   "id": "edb1e6a6-6729-4939-adbb-2f7acd48cbc5",
   "metadata": {},
   "outputs": [],
   "source": [
    "dic = { \n",
    "       \"vélo\":\"dérailleur\",\n",
    "       \"trottinette\":\"batterie\"\n",
    "      }"
   ]
  },
  {
   "cell_type": "code",
   "execution_count": 46,
   "id": "ea754507-5875-4213-85c2-641559074b1f",
   "metadata": {},
   "outputs": [
    {
     "data": {
      "text/plain": [
       "dict"
      ]
     },
     "execution_count": 46,
     "metadata": {},
     "output_type": "execute_result"
    }
   ],
   "source": [
    "type(dic)"
   ]
  },
  {
   "cell_type": "code",
   "execution_count": 47,
   "id": "6ecaf16e-8095-4e78-9399-d20852885ed4",
   "metadata": {},
   "outputs": [
    {
     "data": {
      "text/plain": [
       "'dérailleur'"
      ]
     },
     "execution_count": 47,
     "metadata": {},
     "output_type": "execute_result"
    }
   ],
   "source": [
    "dic[\"vélo\"]"
   ]
  },
  {
   "cell_type": "code",
   "execution_count": 48,
   "id": "0b075ad3-23d3-4b2a-9f71-15f83272b19b",
   "metadata": {},
   "outputs": [
    {
     "data": {
      "text/plain": [
       "2"
      ]
     },
     "execution_count": 48,
     "metadata": {},
     "output_type": "execute_result"
    }
   ],
   "source": [
    "len(dic)"
   ]
  },
  {
   "cell_type": "markdown",
   "id": "3252b75c-772e-4ec1-bb1d-7f24732d4162",
   "metadata": {},
   "source": [
    "## Mise en forme de la sortie écran"
   ]
  },
  {
   "cell_type": "code",
   "execution_count": 58,
   "id": "f7eda8ed-06f2-4dd1-a407-e617fcf8854c",
   "metadata": {},
   "outputs": [
    {
     "data": {
      "text/plain": [
       "'Proportion de mots avec 3 lettres ou plus : 80.0'"
      ]
     },
     "execution_count": 58,
     "metadata": {},
     "output_type": "execute_result"
    }
   ],
   "source": [
    "f\"Proportion de mots avec {nombre_min_lettres} lettres ou plus : {proportion}\""
   ]
  },
  {
   "cell_type": "code",
   "execution_count": 59,
   "id": "54aff90d-5bb7-4c87-b48b-809b04c95df9",
   "metadata": {
    "scrolled": true
   },
   "outputs": [
    {
     "data": {
      "text/plain": [
       "'Proportion de mots avec 3 lettres ou plus : 80.0'"
      ]
     },
     "execution_count": 59,
     "metadata": {},
     "output_type": "execute_result"
    }
   ],
   "source": [
    "\"Proportion de mots avec \" + str(nombre_min_lettres) + \" lettres ou plus : \" + str(proportion)"
   ]
  },
  {
   "cell_type": "markdown",
   "id": "0c34941c-e147-4efe-ac70-52fcf4c26c1a",
   "metadata": {},
   "source": [
    "## Entrées/Sorties"
   ]
  },
  {
   "cell_type": "markdown",
   "id": "1e2d5989-d5e3-4149-90ff-ecb9ca2e4ed1",
   "metadata": {},
   "source": [
    "Démarche d'écriture :\n",
    "\n",
    "- ouvrir le fichier soit en lecture, soit en écriture\n",
    "- faire une opération (lire, écrire)\n",
    "- fermer le fichier"
   ]
  },
  {
   "cell_type": "markdown",
   "id": "4db1a7b0-a128-4c76-82ed-fc3617519532",
   "metadata": {},
   "source": []
  },
  {
   "cell_type": "code",
   "execution_count": 73,
   "id": "e71723ae-6236-4051-ae7c-b5033a56ec60",
   "metadata": {},
   "outputs": [],
   "source": [
    "fichier = open(\"nom_de_mon_fichier.txt\",\"a\")\n",
    "fichier.write(\"Au revoir\")\n",
    "fichier.close()"
   ]
  },
  {
   "cell_type": "code",
   "execution_count": 74,
   "id": "1cccbfd0-5193-42df-8795-72f66cb0031d",
   "metadata": {},
   "outputs": [
    {
     "name": "stdout",
     "output_type": "stream",
     "text": [
      "Au revoirAu revoir\n"
     ]
    }
   ],
   "source": [
    "fichier = open(\"nom_de_mon_fichier.txt\",\"r\")\n",
    "print(fichier.read())\n",
    "fichier.close()"
   ]
  },
  {
   "cell_type": "markdown",
   "id": "00758dea-2269-455f-85f5-da8bba12b4ec",
   "metadata": {},
   "source": [
    "Un objet de type \"tunnel vers un fichier\""
   ]
  },
  {
   "cell_type": "code",
   "execution_count": 75,
   "id": "b1440072-d76f-48a9-9c1b-22533a4d6cec",
   "metadata": {},
   "outputs": [
    {
     "data": {
      "text/plain": [
       "_io.TextIOWrapper"
      ]
     },
     "execution_count": 75,
     "metadata": {},
     "output_type": "execute_result"
    }
   ],
   "source": [
    "type(fichier)"
   ]
  },
  {
   "cell_type": "code",
   "execution_count": null,
   "id": "f44039e6-5c86-4186-aa53-a403b55f3141",
   "metadata": {},
   "outputs": [],
   "source": []
  },
  {
   "cell_type": "markdown",
   "id": "83690f7d-b31c-4058-b325-14e4e6e872af",
   "metadata": {},
   "source": [
    "## Définir une fonctionb"
   ]
  },
  {
   "cell_type": "markdown",
   "id": "6580acd0-bbce-409a-a69f-215e8c8fdaa7",
   "metadata": {},
   "source": [
    "- Des paramètres d'entrées (les arguments)\n",
    "- Une opération/des opérations\n",
    "- Des résultats de retours\n",
    "\n",
    "```python\n",
    "\n",
    "def compter_mots(texte: str, seuil: int):\n",
    "    \"\"\"\n",
    "    Calculer la proportion de mots de plus de [seuil] lettres\n",
    "    \"\"\"\n",
    "    OPERATIONS 1\n",
    "    OPERATIONS 2\n",
    "    ...\n",
    "    return pourcentage\n",
    "```"
   ]
  },
  {
   "cell_type": "code",
   "execution_count": 87,
   "id": "623424aa-757e-4d77-b503-ef1e456e11c1",
   "metadata": {},
   "outputs": [],
   "source": [
    "def compter_mots(texte: str, seuil: int = 4):\n",
    "    \"\"\"\n",
    "    Calculer la proportion de mots de plus de [seuil] lettres\n",
    "    \"\"\"\n",
    "    liste_mots = texte.split(\" \")\n",
    "    nombre_mots = len(liste_mots)\n",
    "    longueur_phrase = len(texte)\n",
    "    if  longueur_phrase == 0: \n",
    "        return None    \n",
    "    else:\n",
    "        compteur = 0\n",
    "        for i in liste_mots:\n",
    "            if len(i) >= seuil:\n",
    "                compteur+=1    \n",
    "        proportion = round(100*compteur/nombre_mots,2)\n",
    "        return proportion"
   ]
  },
  {
   "cell_type": "code",
   "execution_count": 83,
   "id": "59f3540c-0cbb-459e-b79e-786258336c56",
   "metadata": {},
   "outputs": [
    {
     "data": {
      "text/plain": [
       "0.0"
      ]
     },
     "execution_count": 83,
     "metadata": {},
     "output_type": "execute_result"
    }
   ],
   "source": [
    "compter_mots(\"Ceci est un texte\", 10)"
   ]
  },
  {
   "cell_type": "code",
   "execution_count": 86,
   "id": "034a611f-015f-4769-bfbd-566764efcd5c",
   "metadata": {},
   "outputs": [
    {
     "name": "stdout",
     "output_type": "stream",
     "text": [
      "55.68\n"
     ]
    }
   ],
   "source": [
    "with open(\"texte.txt\",\"r\") as f:\n",
    "    print(compter_mots(f.read(),4))"
   ]
  },
  {
   "cell_type": "code",
   "execution_count": null,
   "id": "2e155a7a-68f4-4568-a854-5bd59022825c",
   "metadata": {},
   "outputs": [],
   "source": []
  }
 ],
 "metadata": {
  "kernelspec": {
   "display_name": "Python 3 (ipykernel)",
   "language": "python",
   "name": "python3"
  },
  "language_info": {
   "codemirror_mode": {
    "name": "ipython",
    "version": 3
   },
   "file_extension": ".py",
   "mimetype": "text/x-python",
   "name": "python",
   "nbconvert_exporter": "python",
   "pygments_lexer": "ipython3",
   "version": "3.11.7"
  }
 },
 "nbformat": 4,
 "nbformat_minor": 5
}
