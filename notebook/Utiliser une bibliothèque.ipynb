{
 "cells": [
  {
   "cell_type": "markdown",
   "id": "fbd03973-ae45-4705-aeb1-29b25dd0b95d",
   "metadata": {},
   "source": [
    "# Installer et utiliser une bibliothèque pour du scrapping"
   ]
  },
  {
   "cell_type": "markdown",
   "id": "a5bc0fc9-e934-42c1-95e7-c0b5ed1179c6",
   "metadata": {},
   "source": [
    "## Installer une bibliothèque"
   ]
  },
  {
   "cell_type": "code",
   "execution_count": 1,
   "id": "1c265c25-ebfe-40f6-bd99-e3100859abda",
   "metadata": {},
   "outputs": [
    {
     "name": "stdout",
     "output_type": "stream",
     "text": [
      "Requirement already satisfied: requests in /opt/anaconda3/lib/python3.11/site-packages (2.32.3)\n",
      "Requirement already satisfied: charset-normalizer<4,>=2 in /opt/anaconda3/lib/python3.11/site-packages (from requests) (3.4.0)\n",
      "Requirement already satisfied: idna<4,>=2.5 in /opt/anaconda3/lib/python3.11/site-packages (from requests) (3.4)\n",
      "Requirement already satisfied: urllib3<3,>=1.21.1 in /opt/anaconda3/lib/python3.11/site-packages (from requests) (1.26.18)\n",
      "Requirement already satisfied: certifi>=2017.4.17 in /opt/anaconda3/lib/python3.11/site-packages (from requests) (2024.2.2)\n",
      "Note: you may need to restart the kernel to use updated packages.\n"
     ]
    }
   ],
   "source": [
    "pip install requests"
   ]
  },
  {
   "cell_type": "code",
   "execution_count": 2,
   "id": "8a715042-a335-4e7b-af86-4b0347d79812",
   "metadata": {},
   "outputs": [],
   "source": [
    "import requests"
   ]
  },
  {
   "cell_type": "code",
   "execution_count": 3,
   "id": "ccaa6d88-6ef6-4c0f-b4f3-14276dc0c33a",
   "metadata": {},
   "outputs": [],
   "source": [
    "url = \"https://www.univ-lille.fr/\""
   ]
  },
  {
   "cell_type": "code",
   "execution_count": 4,
   "id": "252a9f04-8ffb-4a7a-88df-85e2c037d3c8",
   "metadata": {},
   "outputs": [],
   "source": [
    "r = requests.get(url)"
   ]
  },
  {
   "cell_type": "code",
   "execution_count": 5,
   "id": "68d3bfec-0044-48a3-af06-3f3d2615f5c2",
   "metadata": {},
   "outputs": [
    {
     "data": {
      "text/plain": [
       "<Response [200]>"
      ]
     },
     "execution_count": 5,
     "metadata": {},
     "output_type": "execute_result"
    }
   ],
   "source": [
    "r"
   ]
  },
  {
   "cell_type": "code",
   "execution_count": 6,
   "id": "50962bbd-1c11-4fdf-800e-606ebf1c57a7",
   "metadata": {},
   "outputs": [
    {
     "data": {
      "text/plain": [
       "requests.models.Response"
      ]
     },
     "execution_count": 6,
     "metadata": {},
     "output_type": "execute_result"
    }
   ],
   "source": [
    "type(r)"
   ]
  },
  {
   "cell_type": "code",
   "execution_count": 9,
   "id": "a7f2dd9b-55a0-48e6-a67a-5c8a4f298de4",
   "metadata": {},
   "outputs": [],
   "source": [
    "with open(\"page_univ_lille.html\",\"w\") as file:\n",
    "    file.write(str(r.content))"
   ]
  },
  {
   "cell_type": "code",
   "execution_count": 10,
   "id": "7aa2e23d-b7c3-46fb-a080-2087d54c304f",
   "metadata": {},
   "outputs": [],
   "source": [
    "contenu = str(r.content)"
   ]
  },
  {
   "cell_type": "code",
   "execution_count": 11,
   "id": "e9d45e80-6777-4ed8-b813-6dbccfc86152",
   "metadata": {},
   "outputs": [
    {
     "data": {
      "text/plain": [
       "143463"
      ]
     },
     "execution_count": 11,
     "metadata": {},
     "output_type": "execute_result"
    }
   ],
   "source": [
    "len(contenu)"
   ]
  },
  {
   "cell_type": "code",
   "execution_count": 13,
   "id": "5ec2720f-58c2-4d94-87fc-845e3864f64e",
   "metadata": {},
   "outputs": [
    {
     "data": {
      "text/plain": [
       "1"
      ]
     },
     "execution_count": 13,
     "metadata": {},
     "output_type": "execute_result"
    }
   ],
   "source": [
    "(contenu.lower()).count(\"science ouverte\")"
   ]
  },
  {
   "cell_type": "code",
   "execution_count": null,
   "id": "16530c6e-abd8-48ae-addc-9a64cb5d5058",
   "metadata": {},
   "outputs": [],
   "source": []
  },
  {
   "cell_type": "code",
   "execution_count": 15,
   "id": "3dea1c88-d924-4400-8133-8626e0066fe2",
   "metadata": {},
   "outputs": [
    {
     "data": {
      "text/plain": [
       "1"
      ]
     },
     "execution_count": 15,
     "metadata": {},
     "output_type": "execute_result"
    }
   ],
   "source": [
    "str(requests.get(\"https://www.univ-lille.fr/\").content).lower().count(\"science ouverte\")"
   ]
  },
  {
   "cell_type": "code",
   "execution_count": 18,
   "id": "e2f7cb07-f388-4d76-8206-f15103fc533d",
   "metadata": {},
   "outputs": [
    {
     "name": "stdout",
     "output_type": "stream",
     "text": [
      "science ouverte 1\n",
      "sciences ouvertes 0\n"
     ]
    }
   ],
   "source": [
    "contenu = str(requests.get(\"https://www.univ-lille.fr/\").text).lower()\n",
    "for i in [\"science ouverte\",\"sciences ouvertes\"]:\n",
    "    print(i, contenu.count(i))"
   ]
  }
 ],
 "metadata": {
  "kernelspec": {
   "display_name": "Python 3 (ipykernel)",
   "language": "python",
   "name": "python3"
  },
  "language_info": {
   "codemirror_mode": {
    "name": "ipython",
    "version": 3
   },
   "file_extension": ".py",
   "mimetype": "text/x-python",
   "name": "python",
   "nbconvert_exporter": "python",
   "pygments_lexer": "ipython3",
   "version": "3.11.7"
  }
 },
 "nbformat": 4,
 "nbformat_minor": 5
}
