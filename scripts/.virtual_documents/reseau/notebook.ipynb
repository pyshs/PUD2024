import itertools
import pandas as pd
import networkx as nx
from ipysigma import Sigma

# If needed, enable ipysigma extension
#!jupyter labextension enable ipysigma
#!jupyter labextension enable ipysigma user
#!jupyter labextension enable ipysigma sys-prefix


# Lire le fichier
df = pd.read_csv("data.csv", index_col=0)
df.head()


# Construire le réseau
repondants = list(df["NOM"])
data = df.apply(lambda x : [j for j in list(x) if str(j) != "nan" and j in repondants], axis = 1)

reseau = nx.Graph()
for line in data:
    for n in line:
        if reseau.has_node(n):
            reseau.nodes[n]["weight"] +=1
        else:
            reseau.add_node(n,weight=1)
    for p in itertools.combinations(line,2):
        if reseau.has_edge(p[0],p[1]):
            reseau.edges[p]["weight"] += 1
        else:
            reseau.add_edge(p[0],p[1], weight=1)
            
nx.write_graphml(reseau, "reseau.graphml")
print(reseau)


# Visualiser le réseau
Sigma(reseau, node_size = "weight")
